{
 "cells": [
  {
   "cell_type": "code",
   "execution_count": 0,
   "metadata": {
    "colab": {},
    "colab_type": "code",
    "collapsed": true,
    "id": "k4i7UDH919kL"
   },
   "outputs": [],
   "source": [
    "import pandas as pd"
   ]
  },
  {
   "cell_type": "code",
   "execution_count": 0,
   "metadata": {
    "colab": {},
    "colab_type": "code",
    "collapsed": true,
    "id": "RYv8pJ0nA7-v"
   },
   "outputs": [],
   "source": [
    "pd_train = pd.read_csv(\"Dataset/arxiv/train_all.csv\",dtype=\"str\")"
   ]
  },
  {
   "cell_type": "code",
   "execution_count": 0,
   "metadata": {
    "colab": {},
    "colab_type": "code",
    "collapsed": true,
    "id": "HglJaUiUi708"
   },
   "outputs": [],
   "source": [
    "pd_test = pd.read_csv(\"Dataset/arxiv/test_all.csv\",dtype=\"str\")"
   ]
  },
  {
   "cell_type": "code",
   "execution_count": 0,
   "metadata": {
    "colab": {
     "base_uri": "https://localhost:8080/",
     "height": 34
    },
    "colab_type": "code",
    "id": "jSekhlzYnRuA",
    "outputId": "d8923a99-a6a1-4e04-dbaa-35d4097c0a38"
   },
   "outputs": [
    {
     "data": {
      "text/plain": [
       "(200092, 10)"
      ]
     },
     "execution_count": 7,
     "metadata": {
      "tags": []
     },
     "output_type": "execute_result"
    }
   ],
   "source": [
    "pd_train.shape"
   ]
  },
  {
   "cell_type": "code",
   "execution_count": 0,
   "metadata": {
    "colab": {
     "base_uri": "https://localhost:8080/",
     "height": 34
    },
    "colab_type": "code",
    "id": "UNzJd7A2FPeM",
    "outputId": "4558a5fb-e61b-4905-cc1d-4289b45a17c9"
   },
   "outputs": [
    {
     "data": {
      "text/plain": [
       "(37125, 10)"
      ]
     },
     "execution_count": 8,
     "metadata": {
      "tags": []
     },
     "output_type": "execute_result"
    }
   ],
   "source": [
    "pd_test.shape"
   ]
  },
  {
   "cell_type": "markdown",
   "metadata": {
    "colab_type": "text",
    "id": "VCgx4jXHj-6r"
   },
   "source": [
    "Clean up abstract using noun only phrase"
   ]
  },
  {
   "cell_type": "code",
   "execution_count": 0,
   "metadata": {
    "colab": {
     "base_uri": "https://localhost:8080/",
     "height": 153
    },
    "colab_type": "code",
    "id": "KTpdT-x1lyTp",
    "outputId": "d53f5ac0-c9e7-458e-f8f5-d2feb455ef68"
   },
   "outputs": [
    {
     "name": "stdout",
     "output_type": "stream",
     "text": [
      "[nltk_data] Downloading package punkt to /root/nltk_data...\n",
      "[nltk_data]   Unzipping tokenizers/punkt.zip.\n",
      "[nltk_data] Downloading package averaged_perceptron_tagger to\n",
      "[nltk_data]     /root/nltk_data...\n",
      "[nltk_data]   Unzipping taggers/averaged_perceptron_tagger.zip.\n",
      "[nltk_data] Downloading package stopwords to /root/nltk_data...\n",
      "[nltk_data]   Unzipping corpora/stopwords.zip.\n"
     ]
    },
    {
     "data": {
      "text/plain": [
       "True"
      ]
     },
     "execution_count": 9,
     "metadata": {
      "tags": []
     },
     "output_type": "execute_result"
    }
   ],
   "source": [
    "import nltk\n",
    "from nltk.corpus import stopwords\n",
    "from nltk.tokenize import word_tokenize\n",
    "from nltk.util import ngrams\n",
    "nltk.download('punkt')\n",
    "nltk.download('averaged_perceptron_tagger')\n",
    "nltk.download('stopwords')"
   ]
  },
  {
   "cell_type": "code",
   "execution_count": 0,
   "metadata": {
    "colab": {},
    "colab_type": "code",
    "collapsed": true,
    "id": "ZzR6AvzFrUMY"
   },
   "outputs": [],
   "source": [
    "#abs_noun_clean = abstract_noun.apply(lambda x:alphabetic_only_l(x))"
   ]
  },
  {
   "cell_type": "code",
   "execution_count": 0,
   "metadata": {
    "colab": {},
    "colab_type": "code",
    "collapsed": true,
    "id": "AaYWBsJl9o4c"
   },
   "outputs": [],
   "source": [
    "#abs_noun_clean_test = abstract_noun_test.apply(lambda x:alphabetic_only_l(x))"
   ]
  },
  {
   "cell_type": "code",
   "execution_count": 0,
   "metadata": {
    "colab": {},
    "colab_type": "code",
    "collapsed": true,
    "id": "oWpiT7DtrXP5"
   },
   "outputs": [],
   "source": [
    "import pickle\n",
    "#with open(\"Dataset/arxiv/abstract_noun_clean.pickle\",\"wb\") as file:\n",
    "#  pickle.dump((abs_noun_clean,abs_noun_clean_test),file)\n",
    "with open(\"Dataset/arxiv/abstract_noun_clean_strat.pickle\",\"rb\") as file:\n",
    "  (abs_noun_clean,abs_noun_clean_test) = pickle.load(file)"
   ]
  },
  {
   "cell_type": "code",
   "execution_count": 0,
   "metadata": {
    "colab": {},
    "colab_type": "code",
    "collapsed": true,
    "id": "xgLlhl5HPVfP"
   },
   "outputs": [],
   "source": [
    "# clean abstract noun so it will contain only alphabetic char\n",
    "\n",
    "# use english stop_words\n",
    "stop_words =  list(stopwords.words('english'))\n",
    "\n",
    "def alphabetic_only_l(x_string):\n",
    "  list_sent = []    \n",
    "  for word in x_string.lower().split(\" \"):\n",
    "    # remove all tokens that are not alphabetic\n",
    "    #print(tokens)\n",
    "    if word.isalpha() and word not in stop_words:\n",
    "      list_sent.append(word)\n",
    "  return \" \".join(list_sent)"
   ]
  },
  {
   "cell_type": "code",
   "execution_count": 0,
   "metadata": {
    "colab": {},
    "colab_type": "code",
    "collapsed": true,
    "id": "Ejix081jsZFS"
   },
   "outputs": [],
   "source": [
    "# features/words chooser using tfidf\n",
    "def sent_convert(x_string):\n",
    "  list_sent = []\n",
    "  for sent in x_string:\n",
    "    # remove all tokens that are not alphabetic    \n",
    "    list_sent.append(\" \".join(sent))    \n",
    "  return \" \".join(list_sent)\n",
    "\n",
    "abs_noun_sent = abs_noun_clean.apply(lambda x:sent_convert(x))"
   ]
  },
  {
   "cell_type": "code",
   "execution_count": 0,
   "metadata": {
    "colab": {
     "base_uri": "https://localhost:8080/",
     "height": 34
    },
    "colab_type": "code",
    "id": "-UhjKUZYTPSh",
    "outputId": "5a7f44ef-12da-4e16-cd33-290715cf7d6e"
   },
   "outputs": [
    {
     "data": {
      "text/plain": [
       "'Wavelets and graph $C^*$-algebras'"
      ]
     },
     "execution_count": 15,
     "metadata": {
      "tags": []
     },
     "output_type": "execute_result"
    }
   ],
   "source": [
    "pd_train.iloc[9].title"
   ]
  },
  {
   "cell_type": "code",
   "execution_count": 0,
   "metadata": {
    "colab": {},
    "colab_type": "code",
    "collapsed": true,
    "id": "uKxokY0uPccP"
   },
   "outputs": [],
   "source": [
    "title_clean = pd_train.title.apply(lambda x:alphabetic_only_l(x))"
   ]
  },
  {
   "cell_type": "code",
   "execution_count": 0,
   "metadata": {
    "colab": {
     "base_uri": "https://localhost:8080/",
     "height": 119
    },
    "colab_type": "code",
    "id": "p-FeDIBkTzmi",
    "outputId": "b984136c-8aaa-49b0-9539-c62fc0496800"
   },
   "outputs": [
    {
     "data": {
      "text/plain": [
       "0    combinatorial formulas certain sequences multi...\n",
       "1    efficient symmetrized dmrg algorithm excited s...\n",
       "2    study seyfert galaxies strong lines using larg...\n",
       "3             note proper affine symmetry bianchi type\n",
       "4                rapid rotational relaxation magnetars\n",
       "Name: title, dtype: object"
      ]
     },
     "execution_count": 17,
     "metadata": {
      "tags": []
     },
     "output_type": "execute_result"
    }
   ],
   "source": [
    "title_clean.head()"
   ]
  },
  {
   "cell_type": "code",
   "execution_count": 0,
   "metadata": {
    "colab": {},
    "colab_type": "code",
    "collapsed": true,
    "id": "rLxvhHs09woQ"
   },
   "outputs": [],
   "source": [
    "abs_noun_sent_test = abs_noun_clean_test.apply(lambda x:sent_convert(x))"
   ]
  },
  {
   "cell_type": "code",
   "execution_count": 0,
   "metadata": {
    "colab": {},
    "colab_type": "code",
    "collapsed": true,
    "id": "mgd6ahG3ZKae"
   },
   "outputs": [],
   "source": [
    "title_clean_test = pd_test.title.apply(lambda x:alphabetic_only_l(x))"
   ]
  },
  {
   "cell_type": "code",
   "execution_count": 0,
   "metadata": {
    "colab": {},
    "colab_type": "code",
    "collapsed": true,
    "id": "IAERrdyUm1JG"
   },
   "outputs": [],
   "source": [
    "abs_noun_title = title_clean +\" \"+abs_noun_sent"
   ]
  },
  {
   "cell_type": "code",
   "execution_count": 0,
   "metadata": {
    "colab": {},
    "colab_type": "code",
    "collapsed": true,
    "id": "NohvBtRIZPw-"
   },
   "outputs": [],
   "source": [
    "abs_noun_title_test = title_clean_test +\" \"+abs_noun_sent_test"
   ]
  },
  {
   "cell_type": "code",
   "execution_count": 0,
   "metadata": {
    "colab": {
     "base_uri": "https://localhost:8080/",
     "height": 34
    },
    "colab_type": "code",
    "id": "qODkDBN6UkVY",
    "outputId": "7d3bc932-4563-401d-96a9-fb16ee2a7254"
   },
   "outputs": [
    {
     "data": {
      "text/plain": [
       "(200092,)"
      ]
     },
     "execution_count": 22,
     "metadata": {
      "tags": []
     },
     "output_type": "execute_result"
    }
   ],
   "source": [
    "title_clean.shape"
   ]
  },
  {
   "cell_type": "code",
   "execution_count": 0,
   "metadata": {
    "colab": {
     "base_uri": "https://localhost:8080/",
     "height": 34
    },
    "colab_type": "code",
    "id": "gtdvQPrihUsq",
    "outputId": "1475de4b-cb8c-4a47-d4f2-7f21e8c76e95"
   },
   "outputs": [
    {
     "data": {
      "text/plain": [
       "'On unconditional well-posedness for the periodic modified korteweg-de\\n  vries equation'"
      ]
     },
     "execution_count": 23,
     "metadata": {
      "tags": []
     },
     "output_type": "execute_result"
    }
   ],
   "source": [
    "pd_train.iloc[60725].title"
   ]
  },
  {
   "cell_type": "code",
   "execution_count": 0,
   "metadata": {
    "colab": {
     "base_uri": "https://localhost:8080/",
     "height": 34
    },
    "colab_type": "code",
    "id": "dDU30MTzhN6h",
    "outputId": "1e1cd2ae-5d1e-48c0-ed90-072f948e045b"
   },
   "outputs": [
    {
     "data": {
      "text/plain": [
       "'equation '"
      ]
     },
     "execution_count": 24,
     "metadata": {
      "tags": []
     },
     "output_type": "execute_result"
    }
   ],
   "source": [
    "abs_noun_sent[60725]"
   ]
  },
  {
   "cell_type": "code",
   "execution_count": 0,
   "metadata": {
    "colab": {},
    "colab_type": "code",
    "collapsed": true,
    "id": "EdWwpMYyiEWA"
   },
   "outputs": [],
   "source": [
    "# make 150 convolutional layer input"
   ]
  },
  {
   "cell_type": "code",
   "execution_count": 0,
   "metadata": {
    "colab": {},
    "colab_type": "code",
    "collapsed": true,
    "id": "lYw4J_yViMHd"
   },
   "outputs": [],
   "source": [
    "from sklearn.feature_extraction.text import TfidfVectorizer, CountVectorizer\n",
    "tfidf_vectorizer = TfidfVectorizer(max_df=0.95, min_df=2)\n",
    "tfidf = tfidf_vectorizer.fit_transform(abs_noun_sent.values)\n",
    "tfidf_feature_names = tfidf_vectorizer.get_feature_names()"
   ]
  },
  {
   "cell_type": "code",
   "execution_count": 0,
   "metadata": {
    "colab": {},
    "colab_type": "code",
    "collapsed": true,
    "id": "hTHrdELYDl2H"
   },
   "outputs": [],
   "source": [
    "title_vectorizer = CountVectorizer(max_df=0.95, min_df=2,max_features=10000)\n",
    "title_vector = title_vectorizer.fit_transform(title_clean.values)\n",
    "title_Feature_names = title_vectorizer.get_feature_names()"
   ]
  },
  {
   "cell_type": "code",
   "execution_count": 0,
   "metadata": {
    "colab": {},
    "colab_type": "code",
    "collapsed": true,
    "id": "VWUo5nxrxwT7"
   },
   "outputs": [],
   "source": [
    "from scipy.sparse import lil_matrix\n",
    "my_l_matrix = lil_matrix((pd_train.shape[0],150),dtype=int)"
   ]
  },
  {
   "cell_type": "code",
   "execution_count": 0,
   "metadata": {
    "colab": {},
    "colab_type": "code",
    "collapsed": true,
    "id": "EGRByTvD4G6S"
   },
   "outputs": [],
   "source": [
    "my_test_matrix = lil_matrix((pd_test.shape[0],150),dtype=int)"
   ]
  },
  {
   "cell_type": "code",
   "execution_count": 0,
   "metadata": {
    "colab": {},
    "colab_type": "code",
    "collapsed": true,
    "id": "o57DivlcEl-C"
   },
   "outputs": [],
   "source": [
    "# get only 10000 tfidf most valuable features\n",
    "tfidf_sum = tfidf.sum(axis=0)\n",
    "import numpy as np\n",
    "# sort the tfidf_desc\n",
    "index_sort = np.argsort(tfidf_sum)[:,::-1]\n",
    "pot_feat = [tfidf_feature_names[x] for x in index_sort.tolist()[0][:10000]]"
   ]
  },
  {
   "cell_type": "code",
   "execution_count": 0,
   "metadata": {
    "colab": {
     "base_uri": "https://localhost:8080/",
     "height": 34
    },
    "colab_type": "code",
    "id": "ieb9j-vbF2P_",
    "outputId": "4d629b8a-1fae-495b-c126-99b5a2a97f09"
   },
   "outputs": [
    {
     "name": "stdout",
     "output_type": "stream",
     "text": [
      "13226\n"
     ]
    }
   ],
   "source": [
    "pot_feat.extend(title_Feature_names)\n",
    "pot_feat = list(set(pot_feat))\n",
    "print(len(pot_feat))"
   ]
  },
  {
   "cell_type": "code",
   "execution_count": 0,
   "metadata": {
    "colab": {},
    "colab_type": "code",
    "collapsed": true,
    "id": "_WGOcM7JoklH"
   },
   "outputs": [],
   "source": [
    "tf_feature_dict = {}\n",
    "for i,x in enumerate(pot_feat):\n",
    "  tf_feature_dict[x] = i+1"
   ]
  },
  {
   "cell_type": "code",
   "execution_count": 0,
   "metadata": {
    "colab": {},
    "colab_type": "code",
    "collapsed": true,
    "id": "1B2tnVp4IUHM"
   },
   "outputs": [],
   "source": [
    "tf_embedding_dict = {}\n",
    "for i,x in enumerate(pot_feat):\n",
    "  tf_embedding_dict[x] = {\"idx\": i+1,\"v\":[]}"
   ]
  },
  {
   "cell_type": "markdown",
   "metadata": {
    "colab_type": "text",
    "id": "Jgme8bQ5HGPq"
   },
   "source": [
    "Make Embedding weights from fastext"
   ]
  },
  {
   "cell_type": "code",
   "execution_count": 0,
   "metadata": {
    "colab": {
     "base_uri": "https://localhost:8080/",
     "height": 357
    },
    "colab_type": "code",
    "id": "5WgoosmRHEMA",
    "outputId": "48e18b17-4fdf-46f4-a93f-e907d5e96181"
   },
   "outputs": [
    {
     "name": "stdout",
     "output_type": "stream",
     "text": [
      "100000\n",
      "200000\n",
      "300000\n",
      "400000\n",
      "500000\n",
      "600000\n",
      "700000\n",
      "800000\n",
      "900000\n",
      "1000000\n",
      "1100000\n",
      "1200000\n",
      "1300000\n",
      "1400000\n",
      "1500000\n",
      "1600000\n",
      "1700000\n",
      "1800000\n",
      "1900000\n",
      "2000000\n"
     ]
    }
   ],
   "source": [
    "\n",
    "#get only feature from the tf_feature_dict\n",
    "\n",
    "# index words from word2vec\n",
    "word_vector = []\n",
    "tfidf_counter = 0\n",
    "with open(\"Dataset/arxiv/cc.en.300.vec\",\"r\") as file:\n",
    "  i = 0\n",
    "  for vec in file:\n",
    "    i+=1\n",
    "    if i%100000==0:\n",
    "      print(i)\n",
    "    #word_index.append((vec.split(\" \")[0],i))\n",
    "    vec = vec.replace(\"\\n\",\"\")\n",
    "    word_idx = vec.split(\" \")[0]\n",
    "    word_coef = np.asarray(vec.split(\" \")[1:], dtype='float32')\n",
    "    try:\n",
    "      tf_embedding_dict[word_idx][\"v\"] = word_coef\n",
    "    except:\n",
    "      continue"
   ]
  },
  {
   "cell_type": "code",
   "execution_count": 0,
   "metadata": {
    "colab": {
     "base_uri": "https://localhost:8080/",
     "height": 34
    },
    "colab_type": "code",
    "id": "Q4xs9AwHK5ZD",
    "outputId": "300784e9-108b-4da8-ea93-0ce6d5c42780"
   },
   "outputs": [
    {
     "data": {
      "text/plain": [
       "12193"
      ]
     },
     "execution_count": 48,
     "metadata": {
      "tags": []
     },
     "output_type": "execute_result"
    }
   ],
   "source": [
    "np.sum([1 if len(x[1][\"v\"])>0 else 0 for x in tf_embedding_dict.items()])"
   ]
  },
  {
   "cell_type": "code",
   "execution_count": 0,
   "metadata": {
    "colab": {},
    "colab_type": "code",
    "collapsed": true,
    "id": "1bJ1T2CEMiju"
   },
   "outputs": [],
   "source": [
    "embedding_temp = []\n",
    "for x in tf_embedding_dict.items():\n",
    "  if len(x[1][\"v\"])>0:\n",
    "    embedding_temp.append((x[0],x[1][\"v\"]))"
   ]
  },
  {
   "cell_type": "code",
   "execution_count": 0,
   "metadata": {
    "colab": {
     "base_uri": "https://localhost:8080/",
     "height": 782
    },
    "colab_type": "code",
    "id": "JHFxEbkOMsQT",
    "outputId": "decfe906-16da-44b0-bde9-1898ab76ff23"
   },
   "outputs": [
    {
     "data": {
      "text/plain": [
       "('polymorphism',\n",
       " array([ 0.0821, -0.0309,  0.0137,  0.0069,  0.0241, -0.06  ,  0.0069,\n",
       "        -0.0267,  0.0173,  0.0043, -0.0537, -0.0213, -0.0666,  0.0031,\n",
       "        -0.0398, -0.0213, -0.0175,  0.0168,  0.0611, -0.0029,  0.0215,\n",
       "        -0.0581, -0.0369, -0.0627,  0.0249, -0.0389,  0.0304,  0.0494,\n",
       "         0.0238,  0.0906, -0.0115,  0.0435,  0.065 , -0.0114, -0.0442,\n",
       "        -0.0031,  0.0356, -0.025 , -0.0342, -0.0772, -0.0277,  0.0397,\n",
       "         0.0167, -0.031 , -0.0162, -0.0022, -0.0256,  0.0405, -0.0115,\n",
       "        -0.0068,  0.0722, -0.042 , -0.0117,  0.041 , -0.045 ,  0.0351,\n",
       "        -0.0092, -0.0058, -0.0423,  0.0201,  0.0484, -0.0335,  0.0039,\n",
       "        -0.0098, -0.0092,  0.0251,  0.0297,  0.0069, -0.0536, -0.0316,\n",
       "         0.0126, -0.0769,  0.0239,  0.002 , -0.0753,  0.0217,  0.0268,\n",
       "         0.0172, -0.0294, -0.005 ,  0.0432,  0.0612, -0.0404,  0.0735,\n",
       "        -0.0196,  0.0475,  0.0076, -0.0299, -0.0306,  0.006 , -0.0052,\n",
       "         0.0372, -0.0098, -0.0491,  0.0533,  0.024 , -0.0081, -0.0038,\n",
       "        -0.0147, -0.0755,  0.0045,  0.0391, -0.1165,  0.0408,  0.0614,\n",
       "         0.0237,  0.0011, -0.036 ,  0.0263, -0.0504,  0.0397, -0.0227,\n",
       "        -0.0109,  0.0257,  0.0201,  0.0568,  0.0444, -0.0168, -0.0269,\n",
       "        -0.0255, -0.0092,  0.0304,  0.0569, -0.0409,  0.011 , -0.0565,\n",
       "         0.0043, -0.016 , -0.0219, -0.0111,  0.0115, -0.0201, -0.0305,\n",
       "         0.0094,  0.0303, -0.025 ,  0.0178,  0.0336,  0.0047, -0.0071,\n",
       "         0.0075,  0.0158,  0.0437,  0.0078, -0.0371,  0.0106, -0.069 ,\n",
       "         0.0075, -0.0289,  0.0361,  0.0043,  0.0329, -0.0115, -0.0003,\n",
       "        -0.0421, -0.013 ,  0.0227,  0.0041,  0.02  , -0.03  , -0.0641,\n",
       "        -0.0317,  0.0017,  0.012 ,  0.0255, -0.0395,  0.0499, -0.0255,\n",
       "        -0.0543,  0.0646, -0.0334,  0.003 ,  0.0376, -0.0005,  0.0151,\n",
       "         0.02  ,  0.012 ,  0.0312,  0.0033,  0.0277,  0.0315,  0.0049,\n",
       "         0.0051, -0.0351,  0.0283, -0.0411,  0.0093,  0.0131,  0.0005,\n",
       "         0.0304,  0.0156,  0.0036, -0.0406, -0.0109,  0.0277, -0.056 ,\n",
       "        -0.0051, -0.0315, -0.0024, -0.0023,  0.0457, -0.0022,  0.0176,\n",
       "        -0.0111, -0.0391, -0.0025,  0.0024, -0.0154, -0.0534,  0.0285,\n",
       "        -0.0542,  0.0681,  0.0037, -0.0333, -0.0704, -0.0215,  0.0192,\n",
       "        -0.0016,  0.0246,  0.0292,  0.0107,  0.0395,  0.0841, -0.0035,\n",
       "        -0.0163,  0.038 , -0.0136,  0.0185,  0.0228, -0.0288,  0.0416,\n",
       "        -0.0132,  0.0327, -0.0573, -0.0234, -0.0364, -0.0339,  0.0299,\n",
       "         0.0359,  0.0087,  0.004 ,  0.0224, -0.011 , -0.0333,  0.039 ,\n",
       "         0.0178,  0.0406,  0.0259,  0.0415,  0.0208,  0.0184,  0.009 ,\n",
       "         0.0688,  0.032 , -0.0619,  0.0326,  0.0523, -0.033 , -0.025 ,\n",
       "        -0.05  ,  0.0103, -0.0234, -0.0109, -0.0461, -0.0016, -0.0199,\n",
       "        -0.0055, -0.0175, -0.0178,  0.0161, -0.0518, -0.0342,  0.0019,\n",
       "        -0.0283, -0.0044, -0.04  ,  0.0087,  0.0006,  0.0161, -0.005 ,\n",
       "        -0.0502,  0.0271, -0.0316,  0.0181,  0.0054,  0.0345,  0.0082,\n",
       "         0.0305, -0.0031, -0.0474,  0.0217, -0.0101,  0.0574,  0.0651,\n",
       "        -0.023 , -0.0033,  0.0088,  0.0315, -0.0065, -0.0007],\n",
       "       dtype=float32))"
      ]
     },
     "execution_count": 64,
     "metadata": {
      "tags": []
     },
     "output_type": "execute_result"
    }
   ],
   "source": [
    "embedding_temp[7]"
   ]
  },
  {
   "cell_type": "code",
   "execution_count": 0,
   "metadata": {
    "colab": {},
    "colab_type": "code",
    "collapsed": true,
    "id": "g3M9gezRNfw3"
   },
   "outputs": [],
   "source": [
    "tf_feature_dict = {}\n",
    "for i,x in enumerate(embedding_temp):\n",
    "  tf_feature_dict[x[0]] = i+1"
   ]
  },
  {
   "cell_type": "code",
   "execution_count": 0,
   "metadata": {
    "colab": {},
    "colab_type": "code",
    "collapsed": true,
    "id": "nSl5_YSBOmAQ"
   },
   "outputs": [],
   "source": [
    "embedding_weights = np.zeros((len(tf_feature_dict)+1,300))\n",
    "for i,x in enumerate(embedding_temp):\n",
    "  embedding_weights[i+1,:] = x[1]"
   ]
  },
  {
   "cell_type": "code",
   "execution_count": 0,
   "metadata": {
    "colab": {
     "base_uri": "https://localhost:8080/",
     "height": 34
    },
    "colab_type": "code",
    "id": "mjs_rb2WOx90",
    "outputId": "8ad86076-8d52-436f-d0c0-f098ca8b0e78"
   },
   "outputs": [
    {
     "data": {
      "text/plain": [
       "(12194, 300)"
      ]
     },
     "execution_count": 71,
     "metadata": {
      "tags": []
     },
     "output_type": "execute_result"
    }
   ],
   "source": [
    "embedding_weights.shape"
   ]
  },
  {
   "cell_type": "code",
   "execution_count": 0,
   "metadata": {
    "colab": {},
    "colab_type": "code",
    "collapsed": true,
    "id": "Lzqzwkv7S5lG"
   },
   "outputs": [],
   "source": [
    "import pickle\n",
    "#with open(\"Dataset/arxiv/embed_weights.pickle\",\"wb\") as file:\n",
    "#  pickle.dump((tf_feature_dict,embedding_weights),file)\n",
    "with open(\"Dataset/arxiv/embed_weights.pickle\",\"rb\") as file:\n",
    "  (tf_feature_dict,embedding_weights) = pickle.load(file)\n"
   ]
  },
  {
   "cell_type": "code",
   "execution_count": 0,
   "metadata": {
    "colab": {},
    "colab_type": "code",
    "collapsed": true,
    "id": "40wVxdHnDxIv"
   },
   "outputs": [],
   "source": [
    "from scipy.sparse import lil_matrix\n",
    "my_l_matrix = lil_matrix((pd_train.shape[0],150),dtype=int)"
   ]
  },
  {
   "cell_type": "code",
   "execution_count": 0,
   "metadata": {
    "colab": {},
    "colab_type": "code",
    "collapsed": true,
    "id": "qQwJK5vmDxIy"
   },
   "outputs": [],
   "source": [
    "my_test_matrix = lil_matrix((pd_test.shape[0],150),dtype=int)"
   ]
  },
  {
   "cell_type": "code",
   "execution_count": 0,
   "metadata": {
    "colab": {
     "base_uri": "https://localhost:8080/",
     "height": 34
    },
    "colab_type": "code",
    "id": "HNuqtyJYjy47",
    "outputId": "da486654-9b72-4e10-f795-548855928009"
   },
   "outputs": [
    {
     "name": "stdout",
     "output_type": "stream",
     "text": [
      "0 10000 20000 30000 40000 50000 60000 70000 80000 90000 100000 110000 120000 130000 140000 150000 160000 170000 180000 190000 200000 "
     ]
    }
   ],
   "source": [
    "max = 150\n",
    "for i,x in enumerate(abs_noun_title.values):  \n",
    "  #if i < 64470:\n",
    "  #  continue\n",
    "  if i % 10000 == 0:\n",
    "    print(i,end=\" \")\n",
    "  x = x.split(\" \")\n",
    "  len_x = len(x) if len(x) < 150 else 150\n",
    "  #print(len_x)\n",
    "  feat_x = []\n",
    "  for my_x in x[:len_x]:\n",
    "    if len(my_x) > 0:\n",
    "      try:\n",
    "        feat_x.append(tf_feature_dict[my_x])\n",
    "      except:\n",
    "        pass\n",
    "        #feat_x.append(0)\n",
    "      #if my_x in tf_feature_names:\n",
    "      #  feat_x.append(tf_feature_names.index(my_x))\n",
    "      #else:\n",
    "      #  feat_x.append(0)\n",
    "  #print(feat_x)\n",
    "  if len(feat_x) > 0:\n",
    "    my_l_matrix[i,-len(feat_x):] = feat_x\n",
    "  #print(seq_matrix[i])\n",
    "  #break"
   ]
  },
  {
   "cell_type": "code",
   "execution_count": 0,
   "metadata": {
    "colab": {
     "base_uri": "https://localhost:8080/",
     "height": 34
    },
    "colab_type": "code",
    "id": "YoDRqSx74Kxm",
    "outputId": "e7bfbe89-bf2d-4bec-80be-72e64a68904a"
   },
   "outputs": [
    {
     "name": "stdout",
     "output_type": "stream",
     "text": [
      "0 10000 20000 30000 "
     ]
    }
   ],
   "source": [
    "max = 150\n",
    "for i,x in enumerate(abs_noun_title_test.values):  \n",
    "  #if i < 64470:\n",
    "  #  continue\n",
    "  if i % 10000 == 0:\n",
    "    print(i,end=\" \")\n",
    "  x = x.split(\" \")\n",
    "  len_x = len(x) if len(x) < 150 else 150\n",
    "  #print(len_x)\n",
    "  feat_x = []\n",
    "  for my_x in x[:len_x]:\n",
    "    if len(my_x) > 0:\n",
    "      try:\n",
    "        feat_x.append(tf_feature_dict[my_x])\n",
    "      except:\n",
    "        #feat_x.append(0)\n",
    "        pass\n",
    "      #if my_x in tf_feature_names:\n",
    "      #  feat_x.append(tf_feature_names.index(my_x))\n",
    "      #else:\n",
    "      #  feat_x.append(0)\n",
    "  #print(feat_x)\n",
    "  if len(feat_x) > 0:\n",
    "    my_test_matrix[i,-len(feat_x):] = feat_x\n",
    "  #print(seq_matrix[i])\n",
    "  #break"
   ]
  },
  {
   "cell_type": "code",
   "execution_count": 0,
   "metadata": {
    "colab": {
     "base_uri": "https://localhost:8080/",
     "height": 105
    },
    "colab_type": "code",
    "id": "vW4GBlGQzrCW",
    "outputId": "9bcc4f24-e687-4813-fd2b-55fbc07ef339"
   },
   "outputs": [
    {
     "data": {
      "text/plain": [
       "array(['analogues families numbers author terms macdonald functions properties paper formulas well macdonald functions coefficients bracket function catalan numbers ',\n",
       "       'symmetry density matrix renormalization group sdmrg technique method eigenstates systems method bottlenecks construction symmetry basis states symmetry matrices basis algorithm bottleneck method interchange symmetry hole symmetry parity symmetry calculations correspondence basis states dmrg space symmetry operations symmetry matrices basis sparseness matrix element methods diagonalization technique models eighties basis states step orthonormalization procedure method model correlations state spectrum coronene coronene ovalene polyenes correlation parameters model ordering states systems correlation parameters orbitals model ordering states systems importance topology term model molecules detail properties states molecules ',\n",
       "       'radio properties galaxies lines fhils sloan survey sample proportion range galaxies redshift distributions gelbord array survey images radio detection rate detection rate galaxy samples galaxies star formation rates radio emission nucleus contribution emission none show evidence beaming radio detection rate distributions radio power correlations radio power line luminosities luminosity seyfert galaxies predictions scheme hypothesis correlation radio luminosities sample sources ionization stratification clouds scales  depths clouds absorption radio emission core hence radio detection rate seyfert galaxies '],\n",
       "      dtype=object)"
      ]
     },
     "execution_count": 32,
     "metadata": {
      "tags": []
     },
     "output_type": "execute_result"
    }
   ],
   "source": [
    "abs_noun_sent.iloc[:3].values"
   ]
  },
  {
   "cell_type": "code",
   "execution_count": 0,
   "metadata": {
    "colab": {
     "base_uri": "https://localhost:8080/",
     "height": 105
    },
    "colab_type": "code",
    "id": "TupzcQBfzde7",
    "outputId": "3434f181-f3f2-4d17-c273-96f991f8a853"
   },
   "outputs": [
    {
     "data": {
      "text/plain": [
       "array([list([9945, 8122, 10030, 9177, 12033, 1505, 2695, 1492, 1505, 8616, 9498, 5198, 3602, 7695, 992, 8122, 2571, 5198, 3602, 9606, 9023, 9034, 9870, 1505]),\n",
       "       list([10313, 11720, 9648, 4176, 1515, 5994, 12002, 2295, 4447, 10563, 12110, 5114, 11966, 1123, 4299, 9987, 6445, 4299, 9793, 5278, 4447, 8739, 1515, 4447, 1227, 8739, 9648, 9899, 4299, 10164, 4447, 6626, 4447, 10036, 4447, 10411, 479, 8739, 1515, 4673, 4447, 7393, 4447, 1227, 8739, 11687, 12110, 11279, 455, 11395, 1123, 5026, 8739, 1515, 11625, 8551, 4299, 11590, 10728, 308, 11071, 11134, 3524, 11590, 8036, 1515, 6445, 11134, 3524, 1622, 11590, 8036, 1515, 6445, 10977, 8830, 8502, 11590, 9968, 11410, 7695, 1515, 9968]),\n",
       "       list([1846, 6234, 10839, 5989, 10937, 6340, 10965, 10292, 5257, 8031, 7695, 6234, 5989, 2582, 10292, 6037, 7236, 6177, 6234, 4696, 9137, 10965, 10292, 5257, 8031, 6948, 8245, 6948, 8245, 4610, 1839, 6234, 5335, 10717, 1302, 8031, 6566, 715, 7977, 6566, 8599, 11586, 9541, 6357, 8031, 6948, 8245, 9137, 8031, 5264, 10728, 8031, 5264, 7557, 3951, 11188, 6234, 4492, 11597, 4032, 11134, 8031, 3951, 6037, 10104, 10174, 8905, 6256, 2744, 4515, 6256, 7576, 8031, 6566, 10047, 9324, 8031, 6948, 8245, 6234])],\n",
       "      dtype=object)"
      ]
     },
     "execution_count": 33,
     "metadata": {
      "tags": []
     },
     "output_type": "execute_result"
    }
   ],
   "source": [
    "my_l_matrix[:3,].data"
   ]
  },
  {
   "cell_type": "code",
   "execution_count": 0,
   "metadata": {
    "colab": {
     "base_uri": "https://localhost:8080/",
     "height": 68
    },
    "colab_type": "code",
    "id": "GnydFjyCjL_u",
    "outputId": "d3e678e4-46c9-48c4-8952-82d1c0a9b3c9"
   },
   "outputs": [
    {
     "name": "stderr",
     "output_type": "stream",
     "text": [
      "/usr/local/lib/python3.6/dist-packages/scipy/sparse/compressed.py:214: SparseEfficiencyWarning: Comparing a sparse matrix with 0 using == is inefficient, try using != instead.\n",
      "  \", try using != instead.\", SparseEfficiencyWarning)\n"
     ]
    },
    {
     "data": {
      "text/plain": [
       "0"
      ]
     },
     "execution_count": 35,
     "metadata": {
      "tags": []
     },
     "output_type": "execute_result"
    }
   ],
   "source": [
    "import numpy as np\n",
    "np.sum(my_l_matrix[:,149]==0)"
   ]
  },
  {
   "cell_type": "code",
   "execution_count": 0,
   "metadata": {
    "colab": {
     "base_uri": "https://localhost:8080/",
     "height": 34
    },
    "colab_type": "code",
    "id": "Cmo3KepjQQSL",
    "outputId": "b7780285-18cf-4758-db50-9f26c6f38303"
   },
   "outputs": [
    {
     "data": {
      "text/plain": [
       "(37125, 150)"
      ]
     },
     "execution_count": 36,
     "metadata": {
      "tags": []
     },
     "output_type": "execute_result"
    }
   ],
   "source": [
    "my_test_matrix.shape"
   ]
  },
  {
   "cell_type": "code",
   "execution_count": 0,
   "metadata": {
    "colab": {
     "base_uri": "https://localhost:8080/",
     "height": 238
    },
    "colab_type": "code",
    "id": "mDHfKZDYMtng",
    "outputId": "994d3af4-8cea-4156-ee1e-fae92ef0f15a"
   },
   "outputs": [
    {
     "name": "stdout",
     "output_type": "stream",
     "text": [
      "Collecting tflearn\n",
      "\u001b[?25l  Downloading https://files.pythonhosted.org/packages/16/ec/e9ce1b52e71f6dff3bd944f020cef7140779e783ab27512ea7c7275ddee5/tflearn-0.3.2.tar.gz (98kB)\n",
      "\u001b[K    100% |████████████████████████████████| 102kB 3.0MB/s \n",
      "\u001b[?25hRequirement already satisfied: numpy in /usr/local/lib/python3.6/dist-packages (from tflearn) (1.14.6)\n",
      "Requirement already satisfied: six in /usr/local/lib/python3.6/dist-packages (from tflearn) (1.11.0)\n",
      "Requirement already satisfied: Pillow in /usr/local/lib/python3.6/dist-packages (from tflearn) (4.0.0)\n",
      "Requirement already satisfied: olefile in /usr/local/lib/python3.6/dist-packages (from Pillow->tflearn) (0.46)\n",
      "Building wheels for collected packages: tflearn\n",
      "  Running setup.py bdist_wheel for tflearn ... \u001b[?25l-\b \b\\\b \bdone\n",
      "\u001b[?25h  Stored in directory: /root/.cache/pip/wheels/d0/f6/69/0ef3ee395aac2e5d15d89efd29a9a216f3c27767b43b72c006\n",
      "Successfully built tflearn\n",
      "Installing collected packages: tflearn\n",
      "Successfully installed tflearn-0.3.2\n"
     ]
    }
   ],
   "source": [
    "!pip install tflearn"
   ]
  },
  {
   "cell_type": "code",
   "execution_count": 0,
   "metadata": {
    "colab": {
     "base_uri": "https://localhost:8080/",
     "height": 34
    },
    "colab_type": "code",
    "id": "HvnICvaZKYWt",
    "outputId": "bf733a24-c3dd-408f-92cd-bf00d0a79a99"
   },
   "outputs": [
    {
     "name": "stderr",
     "output_type": "stream",
     "text": [
      "Using TensorFlow backend.\n"
     ]
    }
   ],
   "source": [
    "import keras\n",
    "from keras.models import Sequential\n",
    "from keras.layers import Dense\n",
    "from keras.layers import LSTM\n",
    "from keras.layers import Bidirectional\n",
    "from keras.layers import TimeDistributed\n",
    "from keras.layers import Flatten\n",
    "from keras.layers.convolutional import Conv1D\n",
    "from keras.layers.convolutional import MaxPooling1D\n",
    "from keras.layers.embeddings import Embedding\n",
    "from keras.preprocessing import sequence\n",
    "from tflearn.data_utils import to_categorical, pad_sequences\n",
    "from keras.models import Model\n"
   ]
  },
  {
   "cell_type": "code",
   "execution_count": 0,
   "metadata": {
    "colab": {},
    "colab_type": "code",
    "collapsed": true,
    "id": "Ugw1veqHRDGZ"
   },
   "outputs": [],
   "source": [
    "y_train_label = pd_train.cats.apply(lambda x: x.split(\"|\")[0])"
   ]
  },
  {
   "cell_type": "code",
   "execution_count": 0,
   "metadata": {
    "colab": {
     "base_uri": "https://localhost:8080/",
     "height": 34
    },
    "colab_type": "code",
    "id": "1Hcziddq9W7U",
    "outputId": "57c3dc3f-c1dc-4571-9c4a-88550660fdc2"
   },
   "outputs": [
    {
     "data": {
      "text/plain": [
       "(200092, 10)"
      ]
     },
     "execution_count": 40,
     "metadata": {
      "tags": []
     },
     "output_type": "execute_result"
    }
   ],
   "source": [
    "pd_train.shape"
   ]
  },
  {
   "cell_type": "code",
   "execution_count": 0,
   "metadata": {
    "colab": {},
    "colab_type": "code",
    "collapsed": true,
    "id": "xJLQukrCRayi"
   },
   "outputs": [],
   "source": [
    "y_train_label_l = list(y_train_label.unique())"
   ]
  },
  {
   "cell_type": "code",
   "execution_count": 0,
   "metadata": {
    "colab": {},
    "colab_type": "code",
    "collapsed": true,
    "id": "5d4nizj7RBuK"
   },
   "outputs": [],
   "source": [
    "y_train_class = y_train_label.apply(lambda x:y_train_label_l.index(x))"
   ]
  },
  {
   "cell_type": "code",
   "execution_count": 0,
   "metadata": {
    "colab": {},
    "colab_type": "code",
    "collapsed": true,
    "id": "Lva4ypMN0_1-"
   },
   "outputs": [],
   "source": [
    "from keras.layers import Input\n",
    "from keras.layers import Dropout\n",
    "sequence_input = Input(shape=(max,), dtype='int32',name=\"input\")\n",
    "embedded_sequences = Embedding(input_dim=len(tf_feature_dict)+1,output_dim=300,weights=[embedding_weights],name=\"embedding\",trainable=False)(sequence_input)\n",
    "l_cov1 = Conv1D(512, 3, activation='relu',name=\"cov1\")(embedded_sequences)\n",
    "l_pool1 = MaxPooling1D(2,name=\"pool1\")(l_cov1)\n",
    "dropout1 = Dropout(0.2,name=\"dropout1\")(l_pool1)\n",
    "l_lstm= LSTM(units=150,name=\"lstm1\")(dropout1)\n",
    "dropout2 = Dropout(0.2,name=\"dropout2\")(l_lstm)\n",
    "#l_cov2 = Conv1D(256, 3, activation='tanh',name=\"cov2\")(dropout2)\n",
    "#l_cov3 = Conv1D(512, 2, activation='relu',name=\"cov3\")(l_cov2)\n",
    "#l_pool2 = MaxPooling1D(2,name=\"pool2\")(l_cov2)\n",
    "#dropout3 = Dropout(0.2,name=\"dropout4\")(l_pool2)\n",
    "#l_flat = Flatten(name=\"flatten\")(dropout2)\n",
    "l_dense1 = Dense(256, activation='relu',name=\"dense1\")(dropout2)\n",
    "dropout4 = Dropout(0.2,name=\"dropout3\")(l_dense1)\n",
    "l_dense2 = Dense(128, activation='relu',name=\"dense2\")(dropout4)\n",
    "preds = Dense(len(y_train_label_l), activation='softmax',name=\"output\")(l_dense2)"
   ]
  },
  {
   "cell_type": "code",
   "execution_count": 0,
   "metadata": {
    "colab": {
     "base_uri": "https://localhost:8080/",
     "height": 51
    },
    "colab_type": "code",
    "id": "JFpFEz8O2eDd",
    "outputId": "42a676c1-6aca-4db3-c19b-c4427196449f"
   },
   "outputs": [
    {
     "name": "stderr",
     "output_type": "stream",
     "text": [
      "/usr/local/lib/python3.6/dist-packages/ipykernel_launcher.py:1: UserWarning: Update your `Model` call to the Keras 2 API: `Model(inputs=Tensor(\"in..., outputs=Tensor(\"ou...)`\n",
      "  \"\"\"Entry point for launching an IPython kernel.\n"
     ]
    }
   ],
   "source": [
    "model = Model(input=sequence_input, output=preds)\n",
    "\n",
    "model.compile(loss='categorical_crossentropy', optimizer='adam',\n",
    "              metrics=['accuracy'])"
   ]
  },
  {
   "cell_type": "code",
   "execution_count": 0,
   "metadata": {
    "colab": {
     "base_uri": "https://localhost:8080/",
     "height": 510
    },
    "colab_type": "code",
    "id": "2agosRur3Y9D",
    "outputId": "0410fe07-9f2f-4fc5-8249-1ed67e66d562"
   },
   "outputs": [
    {
     "name": "stdout",
     "output_type": "stream",
     "text": [
      "_________________________________________________________________\n",
      "Layer (type)                 Output Shape              Param #   \n",
      "=================================================================\n",
      "input (InputLayer)           (None, 150)               0         \n",
      "_________________________________________________________________\n",
      "embedding (Embedding)        (None, 150, 300)          3658200   \n",
      "_________________________________________________________________\n",
      "cov1 (Conv1D)                (None, 148, 512)          461312    \n",
      "_________________________________________________________________\n",
      "pool1 (MaxPooling1D)         (None, 74, 512)           0         \n",
      "_________________________________________________________________\n",
      "dropout1 (Dropout)           (None, 74, 512)           0         \n",
      "_________________________________________________________________\n",
      "lstm1 (LSTM)                 (None, 150)               397800    \n",
      "_________________________________________________________________\n",
      "dropout2 (Dropout)           (None, 150)               0         \n",
      "_________________________________________________________________\n",
      "dense1 (Dense)               (None, 256)               38656     \n",
      "_________________________________________________________________\n",
      "dropout3 (Dropout)           (None, 256)               0         \n",
      "_________________________________________________________________\n",
      "dense2 (Dense)               (None, 128)               32896     \n",
      "_________________________________________________________________\n",
      "output (Dense)               (None, 20)                2580      \n",
      "=================================================================\n",
      "Total params: 4,591,444\n",
      "Trainable params: 933,244\n",
      "Non-trainable params: 3,658,200\n",
      "_________________________________________________________________\n"
     ]
    }
   ],
   "source": [
    "model.summary()"
   ]
  },
  {
   "cell_type": "code",
   "execution_count": 0,
   "metadata": {
    "colab": {},
    "colab_type": "code",
    "collapsed": true,
    "id": "fUfLbtA0XAJm"
   },
   "outputs": [],
   "source": [
    "y_test_class = pd_test.cats.apply(lambda x: x.split(\"|\")[0]).apply(lambda x:y_train_label_l.index(x))"
   ]
  },
  {
   "cell_type": "code",
   "execution_count": 0,
   "metadata": {
    "colab": {},
    "colab_type": "code",
    "collapsed": true,
    "id": "QnOi90KLYKge"
   },
   "outputs": [],
   "source": [
    "y_test_one_hot = to_categorical(y_test_class.values,20)"
   ]
  },
  {
   "cell_type": "code",
   "execution_count": 0,
   "metadata": {
    "colab": {
     "base_uri": "https://localhost:8080/",
     "height": 4216
    },
    "colab_type": "code",
    "id": "NGMK2ht7T9-F",
    "outputId": "2c01e063-26c6-4e84-c3d8-8718056852be"
   },
   "outputs": [
    {
     "name": "stdout",
     "output_type": "stream",
     "text": [
      "Epoch 1/1\n",
      "18195/18195 [==============================] - 17s 917us/step - loss: 2.4333 - acc: 0.2664\n",
      "Epoch 1/1\n",
      "18195/18195 [==============================] - 11s 611us/step - loss: 1.5814 - acc: 0.5538\n",
      "Epoch 1/1\n",
      "18195/18195 [==============================] - 12s 649us/step - loss: 1.3023 - acc: 0.6121\n",
      "Epoch 1/1\n",
      "18195/18195 [==============================] - 11s 603us/step - loss: 1.1274 - acc: 0.6607\n",
      "Epoch 1/1\n",
      "18193/18193 [==============================] - 12s 666us/step - loss: 1.0419 - acc: 0.6833\n",
      "Epoch 1/1\n",
      "18191/18191 [==============================] - 11s 607us/step - loss: 0.9687 - acc: 0.7092\n",
      "Epoch 1/1\n",
      "18190/18190 [==============================] - 12s 672us/step - loss: 0.9038 - acc: 0.7248\n",
      "Epoch 1/1\n",
      "18190/18190 [==============================] - 11s 599us/step - loss: 0.8728 - acc: 0.7288\n",
      "Epoch 1/1\n",
      "18188/18188 [==============================] - 12s 665us/step - loss: 0.8400 - acc: 0.7396\n",
      "Epoch 1/1\n",
      "18182/18182 [==============================] - 11s 598us/step - loss: 0.8156 - acc: 0.7438\n",
      "Epoch 1/1\n",
      "18178/18178 [==============================] - 12s 660us/step - loss: 0.8015 - acc: 0.7469\n",
      "accuracy: 0.7462895622895623\n",
      "kappa: 0.6998442299833996\n",
      "             precision    recall  f1-score   support\n",
      "\n",
      "          0       0.80      0.90      0.85      9054\n",
      "          1       0.61      0.41      0.49      3187\n",
      "          2       0.90      0.92      0.91      3980\n",
      "          3       0.56      0.40      0.47       798\n",
      "          4       0.54      0.57      0.56      1065\n",
      "          5       0.46      0.27      0.34       379\n",
      "          6       0.56      0.37      0.45      1204\n",
      "          7       0.68      0.90      0.77      4324\n",
      "          8       0.84      0.84      0.84      8125\n",
      "          9       0.67      0.74      0.70      1354\n",
      "         10       0.00      0.00      0.00       132\n",
      "         11       0.00      0.00      0.00       214\n",
      "         12       0.73      0.66      0.69      1498\n",
      "         13       0.31      0.03      0.06       442\n",
      "         14       0.00      0.00      0.00       261\n",
      "         15       0.30      0.67      0.41       504\n",
      "         16       0.45      0.16      0.24       263\n",
      "         17       0.31      0.03      0.05       195\n",
      "         18       0.00      0.00      0.00        17\n",
      "         19       0.00      0.00      0.00       129\n",
      "\n",
      "avg / total       0.72      0.75      0.73     37125\n",
      "\n"
     ]
    },
    {
     "name": "stderr",
     "output_type": "stream",
     "text": [
      "/usr/local/lib/python3.6/dist-packages/sklearn/metrics/classification.py:1135: UndefinedMetricWarning: Precision and F-score are ill-defined and being set to 0.0 in labels with no predicted samples.\n",
      "  'precision', 'predicted', average, warn_for)\n"
     ]
    },
    {
     "name": "stdout",
     "output_type": "stream",
     "text": [
      "Epoch 1/1\n",
      "18195/18195 [==============================] - 12s 632us/step - loss: 0.7864 - acc: 0.7533\n",
      "Epoch 1/1\n",
      "18195/18195 [==============================] - 12s 637us/step - loss: 0.7741 - acc: 0.7558\n",
      "Epoch 1/1\n",
      "18195/18195 [==============================] - 10s 573us/step - loss: 0.7608 - acc: 0.7586\n",
      "Epoch 1/1\n",
      "18195/18195 [==============================] - 10s 573us/step - loss: 0.7454 - acc: 0.7617\n",
      "Epoch 1/1\n",
      "18193/18193 [==============================] - 10s 573us/step - loss: 0.7183 - acc: 0.7674\n",
      "Epoch 1/1\n",
      "18191/18191 [==============================] - 10s 573us/step - loss: 0.7318 - acc: 0.7629\n",
      "Epoch 1/1\n",
      "18190/18190 [==============================] - 10s 573us/step - loss: 0.7106 - acc: 0.7770\n",
      "Epoch 1/1\n",
      "18190/18190 [==============================] - 10s 572us/step - loss: 0.7093 - acc: 0.7688\n",
      "Epoch 1/1\n",
      "18188/18188 [==============================] - 10s 572us/step - loss: 0.6970 - acc: 0.7734\n",
      "Epoch 1/1\n",
      "18182/18182 [==============================] - 10s 572us/step - loss: 0.7012 - acc: 0.7768\n",
      "Epoch 1/1\n",
      "18178/18178 [==============================] - 10s 574us/step - loss: 0.6813 - acc: 0.7791\n",
      "accuracy: 0.7756767676767676\n",
      "kappa: 0.7352607594265652\n",
      "             precision    recall  f1-score   support\n",
      "\n",
      "          0       0.82      0.91      0.86      9054\n",
      "          1       0.64      0.51      0.56      3187\n",
      "          2       0.92      0.92      0.92      3980\n",
      "          3       0.62      0.54      0.58       798\n",
      "          4       0.60      0.63      0.62      1065\n",
      "          5       0.54      0.51      0.53       379\n",
      "          6       0.66      0.43      0.52      1204\n",
      "          7       0.72      0.91      0.81      4324\n",
      "          8       0.85      0.84      0.85      8125\n",
      "          9       0.72      0.76      0.74      1354\n",
      "         10       0.33      0.15      0.21       132\n",
      "         11       0.62      0.58      0.60       214\n",
      "         12       0.73      0.67      0.70      1498\n",
      "         13       0.28      0.09      0.14       442\n",
      "         14       1.00      0.00      0.01       261\n",
      "         15       0.48      0.60      0.53       504\n",
      "         16       0.60      0.60      0.60       263\n",
      "         17       0.56      0.33      0.42       195\n",
      "         18       0.00      0.00      0.00        17\n",
      "         19       0.00      0.00      0.00       129\n",
      "\n",
      "avg / total       0.77      0.78      0.76     37125\n",
      "\n",
      "Epoch 1/1\n",
      "18195/18195 [==============================] - 10s 575us/step - loss: 0.6775 - acc: 0.7819\n",
      "Epoch 1/1\n",
      "18195/18195 [==============================] - 10s 574us/step - loss: 0.6820 - acc: 0.7779\n",
      "Epoch 1/1\n",
      "18195/18195 [==============================] - 10s 573us/step - loss: 0.6788 - acc: 0.7795\n",
      "Epoch 1/1\n",
      "18195/18195 [==============================] - 10s 575us/step - loss: 0.6624 - acc: 0.7864\n",
      "Epoch 1/1\n",
      "18193/18193 [==============================] - 12s 639us/step - loss: 0.6413 - acc: 0.7914\n",
      "Epoch 1/1\n",
      "18191/18191 [==============================] - 10s 573us/step - loss: 0.6557 - acc: 0.7874\n",
      "Epoch 1/1\n",
      "18190/18190 [==============================] - 10s 572us/step - loss: 0.6510 - acc: 0.7882\n",
      "Epoch 1/1\n",
      "18190/18190 [==============================] - 10s 570us/step - loss: 0.6490 - acc: 0.7855\n",
      "Epoch 1/1\n",
      "18188/18188 [==============================] - 10s 572us/step - loss: 0.6295 - acc: 0.7929\n",
      "Epoch 1/1\n",
      "18182/18182 [==============================] - 10s 571us/step - loss: 0.6253 - acc: 0.7972\n",
      "Epoch 1/1\n",
      "18178/18178 [==============================] - 10s 573us/step - loss: 0.6245 - acc: 0.7955\n",
      "accuracy: 0.7895218855218855\n",
      "kappa: 0.751803169982963\n",
      "             precision    recall  f1-score   support\n",
      "\n",
      "          0       0.85      0.89      0.87      9054\n",
      "          1       0.68      0.51      0.58      3187\n",
      "          2       0.95      0.89      0.92      3980\n",
      "          3       0.59      0.65      0.62       798\n",
      "          4       0.62      0.66      0.64      1065\n",
      "          5       0.55      0.50      0.53       379\n",
      "          6       0.64      0.47      0.54      1204\n",
      "          7       0.82      0.85      0.83      4324\n",
      "          8       0.81      0.91      0.86      8125\n",
      "          9       0.70      0.81      0.75      1354\n",
      "         10       0.29      0.12      0.17       132\n",
      "         11       0.67      0.66      0.67       214\n",
      "         12       0.69      0.77      0.73      1498\n",
      "         13       0.30      0.10      0.15       442\n",
      "         14       0.41      0.24      0.30       261\n",
      "         15       0.57      0.52      0.55       504\n",
      "         16       0.55      0.68      0.61       263\n",
      "         17       0.64      0.47      0.54       195\n",
      "         18       0.00      0.00      0.00        17\n",
      "         19       0.00      0.00      0.00       129\n",
      "\n",
      "avg / total       0.78      0.79      0.78     37125\n",
      "\n",
      "Epoch 1/1\n",
      "18195/18195 [==============================] - 10s 575us/step - loss: 0.6198 - acc: 0.7966\n",
      "Epoch 1/1\n",
      "18195/18195 [==============================] - 10s 572us/step - loss: 0.6234 - acc: 0.7952\n",
      "Epoch 1/1\n",
      "18195/18195 [==============================] - 10s 573us/step - loss: 0.6157 - acc: 0.7975\n",
      "Epoch 1/1\n",
      "18195/18195 [==============================] - 10s 572us/step - loss: 0.6153 - acc: 0.7955\n",
      "Epoch 1/1\n",
      "18193/18193 [==============================] - 12s 638us/step - loss: 0.5991 - acc: 0.8030\n",
      "Epoch 1/1\n",
      "18191/18191 [==============================] - 10s 573us/step - loss: 0.6161 - acc: 0.7987\n",
      "Epoch 1/1\n",
      "18190/18190 [==============================] - 10s 573us/step - loss: 0.5970 - acc: 0.8041\n",
      "Epoch 1/1\n",
      "18190/18190 [==============================] - 10s 571us/step - loss: 0.5903 - acc: 0.8016\n",
      "Epoch 1/1\n",
      "18188/18188 [==============================] - 10s 571us/step - loss: 0.5832 - acc: 0.8080\n",
      "Epoch 1/1\n",
      "18182/18182 [==============================] - 10s 573us/step - loss: 0.5828 - acc: 0.8073\n",
      "Epoch 1/1\n",
      "18178/18178 [==============================] - 10s 574us/step - loss: 0.5811 - acc: 0.8093\n",
      "accuracy: 0.7966329966329966\n",
      "kappa: 0.7603554517974407\n",
      "             precision    recall  f1-score   support\n",
      "\n",
      "          0       0.85      0.91      0.87      9054\n",
      "          1       0.62      0.63      0.63      3187\n",
      "          2       0.93      0.92      0.93      3980\n",
      "          3       0.55      0.77      0.64       798\n",
      "          4       0.77      0.51      0.61      1065\n",
      "          5       0.69      0.41      0.52       379\n",
      "          6       0.66      0.48      0.56      1204\n",
      "          7       0.85      0.82      0.84      4324\n",
      "          8       0.84      0.88      0.86      8125\n",
      "          9       0.77      0.75      0.76      1354\n",
      "         10       0.32      0.30      0.31       132\n",
      "         11       0.67      0.66      0.67       214\n",
      "         12       0.70      0.77      0.73      1498\n",
      "         13       0.38      0.09      0.14       442\n",
      "         14       0.45      0.23      0.31       261\n",
      "         15       0.58      0.58      0.58       504\n",
      "         16       0.50      0.75      0.60       263\n",
      "         17       0.72      0.59      0.65       195\n",
      "         18       0.00      0.00      0.00        17\n",
      "         19       0.00      0.00      0.00       129\n",
      "\n",
      "avg / total       0.79      0.80      0.79     37125\n",
      "\n",
      "Epoch 1/1\n",
      "18195/18195 [==============================] - 11s 577us/step - loss: 0.5841 - acc: 0.8086\n",
      "Epoch 1/1\n",
      "18195/18195 [==============================] - 10s 571us/step - loss: 0.5911 - acc: 0.8035\n",
      "Epoch 1/1\n",
      "18195/18195 [==============================] - 10s 572us/step - loss: 0.5831 - acc: 0.8065\n",
      "Epoch 1/1\n",
      "18195/18195 [==============================] - 10s 571us/step - loss: 0.5769 - acc: 0.8068\n",
      "Epoch 1/1\n",
      "18193/18193 [==============================] - 12s 638us/step - loss: 0.5672 - acc: 0.8108\n",
      "Epoch 1/1\n",
      "18191/18191 [==============================] - 10s 573us/step - loss: 0.5687 - acc: 0.8119\n",
      "Epoch 1/1\n",
      "18190/18190 [==============================] - 10s 573us/step - loss: 0.5584 - acc: 0.8143\n",
      "Epoch 1/1\n",
      "18190/18190 [==============================] - 10s 569us/step - loss: 0.5575 - acc: 0.8101\n",
      "Epoch 1/1\n",
      "18188/18188 [==============================] - 10s 573us/step - loss: 0.5540 - acc: 0.8143\n",
      "Epoch 1/1\n",
      "18182/18182 [==============================] - 10s 575us/step - loss: 0.5551 - acc: 0.8173\n",
      "Epoch 1/1\n",
      "18178/18178 [==============================] - 10s 574us/step - loss: 0.5524 - acc: 0.8169\n",
      "accuracy: 0.7998383838383838\n",
      "kappa: 0.7635849177118471\n",
      "             precision    recall  f1-score   support\n",
      "\n",
      "          0       0.85      0.91      0.88      9054\n",
      "          1       0.64      0.60      0.62      3187\n",
      "          2       0.88      0.96      0.92      3980\n",
      "          3       0.62      0.60      0.61       798\n",
      "          4       0.65      0.70      0.67      1065\n",
      "          5       0.56      0.61      0.58       379\n",
      "          6       0.69      0.45      0.54      1204\n",
      "          7       0.79      0.88      0.83      4324\n",
      "          8       0.84      0.88      0.86      8125\n",
      "          9       0.81      0.78      0.79      1354\n",
      "         10       0.39      0.24      0.30       132\n",
      "         11       0.72      0.60      0.65       214\n",
      "         12       0.82      0.61      0.70      1498\n",
      "         13       0.39      0.09      0.14       442\n",
      "         14       0.62      0.18      0.27       261\n",
      "         15       0.64      0.51      0.57       504\n",
      "         16       0.70      0.66      0.68       263\n",
      "         17       0.77      0.65      0.70       195\n",
      "         18       0.00      0.00      0.00        17\n",
      "         19       0.00      0.00      0.00       129\n",
      "\n",
      "avg / total       0.79      0.80      0.79     37125\n",
      "\n"
     ]
    }
   ],
   "source": [
    "from sklearn.model_selection import train_test_split, StratifiedKFold\n",
    "\n",
    "import numpy as np\n",
    "mini_batch = 20000\n",
    "total_docs = my_l_matrix.shape[0]\n",
    "total_batch = int(my_l_matrix.shape[0]/mini_batch)+1\n",
    "#range_docs = range(0,total_docs)\n",
    "#range_docs = train\n",
    "\n",
    "\n",
    "for it in range(5):\n",
    "  k_sample = StratifiedKFold(n_splits=total_batch, shuffle=True, random_state=1).split(range(len(y_train_class.values)), y_train_class.values)\n",
    "  for batch in k_sample:\n",
    "      # random sample dataset\n",
    "      #r_index = random.sample(list(range_docs),mini_batch)\n",
    "      #r_index_start = mini_batch*batch\n",
    "      #r_index_end = mini_batch*(batch+1) if batch<total_batch-1 else total_docs\n",
    "      X_batch = my_l_matrix[batch[1],:]\n",
    "      #y_batch = dataset.iloc[r_index].subjects.apply(lambda x:labeling_subjects(x))\n",
    "      #y_batch = np.array([])\n",
    "      #for x in dataset.iloc[r_index].subjects:\n",
    "      #    y_batch = np.append(y_batch,labeling_subjects(x),axis=0)\n",
    "      #y_batch\n",
    "      #y_batch = y_batch.reshape(len(r_index),len(label_class))\n",
    "      y_batch = to_categorical(y_train_class[batch[1]].values,20)\n",
    "\n",
    "      model.fit(X_batch,y_batch,epochs=1,batch_size=1000)\n",
    "  y_pred = np.argmax(model.predict(my_test_matrix),axis=1)\n",
    "  from sklearn.metrics import classification_report,accuracy_score,cohen_kappa_score\n",
    "  acc = accuracy_score(y_test_class,y_pred)\n",
    "  kap = cohen_kappa_score(y_test_class,y_pred)\n",
    "  print(\"accuracy:\",acc)\n",
    "  print(\"kappa:\",kap)\n",
    "  print(classification_report(y_test_class,y_pred))\n",
    "  model.save(\"Dataset/arxiv/nn-model-lstm-embed-{}.h5\".format(it))"
   ]
  },
  {
   "cell_type": "code",
   "execution_count": 0,
   "metadata": {
    "colab": {
     "base_uri": "https://localhost:8080/",
     "height": 8381
    },
    "colab_type": "code",
    "id": "YEniH4sacHoK",
    "outputId": "8c29bbd1-bd6e-4ad6-fa94-cb645a73f652"
   },
   "outputs": [
    {
     "name": "stdout",
     "output_type": "stream",
     "text": [
      "Epoch 1/1\n",
      "18195/18195 [==============================] - 24s 1ms/step - loss: 0.6257 - acc: 0.7946\n",
      "Epoch 1/1\n",
      "18195/18195 [==============================] - 23s 1ms/step - loss: 0.6243 - acc: 0.7935\n",
      "Epoch 1/1\n",
      "18195/18195 [==============================] - 24s 1ms/step - loss: 0.6187 - acc: 0.7958\n",
      "Epoch 1/1\n",
      "18195/18195 [==============================] - 24s 1ms/step - loss: 0.6101 - acc: 0.7994\n",
      "Epoch 1/1\n",
      "18193/18193 [==============================] - 23s 1ms/step - loss: 0.5919 - acc: 0.8004\n",
      "Epoch 1/1\n",
      "18191/18191 [==============================] - 23s 1ms/step - loss: 0.5999 - acc: 0.7999\n",
      "Epoch 1/1\n",
      "18190/18190 [==============================] - 24s 1ms/step - loss: 0.5951 - acc: 0.8054\n",
      "Epoch 1/1\n",
      "18190/18190 [==============================] - 24s 1ms/step - loss: 0.5761 - acc: 0.8048\n",
      "Epoch 1/1\n",
      "18188/18188 [==============================] - 24s 1ms/step - loss: 0.5816 - acc: 0.8022\n",
      "Epoch 1/1\n",
      "18182/18182 [==============================] - 24s 1ms/step - loss: 0.5693 - acc: 0.8126\n",
      "Epoch 1/1\n",
      "18178/18178 [==============================] - 23s 1ms/step - loss: 0.5685 - acc: 0.8109\n",
      "accuracy: 0.8032323232323232\n",
      "kappa: 0.7686863260624611\n",
      "             precision    recall  f1-score   support\n",
      "\n",
      "          0       0.88      0.88      0.88      9054\n",
      "          1       0.66      0.60      0.63      3187\n",
      "          2       0.93      0.93      0.93      3980\n",
      "          3       0.65      0.57      0.61       798\n",
      "          4       0.62      0.76      0.68      1065\n",
      "          5       0.70      0.45      0.55       379\n",
      "          6       0.61      0.54      0.57      1204\n",
      "          7       0.80      0.88      0.84      4324\n",
      "          8       0.84      0.90      0.87      8125\n",
      "          9       0.72      0.84      0.78      1354\n",
      "         10       0.44      0.42      0.43       132\n",
      "         11       0.72      0.65      0.68       214\n",
      "         12       0.77      0.71      0.74      1498\n",
      "         13       0.43      0.09      0.15       442\n",
      "         14       0.54      0.30      0.39       261\n",
      "         15       0.57      0.58      0.57       504\n",
      "         16       0.85      0.52      0.64       263\n",
      "         17       0.57      0.83      0.68       195\n",
      "         18       0.00      0.00      0.00        17\n",
      "         19       0.00      0.00      0.00       129\n",
      "\n",
      "avg / total       0.80      0.80      0.80     37125\n",
      "\n"
     ]
    },
    {
     "name": "stderr",
     "output_type": "stream",
     "text": [
      "/usr/local/lib/python3.6/dist-packages/sklearn/metrics/classification.py:1135: UndefinedMetricWarning: Precision and F-score are ill-defined and being set to 0.0 in labels with no predicted samples.\n",
      "  'precision', 'predicted', average, warn_for)\n"
     ]
    },
    {
     "name": "stdout",
     "output_type": "stream",
     "text": [
      "Epoch 1/1\n",
      "18195/18195 [==============================] - 24s 1ms/step - loss: 0.5380 - acc: 0.8193\n",
      "Epoch 1/1\n",
      "18195/18195 [==============================] - 24s 1ms/step - loss: 0.5362 - acc: 0.8199\n",
      "Epoch 1/1\n",
      "18195/18195 [==============================] - 24s 1ms/step - loss: 0.5421 - acc: 0.8193\n",
      "Epoch 1/1\n",
      "18195/18195 [==============================] - 24s 1ms/step - loss: 0.5319 - acc: 0.8221\n",
      "Epoch 1/1\n",
      "18193/18193 [==============================] - 24s 1ms/step - loss: 0.5326 - acc: 0.8199\n",
      "Epoch 1/1\n",
      "18191/18191 [==============================] - 24s 1ms/step - loss: 0.5365 - acc: 0.8188\n",
      "Epoch 1/1\n",
      "18190/18190 [==============================] - 24s 1ms/step - loss: 0.5305 - acc: 0.8212\n",
      "Epoch 1/1\n",
      "18190/18190 [==============================] - 24s 1ms/step - loss: 0.5222 - acc: 0.8230\n",
      "Epoch 1/1\n",
      "18188/18188 [==============================] - 23s 1ms/step - loss: 0.5238 - acc: 0.8244\n",
      "Epoch 1/1\n",
      "18182/18182 [==============================] - 24s 1ms/step - loss: 0.5171 - acc: 0.8263\n",
      "Epoch 1/1\n",
      "18178/18178 [==============================] - 24s 1ms/step - loss: 0.5192 - acc: 0.8259\n",
      "accuracy: 0.8097508417508418\n",
      "kappa: 0.7764771027601118\n",
      "             precision    recall  f1-score   support\n",
      "\n",
      "          0       0.88      0.89      0.88      9054\n",
      "          1       0.69      0.61      0.64      3187\n",
      "          2       0.90      0.95      0.92      3980\n",
      "          3       0.61      0.69      0.65       798\n",
      "          4       0.69      0.66      0.67      1065\n",
      "          5       0.57      0.67      0.62       379\n",
      "          6       0.64      0.51      0.57      1204\n",
      "          7       0.85      0.85      0.85      4324\n",
      "          8       0.84      0.90      0.87      8125\n",
      "          9       0.80      0.82      0.81      1354\n",
      "         10       0.50      0.16      0.24       132\n",
      "         11       0.73      0.65      0.69       214\n",
      "         12       0.73      0.78      0.75      1498\n",
      "         13       0.42      0.13      0.20       442\n",
      "         14       0.52      0.42      0.47       261\n",
      "         15       0.48      0.71      0.57       504\n",
      "         16       0.80      0.59      0.68       263\n",
      "         17       0.79      0.74      0.76       195\n",
      "         18       0.00      0.00      0.00        17\n",
      "         19       0.00      0.00      0.00       129\n",
      "\n",
      "avg / total       0.80      0.81      0.80     37125\n",
      "\n",
      "Epoch 1/1\n",
      "18195/18195 [==============================] - 24s 1ms/step - loss: 0.4983 - acc: 0.8310\n",
      "Epoch 1/1\n",
      "18195/18195 [==============================] - 24s 1ms/step - loss: 0.4946 - acc: 0.8311\n",
      "Epoch 1/1\n",
      "18195/18195 [==============================] - 24s 1ms/step - loss: 0.4938 - acc: 0.8324\n",
      "Epoch 1/1\n",
      "18195/18195 [==============================] - 24s 1ms/step - loss: 0.4958 - acc: 0.8302\n",
      "Epoch 1/1\n",
      "18193/18193 [==============================] - 24s 1ms/step - loss: 0.4829 - acc: 0.8346\n",
      "Epoch 1/1\n",
      "18191/18191 [==============================] - 24s 1ms/step - loss: 0.4936 - acc: 0.8341\n",
      "Epoch 1/1\n",
      "18190/18190 [==============================] - 24s 1ms/step - loss: 0.4898 - acc: 0.8340\n",
      "Epoch 1/1\n",
      "18190/18190 [==============================] - 24s 1ms/step - loss: 0.4843 - acc: 0.8319\n",
      "Epoch 1/1\n",
      "18188/18188 [==============================] - 24s 1ms/step - loss: 0.4835 - acc: 0.8341\n",
      "Epoch 1/1\n",
      "18182/18182 [==============================] - 24s 1ms/step - loss: 0.4855 - acc: 0.8343\n",
      "Epoch 1/1\n",
      "18178/18178 [==============================] - 24s 1ms/step - loss: 0.4871 - acc: 0.8335\n",
      "accuracy: 0.8123636363636364\n",
      "kappa: 0.7789280594180075\n",
      "             precision    recall  f1-score   support\n",
      "\n",
      "          0       0.87      0.90      0.88      9054\n",
      "          1       0.72      0.55      0.63      3187\n",
      "          2       0.94      0.92      0.93      3980\n",
      "          3       0.62      0.73      0.67       798\n",
      "          4       0.71      0.67      0.69      1065\n",
      "          5       0.65      0.56      0.61       379\n",
      "          6       0.68      0.49      0.57      1204\n",
      "          7       0.81      0.89      0.85      4324\n",
      "          8       0.83      0.90      0.87      8125\n",
      "          9       0.80      0.82      0.81      1354\n",
      "         10       0.48      0.43      0.46       132\n",
      "         11       0.75      0.66      0.70       214\n",
      "         12       0.74      0.76      0.75      1498\n",
      "         13       0.38      0.23      0.29       442\n",
      "         14       0.66      0.33      0.44       261\n",
      "         15       0.56      0.59      0.58       504\n",
      "         16       0.73      0.64      0.69       263\n",
      "         17       0.73      0.81      0.77       195\n",
      "         18       0.00      0.00      0.00        17\n",
      "         19       0.00      0.00      0.00       129\n",
      "\n",
      "avg / total       0.80      0.81      0.81     37125\n",
      "\n",
      "Epoch 1/1\n",
      "18195/18195 [==============================] - 24s 1ms/step - loss: 0.4692 - acc: 0.8397\n",
      "Epoch 1/1\n",
      "18195/18195 [==============================] - 24s 1ms/step - loss: 0.4627 - acc: 0.8423\n",
      "Epoch 1/1\n",
      "18195/18195 [==============================] - 24s 1ms/step - loss: 0.4515 - acc: 0.8444\n",
      "Epoch 1/1\n",
      "18195/18195 [==============================] - 24s 1ms/step - loss: 0.4448 - acc: 0.8446\n",
      "Epoch 1/1\n",
      "18193/18193 [==============================] - 24s 1ms/step - loss: 0.4468 - acc: 0.8451\n",
      "Epoch 1/1\n",
      "18191/18191 [==============================] - 24s 1ms/step - loss: 0.4609 - acc: 0.8424\n",
      "Epoch 1/1\n",
      "18190/18190 [==============================] - 24s 1ms/step - loss: 0.4541 - acc: 0.8451\n",
      "Epoch 1/1\n",
      "18190/18190 [==============================] - 24s 1ms/step - loss: 0.4571 - acc: 0.8411\n",
      "Epoch 1/1\n",
      "18188/18188 [==============================] - 24s 1ms/step - loss: 0.4429 - acc: 0.8477\n",
      "Epoch 1/1\n",
      "18182/18182 [==============================] - 24s 1ms/step - loss: 0.4409 - acc: 0.8486\n",
      "Epoch 1/1\n",
      "18178/18178 [==============================] - 23s 1ms/step - loss: 0.4414 - acc: 0.8471\n",
      "accuracy: 0.8116902356902357\n",
      "kappa: 0.7785919874397775\n",
      "             precision    recall  f1-score   support\n",
      "\n",
      "          0       0.88      0.89      0.88      9054\n",
      "          1       0.66      0.64      0.65      3187\n",
      "          2       0.93      0.93      0.93      3980\n",
      "          3       0.70      0.59      0.64       798\n",
      "          4       0.72      0.69      0.70      1065\n",
      "          5       0.69      0.53      0.60       379\n",
      "          6       0.64      0.53      0.58      1204\n",
      "          7       0.83      0.87      0.85      4324\n",
      "          8       0.84      0.90      0.87      8125\n",
      "          9       0.77      0.84      0.80      1354\n",
      "         10       0.43      0.52      0.47       132\n",
      "         11       0.69      0.69      0.69       214\n",
      "         12       0.77      0.69      0.73      1498\n",
      "         13       0.39      0.19      0.26       442\n",
      "         14       0.45      0.51      0.48       261\n",
      "         15       0.55      0.61      0.58       504\n",
      "         16       0.64      0.72      0.68       263\n",
      "         17       0.81      0.74      0.77       195\n",
      "         18       0.00      0.00      0.00        17\n",
      "         19       0.00      0.00      0.00       129\n",
      "\n",
      "avg / total       0.80      0.81      0.81     37125\n",
      "\n",
      "Epoch 1/1\n",
      "18195/18195 [==============================] - 24s 1ms/step - loss: 0.4355 - acc: 0.8493\n",
      "Epoch 1/1\n",
      "18195/18195 [==============================] - 23s 1ms/step - loss: 0.4218 - acc: 0.8546\n",
      "Epoch 1/1\n",
      "18195/18195 [==============================] - 24s 1ms/step - loss: 0.4171 - acc: 0.8543\n",
      "Epoch 1/1\n",
      "18195/18195 [==============================] - 23s 1ms/step - loss: 0.4258 - acc: 0.8555\n",
      "Epoch 1/1\n",
      "18193/18193 [==============================] - 24s 1ms/step - loss: 0.4145 - acc: 0.8554\n",
      "Epoch 1/1\n",
      "18191/18191 [==============================] - 24s 1ms/step - loss: 0.4201 - acc: 0.8534\n",
      "Epoch 1/1\n",
      "18190/18190 [==============================] - 24s 1ms/step - loss: 0.4203 - acc: 0.8537\n",
      "Epoch 1/1\n",
      "18190/18190 [==============================] - 24s 1ms/step - loss: 0.4108 - acc: 0.8566\n",
      "Epoch 1/1\n",
      "18188/18188 [==============================] - 24s 1ms/step - loss: 0.4193 - acc: 0.8530\n",
      "Epoch 1/1\n",
      "18182/18182 [==============================] - 24s 1ms/step - loss: 0.4148 - acc: 0.8560\n",
      "Epoch 1/1\n",
      "18178/18178 [==============================] - 24s 1ms/step - loss: 0.4093 - acc: 0.8586\n",
      "accuracy: 0.8125252525252525\n",
      "kappa: 0.779957696796953\n",
      "             precision    recall  f1-score   support\n",
      "\n",
      "          0       0.88      0.89      0.89      9054\n",
      "          1       0.65      0.64      0.64      3187\n",
      "          2       0.92      0.94      0.93      3980\n",
      "          3       0.62      0.74      0.68       798\n",
      "          4       0.73      0.65      0.69      1065\n",
      "          5       0.62      0.63      0.63       379\n",
      "          6       0.65      0.54      0.59      1204\n",
      "          7       0.87      0.81      0.84      4324\n",
      "          8       0.85      0.89      0.87      8125\n",
      "          9       0.81      0.81      0.81      1354\n",
      "         10       0.48      0.45      0.46       132\n",
      "         11       0.76      0.65      0.70       214\n",
      "         12       0.65      0.84      0.73      1498\n",
      "         13       0.38      0.19      0.25       442\n",
      "         14       0.64      0.36      0.46       261\n",
      "         15       0.55      0.63      0.59       504\n",
      "         16       0.82      0.59      0.69       263\n",
      "         17       0.74      0.82      0.78       195\n",
      "         18       0.00      0.00      0.00        17\n",
      "         19       0.00      0.00      0.00       129\n",
      "\n",
      "avg / total       0.81      0.81      0.81     37125\n",
      "\n",
      "Epoch 1/1\n",
      "18195/18195 [==============================] - 24s 1ms/step - loss: 0.4059 - acc: 0.8586\n",
      "Epoch 1/1\n",
      "18195/18195 [==============================] - 23s 1ms/step - loss: 0.3952 - acc: 0.8626\n",
      "Epoch 1/1\n",
      "18195/18195 [==============================] - 24s 1ms/step - loss: 0.3878 - acc: 0.8660\n",
      "Epoch 1/1\n",
      "18195/18195 [==============================] - 24s 1ms/step - loss: 0.3916 - acc: 0.8649\n",
      "Epoch 1/1\n",
      "18193/18193 [==============================] - 24s 1ms/step - loss: 0.3878 - acc: 0.8620\n",
      "Epoch 1/1\n",
      "18191/18191 [==============================] - 24s 1ms/step - loss: 0.3954 - acc: 0.8621\n",
      "Epoch 1/1\n",
      "18190/18190 [==============================] - 23s 1ms/step - loss: 0.3839 - acc: 0.8654\n",
      "Epoch 1/1\n",
      "18190/18190 [==============================] - 24s 1ms/step - loss: 0.3821 - acc: 0.8653\n",
      "Epoch 1/1\n",
      "18188/18188 [==============================] - 24s 1ms/step - loss: 0.3789 - acc: 0.8686\n",
      "Epoch 1/1\n",
      "18182/18182 [==============================] - 24s 1ms/step - loss: 0.3847 - acc: 0.8673\n",
      "Epoch 1/1\n",
      "18178/18178 [==============================] - 23s 1ms/step - loss: 0.3831 - acc: 0.8659\n",
      "accuracy: 0.808942760942761\n",
      "kappa: 0.7752098913019858\n",
      "             precision    recall  f1-score   support\n",
      "\n",
      "          0       0.85      0.91      0.88      9054\n",
      "          1       0.71      0.55      0.62      3187\n",
      "          2       0.94      0.92      0.93      3980\n",
      "          3       0.61      0.77      0.69       798\n",
      "          4       0.71      0.64      0.67      1065\n",
      "          5       0.57      0.67      0.61       379\n",
      "          6       0.70      0.42      0.53      1204\n",
      "          7       0.81      0.88      0.84      4324\n",
      "          8       0.86      0.87      0.87      8125\n",
      "          9       0.76      0.86      0.81      1354\n",
      "         10       0.47      0.32      0.38       132\n",
      "         11       0.65      0.74      0.69       214\n",
      "         12       0.74      0.77      0.75      1498\n",
      "         13       0.35      0.32      0.33       442\n",
      "         14       0.46      0.47      0.47       261\n",
      "         15       0.65      0.53      0.58       504\n",
      "         16       0.80      0.59      0.68       263\n",
      "         17       0.77      0.80      0.78       195\n",
      "         18       0.00      0.00      0.00        17\n",
      "         19       0.00      0.00      0.00       129\n",
      "\n",
      "avg / total       0.80      0.81      0.80     37125\n",
      "\n",
      "Epoch 1/1\n",
      "18195/18195 [==============================] - 24s 1ms/step - loss: 0.3740 - acc: 0.8672\n",
      "Epoch 1/1\n",
      "18195/18195 [==============================] - 24s 1ms/step - loss: 0.3582 - acc: 0.8725\n",
      "Epoch 1/1\n",
      "18195/18195 [==============================] - 24s 1ms/step - loss: 0.3561 - acc: 0.8754\n",
      "Epoch 1/1\n",
      "18195/18195 [==============================] - 23s 1ms/step - loss: 0.3623 - acc: 0.8727\n",
      "Epoch 1/1\n",
      "18193/18193 [==============================] - 24s 1ms/step - loss: 0.3562 - acc: 0.8710\n",
      "Epoch 1/1\n",
      "18191/18191 [==============================] - 24s 1ms/step - loss: 0.3596 - acc: 0.8749\n",
      "Epoch 1/1\n",
      "18190/18190 [==============================] - 24s 1ms/step - loss: 0.3542 - acc: 0.8738\n",
      "Epoch 1/1\n",
      "18190/18190 [==============================] - 24s 1ms/step - loss: 0.3563 - acc: 0.8715\n",
      "Epoch 1/1\n",
      "18188/18188 [==============================] - 24s 1ms/step - loss: 0.3511 - acc: 0.8742\n",
      "Epoch 1/1\n",
      "18182/18182 [==============================] - 24s 1ms/step - loss: 0.3498 - acc: 0.8761\n",
      "Epoch 1/1\n",
      "18178/18178 [==============================] - 24s 1ms/step - loss: 0.3541 - acc: 0.8751\n",
      "accuracy: 0.8122289562289562\n",
      "kappa: 0.7798276495842922\n",
      "             precision    recall  f1-score   support\n",
      "\n",
      "          0       0.88      0.89      0.88      9054\n",
      "          1       0.67      0.60      0.63      3187\n",
      "          2       0.94      0.93      0.93      3980\n",
      "          3       0.67      0.67      0.67       798\n",
      "          4       0.69      0.72      0.70      1065\n",
      "          5       0.71      0.58      0.64       379\n",
      "          6       0.64      0.56      0.60      1204\n",
      "          7       0.82      0.87      0.85      4324\n",
      "          8       0.86      0.88      0.87      8125\n",
      "          9       0.79      0.85      0.82      1354\n",
      "         10       0.52      0.24      0.33       132\n",
      "         11       0.69      0.73      0.71       214\n",
      "         12       0.73      0.77      0.75      1498\n",
      "         13       0.36      0.29      0.32       442\n",
      "         14       0.46      0.51      0.49       261\n",
      "         15       0.51      0.66      0.58       504\n",
      "         16       0.69      0.72      0.71       263\n",
      "         17       0.80      0.78      0.79       195\n",
      "         18       0.00      0.00      0.00        17\n",
      "         19       0.00      0.00      0.00       129\n",
      "\n",
      "avg / total       0.81      0.81      0.81     37125\n",
      "\n",
      "Epoch 1/1\n",
      "18195/18195 [==============================] - 24s 1ms/step - loss: 0.3482 - acc: 0.8782\n",
      "Epoch 1/1\n",
      "18195/18195 [==============================] - 24s 1ms/step - loss: 0.3384 - acc: 0.8804\n",
      "Epoch 1/1\n",
      "18195/18195 [==============================] - 24s 1ms/step - loss: 0.3249 - acc: 0.8842\n",
      "Epoch 1/1\n",
      "18195/18195 [==============================] - 23s 1ms/step - loss: 0.3379 - acc: 0.8803\n",
      "Epoch 1/1\n",
      "18193/18193 [==============================] - 24s 1ms/step - loss: 0.3247 - acc: 0.8832\n",
      "Epoch 1/1\n",
      "18191/18191 [==============================] - 24s 1ms/step - loss: 0.3438 - acc: 0.8768\n",
      "Epoch 1/1\n",
      "18190/18190 [==============================] - 23s 1ms/step - loss: 0.3361 - acc: 0.8783\n",
      "Epoch 1/1\n",
      "18190/18190 [==============================] - 24s 1ms/step - loss: 0.3378 - acc: 0.8781\n",
      "Epoch 1/1\n",
      "18188/18188 [==============================] - 23s 1ms/step - loss: 0.3178 - acc: 0.8857\n",
      "Epoch 1/1\n",
      "18182/18182 [==============================] - 24s 1ms/step - loss: 0.3222 - acc: 0.8861\n",
      "Epoch 1/1\n",
      "18178/18178 [==============================] - 23s 1ms/step - loss: 0.3311 - acc: 0.8829\n",
      "accuracy: 0.8034208754208754\n",
      "kappa: 0.7702210243604756\n",
      "             precision    recall  f1-score   support\n",
      "\n",
      "          0       0.87      0.89      0.88      9054\n",
      "          1       0.68      0.55      0.61      3187\n",
      "          2       0.92      0.94      0.93      3980\n",
      "          3       0.65      0.68      0.66       798\n",
      "          4       0.69      0.69      0.69      1065\n",
      "          5       0.60      0.63      0.61       379\n",
      "          6       0.64      0.56      0.59      1204\n",
      "          7       0.82      0.87      0.84      4324\n",
      "          8       0.89      0.84      0.86      8125\n",
      "          9       0.78      0.85      0.81      1354\n",
      "         10       0.43      0.58      0.49       132\n",
      "         11       0.62      0.76      0.68       214\n",
      "         12       0.67      0.81      0.73      1498\n",
      "         13       0.31      0.27      0.29       442\n",
      "         14       0.35      0.56      0.43       261\n",
      "         15       0.50      0.63      0.56       504\n",
      "         16       0.69      0.68      0.68       263\n",
      "         17       0.84      0.78      0.81       195\n",
      "         18       0.00      0.00      0.00        17\n",
      "         19       0.00      0.00      0.00       129\n",
      "\n",
      "avg / total       0.80      0.80      0.80     37125\n",
      "\n",
      "Epoch 1/1\n",
      "18195/18195 [==============================] - 23s 1ms/step - loss: 0.3160 - acc: 0.8859\n",
      "Epoch 1/1\n",
      "18195/18195 [==============================] - 23s 1ms/step - loss: 0.3104 - acc: 0.8890\n",
      "Epoch 1/1\n",
      "18195/18195 [==============================] - 23s 1ms/step - loss: 0.2983 - acc: 0.8934\n",
      "Epoch 1/1\n",
      "18195/18195 [==============================] - 24s 1ms/step - loss: 0.3105 - acc: 0.8889\n",
      "Epoch 1/1\n",
      "18193/18193 [==============================] - 24s 1ms/step - loss: 0.3122 - acc: 0.8899\n",
      "Epoch 1/1\n",
      "18191/18191 [==============================] - 24s 1ms/step - loss: 0.3110 - acc: 0.8889\n",
      "Epoch 1/1\n",
      "18190/18190 [==============================] - 24s 1ms/step - loss: 0.3045 - acc: 0.8938\n",
      "Epoch 1/1\n",
      "18190/18190 [==============================] - 24s 1ms/step - loss: 0.3074 - acc: 0.8897\n",
      "Epoch 1/1\n",
      "18188/18188 [==============================] - 23s 1ms/step - loss: 0.3006 - acc: 0.8922\n",
      "Epoch 1/1\n",
      "18182/18182 [==============================] - 23s 1ms/step - loss: 0.3043 - acc: 0.8923\n",
      "Epoch 1/1\n",
      "18178/18178 [==============================] - 23s 1ms/step - loss: 0.3007 - acc: 0.8938\n",
      "accuracy: 0.8127676767676768\n",
      "kappa: 0.7793968372390246\n",
      "             precision    recall  f1-score   support\n",
      "\n",
      "          0       0.87      0.90      0.89      9054\n",
      "          1       0.72      0.54      0.62      3187\n",
      "          2       0.93      0.94      0.93      3980\n",
      "          3       0.66      0.68      0.67       798\n",
      "          4       0.69      0.71      0.70      1065\n",
      "          5       0.69      0.62      0.65       379\n",
      "          6       0.65      0.51      0.57      1204\n",
      "          7       0.81      0.88      0.85      4324\n",
      "          8       0.83      0.90      0.87      8125\n",
      "          9       0.81      0.83      0.82      1354\n",
      "         10       0.48      0.48      0.48       132\n",
      "         11       0.74      0.69      0.72       214\n",
      "         12       0.72      0.77      0.74      1498\n",
      "         13       0.35      0.26      0.30       442\n",
      "         14       0.55      0.40      0.46       261\n",
      "         15       0.66      0.48      0.56       504\n",
      "         16       0.79      0.57      0.66       263\n",
      "         17       0.82      0.79      0.81       195\n",
      "         18       0.00      0.00      0.00        17\n",
      "         19       0.00      0.00      0.00       129\n",
      "\n",
      "avg / total       0.80      0.81      0.81     37125\n",
      "\n",
      "Epoch 1/1\n",
      "18195/18195 [==============================] - 23s 1ms/step - loss: 0.2913 - acc: 0.8941\n",
      "Epoch 1/1\n",
      "18195/18195 [==============================] - 24s 1ms/step - loss: 0.2857 - acc: 0.8971\n",
      "Epoch 1/1\n",
      "18195/18195 [==============================] - 24s 1ms/step - loss: 0.2823 - acc: 0.8985\n",
      "Epoch 1/1\n",
      "18195/18195 [==============================] - 23s 1ms/step - loss: 0.2777 - acc: 0.8991\n",
      "Epoch 1/1\n",
      "18193/18193 [==============================] - 24s 1ms/step - loss: 0.2869 - acc: 0.8970\n",
      "Epoch 1/1\n",
      "18191/18191 [==============================] - 24s 1ms/step - loss: 0.2880 - acc: 0.8974\n",
      "Epoch 1/1\n",
      "18190/18190 [==============================] - 24s 1ms/step - loss: 0.2753 - acc: 0.9012\n",
      "Epoch 1/1\n",
      "18190/18190 [==============================] - 24s 1ms/step - loss: 0.2821 - acc: 0.8992\n",
      "Epoch 1/1\n",
      "18188/18188 [==============================] - 23s 1ms/step - loss: 0.2698 - acc: 0.9015\n",
      "Epoch 1/1\n",
      "18182/18182 [==============================] - 24s 1ms/step - loss: 0.2810 - acc: 0.9004\n",
      "Epoch 1/1\n",
      "18178/18178 [==============================] - 24s 1ms/step - loss: 0.2810 - acc: 0.9004\n",
      "accuracy: 0.8032053872053873\n",
      "kappa: 0.7685817549486251\n",
      "             precision    recall  f1-score   support\n",
      "\n",
      "          0       0.83      0.92      0.88      9054\n",
      "          1       0.73      0.52      0.61      3187\n",
      "          2       0.93      0.93      0.93      3980\n",
      "          3       0.62      0.72      0.67       798\n",
      "          4       0.74      0.57      0.65      1065\n",
      "          5       0.57      0.68      0.62       379\n",
      "          6       0.59      0.55      0.57      1204\n",
      "          7       0.82      0.86      0.84      4324\n",
      "          8       0.87      0.85      0.86      8125\n",
      "          9       0.78      0.84      0.81      1354\n",
      "         10       0.44      0.52      0.47       132\n",
      "         11       0.76      0.70      0.73       214\n",
      "         12       0.75      0.73      0.74      1498\n",
      "         13       0.27      0.35      0.30       442\n",
      "         14       0.57      0.39      0.46       261\n",
      "         15       0.54      0.61      0.57       504\n",
      "         16       0.73      0.61      0.67       263\n",
      "         17       0.75      0.82      0.78       195\n",
      "         18       0.00      0.00      0.00        17\n",
      "         19       0.00      0.00      0.00       129\n",
      "\n",
      "avg / total       0.80      0.80      0.80     37125\n",
      "\n"
     ]
    }
   ],
   "source": [
    "for it in range(10):\n",
    "  k_sample = StratifiedKFold(n_splits=total_batch, shuffle=True, random_state=1).split(range(len(y_train_class.values)), y_train_class.values)\n",
    "  for batch in k_sample:\n",
    "      X_batch = my_l_matrix[batch[1],:]\n",
    "      y_batch = to_categorical(y_train_class[batch[1]].values,20)\n",
    "\n",
    "      model.fit(X_batch,y_batch,epochs=1,batch_size=200)\n",
    "  y_pred = np.argmax(model.predict(my_test_matrix),axis=1)\n",
    "  from sklearn.metrics import classification_report,accuracy_score,cohen_kappa_score\n",
    "  acc = accuracy_score(y_test_class,y_pred)\n",
    "  kap = cohen_kappa_score(y_test_class,y_pred)\n",
    "  print(\"accuracy:\",acc)\n",
    "  print(\"kappa:\",kap)\n",
    "  print(classification_report(y_test_class,y_pred))\n",
    "  model.save(\"Dataset/arxiv/nn-model-lstm-embed-b{}.h5\".format(it))"
   ]
  },
  {
   "cell_type": "code",
   "execution_count": 0,
   "metadata": {
    "colab": {
     "base_uri": "https://localhost:8080/",
     "height": 1785
    },
    "colab_type": "code",
    "id": "5rYay1jToVQz",
    "outputId": "0efe4b45-e4b0-4c54-d6a6-e8c449a4dfec"
   },
   "outputs": [
    {
     "name": "stdout",
     "output_type": "stream",
     "text": [
      "Epoch 1/1\n",
      "18195/18195 [==============================] - 24s 1ms/step - loss: 0.2748 - acc: 0.9015\n",
      "Epoch 1/1\n",
      "18195/18195 [==============================] - 24s 1ms/step - loss: 0.2736 - acc: 0.9001\n",
      "Epoch 1/1\n",
      "18195/18195 [==============================] - 23s 1ms/step - loss: 0.2556 - acc: 0.9081\n",
      "Epoch 1/1\n",
      "18195/18195 [==============================] - 24s 1ms/step - loss: 0.2547 - acc: 0.9089\n",
      "Epoch 1/1\n",
      "18193/18193 [==============================] - 24s 1ms/step - loss: 0.2619 - acc: 0.9055\n",
      "Epoch 1/1\n",
      "18191/18191 [==============================] - 23s 1ms/step - loss: 0.2666 - acc: 0.9031\n",
      "Epoch 1/1\n",
      "18190/18190 [==============================] - 24s 1ms/step - loss: 0.2601 - acc: 0.9051\n",
      "Epoch 1/1\n",
      "18190/18190 [==============================] - 24s 1ms/step - loss: 0.2688 - acc: 0.9025\n",
      "Epoch 1/1\n",
      "18188/18188 [==============================] - 24s 1ms/step - loss: 0.2435 - acc: 0.9121\n",
      "Epoch 1/1\n",
      "18182/18182 [==============================] - 24s 1ms/step - loss: 0.2555 - acc: 0.9081\n",
      "Epoch 1/1\n",
      "18178/18178 [==============================] - 23s 1ms/step - loss: 0.2579 - acc: 0.9073\n",
      "accuracy: 0.8084040404040405\n",
      "kappa: 0.775360819547858\n",
      "             precision    recall  f1-score   support\n",
      "\n",
      "          0       0.87      0.90      0.88      9054\n",
      "          1       0.63      0.67      0.65      3187\n",
      "          2       0.94      0.92      0.93      3980\n",
      "          3       0.59      0.77      0.67       798\n",
      "          4       0.68      0.69      0.68      1065\n",
      "          5       0.67      0.62      0.65       379\n",
      "          6       0.58      0.60      0.59      1204\n",
      "          7       0.85      0.83      0.84      4324\n",
      "          8       0.87      0.86      0.86      8125\n",
      "          9       0.83      0.78      0.81      1354\n",
      "         10       0.49      0.52      0.50       132\n",
      "         11       0.69      0.73      0.71       214\n",
      "         12       0.74      0.74      0.74      1498\n",
      "         13       0.35      0.26      0.30       442\n",
      "         14       0.50      0.48      0.49       261\n",
      "         15       0.63      0.49      0.55       504\n",
      "         16       0.74      0.66      0.70       263\n",
      "         17       0.85      0.76      0.80       195\n",
      "         18       0.00      0.00      0.00        17\n",
      "         19       0.00      0.00      0.00       129\n",
      "\n",
      "avg / total       0.81      0.81      0.81     37125\n",
      "\n"
     ]
    },
    {
     "name": "stderr",
     "output_type": "stream",
     "text": [
      "/usr/local/lib/python3.6/dist-packages/sklearn/metrics/classification.py:1135: UndefinedMetricWarning: Precision and F-score are ill-defined and being set to 0.0 in labels with no predicted samples.\n",
      "  'precision', 'predicted', average, warn_for)\n"
     ]
    },
    {
     "name": "stdout",
     "output_type": "stream",
     "text": [
      "Epoch 1/1\n",
      "18195/18195 [==============================] - 24s 1ms/step - loss: 0.2571 - acc: 0.9077\n",
      "Epoch 1/1\n",
      "18195/18195 [==============================] - 24s 1ms/step - loss: 0.2584 - acc: 0.9050\n",
      "Epoch 1/1\n",
      "18195/18195 [==============================] - 24s 1ms/step - loss: 0.2418 - acc: 0.9116\n",
      "Epoch 1/1\n",
      "18195/18195 [==============================] - 24s 1ms/step - loss: 0.2462 - acc: 0.9127\n",
      "Epoch 1/1\n",
      "18193/18193 [==============================] - 41s 2ms/step - loss: 0.2417 - acc: 0.9125\n",
      "Epoch 1/1\n",
      "18191/18191 [==============================] - 36s 2ms/step - loss: 0.2477 - acc: 0.9078\n",
      "Epoch 1/1\n",
      "18190/18190 [==============================] - 23s 1ms/step - loss: 0.2430 - acc: 0.9121\n",
      "Epoch 1/1\n",
      "18190/18190 [==============================] - 24s 1ms/step - loss: 0.2381 - acc: 0.9130\n",
      "Epoch 1/1\n",
      "18188/18188 [==============================] - 24s 1ms/step - loss: 0.2328 - acc: 0.9165\n",
      "Epoch 1/1\n",
      "18182/18182 [==============================] - 24s 1ms/step - loss: 0.2375 - acc: 0.9149\n",
      "Epoch 1/1\n",
      "18178/18178 [==============================] - 24s 1ms/step - loss: 0.2451 - acc: 0.9121\n",
      "accuracy: 0.8058181818181818\n",
      "kappa: 0.7723219476884002\n",
      "             precision    recall  f1-score   support\n",
      "\n",
      "          0       0.88      0.88      0.88      9054\n",
      "          1       0.67      0.59      0.63      3187\n",
      "          2       0.93      0.93      0.93      3980\n",
      "          3       0.65      0.71      0.68       798\n",
      "          4       0.63      0.74      0.68      1065\n",
      "          5       0.61      0.67      0.64       379\n",
      "          6       0.63      0.53      0.57      1204\n",
      "          7       0.84      0.85      0.84      4324\n",
      "          8       0.84      0.89      0.86      8125\n",
      "          9       0.78      0.83      0.80      1354\n",
      "         10       0.44      0.38      0.41       132\n",
      "         11       0.63      0.77      0.70       214\n",
      "         12       0.75      0.72      0.73      1498\n",
      "         13       0.31      0.36      0.33       442\n",
      "         14       0.52      0.44      0.47       261\n",
      "         15       0.62      0.54      0.58       504\n",
      "         16       0.66      0.68      0.67       263\n",
      "         17       0.79      0.81      0.80       195\n",
      "         18       0.00      0.00      0.00        17\n",
      "         19       0.00      0.00      0.00       129\n",
      "\n",
      "avg / total       0.80      0.81      0.80     37125\n",
      "\n",
      "Epoch 1/1\n",
      "18195/18195 [==============================] - 24s 1ms/step - loss: 0.2335 - acc: 0.9147\n",
      "Epoch 1/1\n",
      "17600/18195 [============================>.] - ETA: 0s - loss: 0.2320 - acc: 0.9174"
     ]
    }
   ],
   "source": [
    "for it in range(10):\n",
    "  k_sample = StratifiedKFold(n_splits=total_batch, shuffle=True, random_state=1).split(range(len(y_train_class.values)), y_train_class.values)\n",
    "  for batch in k_sample:\n",
    "      X_batch = my_l_matrix[batch[1],:]\n",
    "      y_batch = to_categorical(y_train_class[batch[1]].values,20)\n",
    "\n",
    "      model.fit(X_batch,y_batch,epochs=1,batch_size=200)\n",
    "  y_pred = np.argmax(model.predict(my_test_matrix),axis=1)\n",
    "  from sklearn.metrics import classification_report,accuracy_score,cohen_kappa_score\n",
    "  acc = accuracy_score(y_test_class,y_pred)\n",
    "  kap = cohen_kappa_score(y_test_class,y_pred)\n",
    "  print(\"accuracy:\",acc)\n",
    "  print(\"kappa:\",kap)\n",
    "  print(classification_report(y_test_class,y_pred))\n",
    "  model.save(\"Dataset/arxiv/nn-model-lstm-embed-c{}.h5\".format(it))"
   ]
  },
  {
   "cell_type": "code",
   "execution_count": 0,
   "metadata": {
    "colab": {},
    "colab_type": "code",
    "collapsed": true,
    "id": "M4PQzXDnexw8"
   },
   "outputs": [],
   "source": [
    "from keras.models import load_model\n",
    "model2 = load_model(\"Dataset/arxiv/nn-model-conv7c-4.h5\")\n",
    "#model.load_weights(\"Dataset/arxiv/nn-model-conv6b-1.h5\")"
   ]
  },
  {
   "cell_type": "code",
   "execution_count": 0,
   "metadata": {
    "colab": {
     "base_uri": "https://localhost:8080/",
     "height": 612
    },
    "colab_type": "code",
    "id": "frMLZoHAkD3h",
    "outputId": "a5b8560b-cda7-4c6a-ea4a-943b905e8101"
   },
   "outputs": [
    {
     "name": "stdout",
     "output_type": "stream",
     "text": [
      "_________________________________________________________________\n",
      "Layer (type)                 Output Shape              Param #   \n",
      "=================================================================\n",
      "input (InputLayer)           (None, 150)               0         \n",
      "_________________________________________________________________\n",
      "embedding (Embedding)        (None, 150, 300)          3968100   \n",
      "_________________________________________________________________\n",
      "dropout1 (Dropout)           (None, 150, 300)          0         \n",
      "_________________________________________________________________\n",
      "conv1 (Conv1D)               (None, 146, 256)          384256    \n",
      "_________________________________________________________________\n",
      "pool1 (MaxPooling1D)         (None, 48, 256)           0         \n",
      "_________________________________________________________________\n",
      "dropout2 (Dropout)           (None, 48, 256)           0         \n",
      "_________________________________________________________________\n",
      "cov2 (Conv1D)                (None, 46, 256)           196864    \n",
      "_________________________________________________________________\n",
      "pool2 (MaxPooling1D)         (None, 23, 256)           0         \n",
      "_________________________________________________________________\n",
      "dropout4 (Dropout)           (None, 23, 256)           0         \n",
      "_________________________________________________________________\n",
      "flatten (Flatten)            (None, 5888)              0         \n",
      "_________________________________________________________________\n",
      "dense1 (Dense)               (None, 512)               3015168   \n",
      "_________________________________________________________________\n",
      "dropout5 (Dropout)           (None, 512)               0         \n",
      "_________________________________________________________________\n",
      "dense2 (Dense)               (None, 256)               131328    \n",
      "_________________________________________________________________\n",
      "output (Dense)               (None, 20)                5140      \n",
      "=================================================================\n",
      "Total params: 7,700,856\n",
      "Trainable params: 7,700,856\n",
      "Non-trainable params: 0\n",
      "_________________________________________________________________\n"
     ]
    }
   ],
   "source": [
    "model2.summary()"
   ]
  },
  {
   "cell_type": "code",
   "execution_count": 0,
   "metadata": {
    "colab": {},
    "colab_type": "code",
    "collapsed": true,
    "id": "17V0W7ObfVbm"
   },
   "outputs": [],
   "source": [
    "from sklearn.metrics import confusion_matrix\n",
    "import itertools\n",
    "from matplotlib import pyplot as plt\n",
    "\n",
    "def plot_confusion_matrix(cm, classes,\n",
    "                          normalize=False,\n",
    "                          title='Confusion matrix',\n",
    "                          cmap=plt.cm.Blues):\n",
    "    \"\"\"\n",
    "    This function prints and plots the confusion matrix.\n",
    "    Normalization can be applied by setting `normalize=True`.\n",
    "    \"\"\"\n",
    "    if normalize:\n",
    "        cm = cm.astype('float') / cm.sum(axis=1)[:, np.newaxis]\n",
    "        print(\"Normalized confusion matrix\")\n",
    "    else:\n",
    "        print('Confusion matrix, without normalization')\n",
    "\n",
    "    #print(cm)\n",
    "\n",
    "    plt.imshow(cm, interpolation='nearest', cmap=cmap)\n",
    "    plt.title(title)\n",
    "    plt.colorbar()\n",
    "    tick_marks = np.arange(len(classes))\n",
    "    plt.xticks(tick_marks, classes, rotation=45)\n",
    "    plt.yticks(tick_marks, classes)\n",
    "\n",
    "    fmt = '.2f' if normalize else 'd'\n",
    "    thresh = cm.max() / 2.\n",
    "    for i, j in itertools.product(range(cm.shape[0]), range(cm.shape[1])):\n",
    "        plt.text(j, i, format(cm[i, j], fmt),\n",
    "                 horizontalalignment=\"center\",\n",
    "                 color=\"white\" if cm[i, j] > thresh else \"black\")\n",
    "\n",
    "    plt.tight_layout()\n",
    "    plt.ylabel('Truth')\n",
    "    plt.xlabel('Prediction')"
   ]
  },
  {
   "cell_type": "code",
   "execution_count": 0,
   "metadata": {
    "colab": {
     "base_uri": "https://localhost:8080/",
     "height": 510
    },
    "colab_type": "code",
    "id": "PbBBI5IShdDp",
    "outputId": "10ab03ec-984f-4c3c-e5ed-c0943ec15e97"
   },
   "outputs": [
    {
     "name": "stdout",
     "output_type": "stream",
     "text": [
      "accuracy: 0.8007272727272727\n",
      "kappa: 0.7655796878120434\n",
      "             precision    recall  f1-score   support\n",
      "\n",
      "       math       0.87      0.89      0.88      9054\n",
      "    physics       0.66      0.56      0.61      3187\n",
      "   astro-ph       0.92      0.93      0.92      3980\n",
      "      gr-qc       0.60      0.73      0.66       798\n",
      "     hep-th       0.74      0.68      0.71      1065\n",
      "    nucl-th       0.66      0.60      0.63       379\n",
      "       stat       0.62      0.47      0.54      1204\n",
      "   cond-mat       0.80      0.87      0.84      4324\n",
      "         cs       0.83      0.89      0.86      8125\n",
      "     hep-ph       0.83      0.77      0.80      1354\n",
      "    nucl-ex       0.38      0.52      0.44       132\n",
      "      q-fin       0.72      0.60      0.65       214\n",
      "   quant-ph       0.77      0.71      0.74      1498\n",
      "    math-ph       0.31      0.27      0.29       442\n",
      "       nlin       0.52      0.35      0.42       261\n",
      "      q-bio       0.54      0.53      0.54       504\n",
      "     hep-ex       0.62      0.69      0.65       263\n",
      "    hep-lat       0.78      0.77      0.77       195\n",
      "       econ       0.00      0.00      0.00        17\n",
      "       eess       0.08      0.01      0.01       129\n",
      "\n",
      "avg / total       0.79      0.80      0.80     37125\n",
      "\n"
     ]
    },
    {
     "name": "stderr",
     "output_type": "stream",
     "text": [
      "/usr/local/lib/python3.6/dist-packages/sklearn/metrics/classification.py:1135: UndefinedMetricWarning: Precision and F-score are ill-defined and being set to 0.0 in labels with no predicted samples.\n",
      "  'precision', 'predicted', average, warn_for)\n"
     ]
    }
   ],
   "source": [
    "y_pred = np.argmax(model2.predict(my_test_matrix),axis=1)\n",
    "from sklearn.metrics import classification_report,accuracy_score,cohen_kappa_score\n",
    "acc = accuracy_score(y_test_class,y_pred)\n",
    "kap = cohen_kappa_score(y_test_class,y_pred)\n",
    "print(\"accuracy:\",acc)\n",
    "print(\"kappa:\",kap)\n",
    "print(classification_report(y_test_class,y_pred,target_names=y_train_label_l))"
   ]
  },
  {
   "cell_type": "code",
   "execution_count": 0,
   "metadata": {
    "colab": {
     "base_uri": "https://localhost:8080/",
     "height": 1102
    },
    "colab_type": "code",
    "id": "kFpHTB_3hdDv",
    "outputId": "2e63312f-92cf-4bef-aacc-b0765b5703b0"
   },
   "outputs": [
    {
     "name": "stdout",
     "output_type": "stream",
     "text": [
      "Normalized confusion matrix\n"
     ]
    },
    {
     "data": {
      "image/png": "[encoded data removed]",
      "text/plain": [
       "<matplotlib.figure.Figure at 0x7f31508ee128>"
      ]
     },
     "metadata": {
      "tags": []
     },
     "output_type": "display_data"
    }
   ],
   "source": [
    "import numpy as np\n",
    "cnf_matrix = confusion_matrix(y_test_class,y_pred)\n",
    "np.set_printoptions(precision=2)\n",
    "\n",
    "# Plot normalized confusion matrix\n",
    "plt.figure(figsize=(15,15))\n",
    "plot_confusion_matrix(cnf_matrix, classes=y_train_label_l, normalize=True,\n",
    "                      title=\"{} model\".format(\"Convolutional Neural Network\"))"
   ]
  }
 ],
 "metadata": {
  "accelerator": "GPU",
  "colab": {
   "collapsed_sections": [],
   "name": "5th_model_nn_lstm strata drop select feature - embedding",
   "provenance": [],
   "version": "0.3.2"
  },
  "kernelspec": {
   "display_name": "Python [Root]",
   "language": "python",
   "name": "Python [Root]"
  },
  "language_info": {
   "codemirror_mode": {
    "name": "ipython",
    "version": 3
   },
   "file_extension": ".py",
   "mimetype": "text/x-python",
   "name": "python",
   "nbconvert_exporter": "python",
   "pygments_lexer": "ipython3",
   "version": "3.5.6"
  }
 },
 "nbformat": 4,
 "nbformat_minor": 1
}
