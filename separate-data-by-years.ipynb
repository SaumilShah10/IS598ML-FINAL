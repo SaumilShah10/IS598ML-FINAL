{
 "cells": [
  {
   "cell_type": "code",
   "execution_count": 11,
   "metadata": {},
   "outputs": [],
   "source": [
    "import os\n",
    "import json\n",
    "from datetime import datetime\n",
    "from shutil import rmtree\n",
    "from collections import defaultdict\n",
    "\n",
    "output_folder = 'data-by-year'\n",
    "if os.path.exists(output_folder):\n",
    "    rmtree(output_folder)\n",
    "os.mkdir(output_folder)"
   ]
  },
  {
   "cell_type": "code",
   "execution_count": 12,
   "metadata": {},
   "outputs": [
    {
     "name": "stdout",
     "output_type": "stream",
     "text": [
      "defaultdict(<class 'int'>, {2015: 105128, 1996: 15875, 2017: 123781, 2001: 33128, 2012: 84389, 2014: 97598, 2010: 70286, 2016: 113436, 2009: 64077, 2008: 58796, 2004: 43721, 2011: 76605, 2007: 55768, 2018: 80543, 1997: 19621, 2013: 92866, 1999: 27694, 2002: 36103, 2005: 46867, 2006: 50304, 2003: 39389, 1998: 24174, 1992: 3181, 2000: 30672, 1994: 10085, 1995: 12994, 1993: 6728, 1991: 370, 1990: 25, 1989: 8, 1988: 1, 1986: 1})\n"
     ]
    }
   ],
   "source": [
    "count = defaultdict(int)\n",
    "\n",
    "with open('arxiv_data.json', 'r') as f:\n",
    "    for line in f:\n",
    "        row = json.loads(line)['arXiv']\n",
    "        year = datetime.strptime(row['created'],\"%Y-%m-%d\").year\n",
    "        \n",
    "        output_file = os.path.join(output_folder, str(year) + '.json')\n",
    "        with open(output_file, 'a') as o:\n",
    "            o.write(line)\n",
    "        \n",
    "        count[year] += 1\n",
    "\n",
    "print(count)"
   ]
  },
  {
   "cell_type": "code",
   "execution_count": null,
   "metadata": {},
   "outputs": [],
   "source": []
  }
 ],
 "metadata": {
  "kernelspec": {
   "display_name": "Python 3",
   "language": "python",
   "name": "python3"
  },
  "language_info": {
   "codemirror_mode": {
    "name": "ipython",
    "version": 3
   },
   "file_extension": ".py",
   "mimetype": "text/x-python",
   "name": "python",
   "nbconvert_exporter": "python",
   "pygments_lexer": "ipython3",
   "version": "3.6.6"
  }
 },
 "nbformat": 4,
 "nbformat_minor": 2
}
