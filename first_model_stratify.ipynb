{
 "cells": [
  {
   "cell_type": "code",
   "execution_count": 68,
   "metadata": {
    "colab": {
     "base_uri": "https://localhost:8080/",
     "height": 238
    },
    "colab_type": "code",
    "id": "L6b_MgRi1yZT",
    "outputId": "541adcb2-56ab-47bd-ea85-ab42bd7fc7f6"
   },
   "outputs": [
    {
     "name": "stdout",
     "output_type": "stream",
     "text": [
      "abstract_noun_clean.pickle\t  metadata\n",
      "abstract_noun_clean_strat.pickle  metadata_arxiv.tar.gz\n",
      "abstract_noun.pickle\t\t  tar_members.pickle\n",
      "arxiv_abstract.csv\t\t  test_all.csv\n",
      "arxiv_author.csv\t\t  test_mul.csv\n",
      "arxiv_categories.csv\t\t  tfidf_w_embed_vector.pickle\n",
      "arxiv_data.json\t\t\t  tf_word_vector.csv\n",
      "arxiv_main.csv\t\t\t  train_2016.csv\n",
      "arxiv_main.gsheet\t\t  train_2017.csv\n",
      "cc.en.300.bin\t\t\t  train_all.csv\n",
      "cc.en.300.vec\t\t\t  trained_first_model.pickle\n",
      "main_test.csv\t\t\t  train_mul.csv\n",
      "main_train.csv\n"
     ]
    }
   ],
   "source": [
    "!ls Dataset/arxiv/"
   ]
  },
  {
   "cell_type": "code",
   "execution_count": 0,
   "metadata": {
    "colab": {},
    "colab_type": "code",
    "collapsed": true,
    "id": "k4i7UDH919kL"
   },
   "outputs": [],
   "source": [
    "import pandas as pd"
   ]
  },
  {
   "cell_type": "code",
   "execution_count": 0,
   "metadata": {
    "colab": {},
    "colab_type": "code",
    "collapsed": true,
    "id": "RYv8pJ0nA7-v"
   },
   "outputs": [],
   "source": [
    "pd_test = pd.read_csv(\"Dataset/arxiv/test_all.csv\",dtype=str)"
   ]
  },
  {
   "cell_type": "code",
   "execution_count": 72,
   "metadata": {
    "colab": {
     "base_uri": "https://localhost:8080/",
     "height": 204
    },
    "colab_type": "code",
    "id": "m1LsPOqbFkWM",
    "outputId": "fb323362-2418-447a-da78-bd1da58817bd"
   },
   "outputs": [
    {
     "data": {
      "text/plain": [
       "arxiv_id       object\n",
       "create_date    object\n",
       "update_date    object\n",
       "year           object\n",
       "month          object\n",
       "cat            object\n",
       "cats           object\n",
       "sub_cats       object\n",
       "title          object\n",
       "abstract       object\n",
       "dtype: object"
      ]
     },
     "execution_count": 72,
     "metadata": {
      "tags": []
     },
     "output_type": "execute_result"
    }
   ],
   "source": [
    "pd_test.dtypes"
   ]
  },
  {
   "cell_type": "code",
   "execution_count": 0,
   "metadata": {
    "colab": {},
    "colab_type": "code",
    "collapsed": true,
    "id": "y5GIIRrvHD80"
   },
   "outputs": [],
   "source": [
    "pd_train = pd.read_csv(\"Dataset/arxiv/train_all.csv\",dtype=str)"
   ]
  },
  {
   "cell_type": "code",
   "execution_count": 75,
   "metadata": {
    "colab": {
     "base_uri": "https://localhost:8080/",
     "height": 34
    },
    "colab_type": "code",
    "id": "IYGtqm0QHGfU",
    "outputId": "0877bc0e-5a01-40f1-cc1f-2c26d4c68684"
   },
   "outputs": [
    {
     "data": {
      "text/plain": [
       "(200092, 10)"
      ]
     },
     "execution_count": 75,
     "metadata": {
      "tags": []
     },
     "output_type": "execute_result"
    }
   ],
   "source": [
    "pd_train.shape"
   ]
  },
  {
   "cell_type": "code",
   "execution_count": 76,
   "metadata": {
    "colab": {
     "base_uri": "https://localhost:8080/",
     "height": 34
    },
    "colab_type": "code",
    "id": "eFuipitsHtCp",
    "outputId": "f9e1dea0-0139-40e3-bff9-ff049f669a0a"
   },
   "outputs": [
    {
     "data": {
      "text/plain": [
       "(37125, 10)"
      ]
     },
     "execution_count": 76,
     "metadata": {
      "tags": []
     },
     "output_type": "execute_result"
    }
   ],
   "source": [
    "pd_test.shape"
   ]
  },
  {
   "cell_type": "code",
   "execution_count": 79,
   "metadata": {
    "colab": {
     "base_uri": "https://localhost:8080/",
     "height": 1969
    },
    "colab_type": "code",
    "id": "UNzJd7A2FPeM",
    "outputId": "e3bfe87b-7df7-4d85-ca2a-f39f94bd7aee"
   },
   "outputs": [
    {
     "data": {
      "text/html": [
       "<div>\n",
       "<style scoped>\n",
       "    .dataframe tbody tr th:only-of-type {\n",
       "        vertical-align: middle;\n",
       "    }\n",
       "\n",
       "    .dataframe tbody tr th {\n",
       "        vertical-align: top;\n",
       "    }\n",
       "\n",
       "    .dataframe thead th {\n",
       "        text-align: right;\n",
       "    }\n",
       "</style>\n",
       "<table border=\"1\" class=\"dataframe\">\n",
       "  <thead>\n",
       "    <tr style=\"text-align: right;\">\n",
       "      <th></th>\n",
       "      <th>arxiv_id</th>\n",
       "      <th>create_date</th>\n",
       "      <th>update_date</th>\n",
       "      <th>year</th>\n",
       "      <th>month</th>\n",
       "      <th>cat</th>\n",
       "      <th>cats</th>\n",
       "      <th>sub_cats</th>\n",
       "      <th>title</th>\n",
       "      <th>abstract</th>\n",
       "    </tr>\n",
       "  </thead>\n",
       "  <tbody>\n",
       "    <tr>\n",
       "      <th>0</th>\n",
       "      <td>1601.00052</td>\n",
       "      <td>2016-01-01</td>\n",
       "      <td>NaN</td>\n",
       "      <td>2016</td>\n",
       "      <td>1</td>\n",
       "      <td>math</td>\n",
       "      <td>math</td>\n",
       "      <td>math.CO</td>\n",
       "      <td>Combinatorial Formulas for Certain Sequences o...</td>\n",
       "      <td>Multiple analogues of certain families of comb...</td>\n",
       "    </tr>\n",
       "    <tr>\n",
       "      <th>1</th>\n",
       "      <td>1601.00053</td>\n",
       "      <td>2016-01-01</td>\n",
       "      <td>NaN</td>\n",
       "      <td>2016</td>\n",
       "      <td>1</td>\n",
       "      <td>physics</td>\n",
       "      <td>physics</td>\n",
       "      <td>physics.chem-ph</td>\n",
       "      <td>Efficient Symmetrized DMRG Algorithm for Low-l...</td>\n",
       "      <td>Symmetry adapted density matrix renormalizatio...</td>\n",
       "    </tr>\n",
       "    <tr>\n",
       "      <th>2</th>\n",
       "      <td>1601.00054</td>\n",
       "      <td>2016-01-01</td>\n",
       "      <td>NaN</td>\n",
       "      <td>2016</td>\n",
       "      <td>1</td>\n",
       "      <td>astro-ph</td>\n",
       "      <td>astro-ph</td>\n",
       "      <td>astro-ph.GA</td>\n",
       "      <td>Study of Milli-Jansky Seyfert Galaxies with St...</td>\n",
       "      <td>We study the radio properties at 1.4 GHz of Se...</td>\n",
       "    </tr>\n",
       "    <tr>\n",
       "      <th>3</th>\n",
       "      <td>1601.00055</td>\n",
       "      <td>2016-01-01</td>\n",
       "      <td>NaN</td>\n",
       "      <td>2016</td>\n",
       "      <td>1</td>\n",
       "      <td>gr-qc</td>\n",
       "      <td>gr-qc</td>\n",
       "      <td>gr-qc</td>\n",
       "      <td>A note on proper affine symmetry in Kantowski-...</td>\n",
       "      <td>We investigate proper affine symmetry for the ...</td>\n",
       "    </tr>\n",
       "    <tr>\n",
       "      <th>4</th>\n",
       "      <td>1601.00056</td>\n",
       "      <td>2016-01-01</td>\n",
       "      <td>2016-01-31</td>\n",
       "      <td>2016</td>\n",
       "      <td>1</td>\n",
       "      <td>astro-ph</td>\n",
       "      <td>astro-ph</td>\n",
       "      <td>astro-ph.HE</td>\n",
       "      <td>Rapid rotational crust-core relaxation in magn...</td>\n",
       "      <td>If a magnetar interior $B$-field exceeds $10^{...</td>\n",
       "    </tr>\n",
       "    <tr>\n",
       "      <th>5</th>\n",
       "      <td>1601.00057</td>\n",
       "      <td>2016-01-01</td>\n",
       "      <td>2016-12-11</td>\n",
       "      <td>2016</td>\n",
       "      <td>1</td>\n",
       "      <td>hep-th</td>\n",
       "      <td>hep-th|astro-ph|gr-qc|hep-ph</td>\n",
       "      <td>hep-th|astro-ph.CO|gr-qc|hep-ph</td>\n",
       "      <td>Tracking Dark Energy from Axion-Gauge Field Co...</td>\n",
       "      <td>We propose a toy model of Dark Energy in which...</td>\n",
       "    </tr>\n",
       "    <tr>\n",
       "      <th>6</th>\n",
       "      <td>1601.00058</td>\n",
       "      <td>2016-01-01</td>\n",
       "      <td>2016-03-24</td>\n",
       "      <td>2016</td>\n",
       "      <td>1</td>\n",
       "      <td>nucl-th</td>\n",
       "      <td>nucl-th|hep-ph</td>\n",
       "      <td>nucl-th|hep-ph</td>\n",
       "      <td>Fractionized Skyrmions in Dense Compact-Star M...</td>\n",
       "      <td>The hadronic matter described as a skyrmion ma...</td>\n",
       "    </tr>\n",
       "    <tr>\n",
       "      <th>7</th>\n",
       "      <td>1601.00059</td>\n",
       "      <td>2016-01-01</td>\n",
       "      <td>2016-01-31</td>\n",
       "      <td>2016</td>\n",
       "      <td>1</td>\n",
       "      <td>math</td>\n",
       "      <td>math</td>\n",
       "      <td>math.HO|math.CA|math.LO</td>\n",
       "      <td>Controversies in the foundations of analysis: ...</td>\n",
       "      <td>Foundations of Science recently published a re...</td>\n",
       "    </tr>\n",
       "    <tr>\n",
       "      <th>8</th>\n",
       "      <td>1601.00060</td>\n",
       "      <td>2016-01-01</td>\n",
       "      <td>2016-05-27</td>\n",
       "      <td>2016</td>\n",
       "      <td>1</td>\n",
       "      <td>math</td>\n",
       "      <td>math</td>\n",
       "      <td>math.DG|math.AP</td>\n",
       "      <td>The conical K\\\"ahler-Ricci flow with weak init...</td>\n",
       "      <td>In this paper, we prove the long-time existenc...</td>\n",
       "    </tr>\n",
       "    <tr>\n",
       "      <th>9</th>\n",
       "      <td>1601.00061</td>\n",
       "      <td>2016-01-01</td>\n",
       "      <td>NaN</td>\n",
       "      <td>2016</td>\n",
       "      <td>1</td>\n",
       "      <td>math</td>\n",
       "      <td>math</td>\n",
       "      <td>math.OA</td>\n",
       "      <td>Wavelets and graph $C^*$-algebras</td>\n",
       "      <td>Here we give an overview on the connection bet...</td>\n",
       "    </tr>\n",
       "    <tr>\n",
       "      <th>10</th>\n",
       "      <td>1601.00062</td>\n",
       "      <td>2016-01-01</td>\n",
       "      <td>2016-04-22</td>\n",
       "      <td>2016</td>\n",
       "      <td>1</td>\n",
       "      <td>stat</td>\n",
       "      <td>stat|cs|math</td>\n",
       "      <td>stat.ML|cs.LG|math.OC</td>\n",
       "      <td>Practical Algorithms for Learning Near-Isometr...</td>\n",
       "      <td>We propose two practical non-convex approaches...</td>\n",
       "    </tr>\n",
       "    <tr>\n",
       "      <th>11</th>\n",
       "      <td>1601.00063</td>\n",
       "      <td>2016-01-01</td>\n",
       "      <td>2017-09-02</td>\n",
       "      <td>2016</td>\n",
       "      <td>1</td>\n",
       "      <td>math</td>\n",
       "      <td>math</td>\n",
       "      <td>math.DS</td>\n",
       "      <td>Exponential mixing for generic volume-preservi...</td>\n",
       "      <td>Let $M$ be a closed $3$-dimensional Riemann ma...</td>\n",
       "    </tr>\n",
       "    <tr>\n",
       "      <th>12</th>\n",
       "      <td>1601.00064</td>\n",
       "      <td>2016-01-01</td>\n",
       "      <td>NaN</td>\n",
       "      <td>2016</td>\n",
       "      <td>1</td>\n",
       "      <td>cond-mat</td>\n",
       "      <td>cond-mat|astro-ph</td>\n",
       "      <td>cond-mat.stat-mech|astro-ph.HE</td>\n",
       "      <td>Classical particle scattering for power-law tw...</td>\n",
       "      <td>We present a rigorous study of the classical s...</td>\n",
       "    </tr>\n",
       "    <tr>\n",
       "      <th>13</th>\n",
       "      <td>1601.00065</td>\n",
       "      <td>2016-01-01</td>\n",
       "      <td>2016-01-08</td>\n",
       "      <td>2016</td>\n",
       "      <td>1</td>\n",
       "      <td>math</td>\n",
       "      <td>math</td>\n",
       "      <td>math.GT|math.CO</td>\n",
       "      <td>A characterization of tightly triangulated 3-m...</td>\n",
       "      <td>For a field $\\mathbb{F}$, the notion of $\\math...</td>\n",
       "    </tr>\n",
       "    <tr>\n",
       "      <th>14</th>\n",
       "      <td>1601.00066</td>\n",
       "      <td>2016-01-01</td>\n",
       "      <td>NaN</td>\n",
       "      <td>2016</td>\n",
       "      <td>1</td>\n",
       "      <td>astro-ph</td>\n",
       "      <td>astro-ph</td>\n",
       "      <td>astro-ph.EP</td>\n",
       "      <td>Quasi-satellite dynamics in formation flight</td>\n",
       "      <td>The quasi-satellite (QS) phenomenon makes two ...</td>\n",
       "    </tr>\n",
       "    <tr>\n",
       "      <th>15</th>\n",
       "      <td>1601.00067</td>\n",
       "      <td>2016-01-01</td>\n",
       "      <td>NaN</td>\n",
       "      <td>2016</td>\n",
       "      <td>1</td>\n",
       "      <td>astro-ph</td>\n",
       "      <td>astro-ph</td>\n",
       "      <td>astro-ph.IM</td>\n",
       "      <td>Point Source Detection Software in the SKA Era</td>\n",
       "      <td>The generation of a sky model for calibration ...</td>\n",
       "    </tr>\n",
       "    <tr>\n",
       "      <th>16</th>\n",
       "      <td>1601.00068</td>\n",
       "      <td>2016-01-01</td>\n",
       "      <td>NaN</td>\n",
       "      <td>2016</td>\n",
       "      <td>1</td>\n",
       "      <td>cond-mat</td>\n",
       "      <td>cond-mat</td>\n",
       "      <td>cond-mat.soft|cond-mat.dis-nn|cond-mat.stat-mech</td>\n",
       "      <td>Beyond linear elasticity: Jammed solids at fin...</td>\n",
       "      <td>The shear response of soft solids can be model...</td>\n",
       "    </tr>\n",
       "    <tr>\n",
       "      <th>17</th>\n",
       "      <td>1601.00069</td>\n",
       "      <td>2016-01-01</td>\n",
       "      <td>2016-02-18</td>\n",
       "      <td>2016</td>\n",
       "      <td>1</td>\n",
       "      <td>astro-ph</td>\n",
       "      <td>astro-ph</td>\n",
       "      <td>astro-ph.EP</td>\n",
       "      <td>Atmospheric Circulation of Hot Jupiters: Daysi...</td>\n",
       "      <td>The full-phase infrared light curves of low-ec...</td>\n",
       "    </tr>\n",
       "    <tr>\n",
       "      <th>18</th>\n",
       "      <td>1601.00070</td>\n",
       "      <td>2016-01-01</td>\n",
       "      <td>NaN</td>\n",
       "      <td>2016</td>\n",
       "      <td>1</td>\n",
       "      <td>astro-ph</td>\n",
       "      <td>astro-ph</td>\n",
       "      <td>astro-ph.GA|astro-ph.IM</td>\n",
       "      <td>Implementation of Tidbinbilla 70-m On-The-Fly ...</td>\n",
       "      <td>On-the-fly mapping of cm-wave spectral lines h...</td>\n",
       "    </tr>\n",
       "    <tr>\n",
       "      <th>19</th>\n",
       "      <td>1601.00071</td>\n",
       "      <td>2016-01-01</td>\n",
       "      <td>NaN</td>\n",
       "      <td>2016</td>\n",
       "      <td>1</td>\n",
       "      <td>cond-mat</td>\n",
       "      <td>cond-mat|nlin</td>\n",
       "      <td>cond-mat.quant-gas|nlin.PS</td>\n",
       "      <td>Disorder Induced Vortex Lattice Melting in Bos...</td>\n",
       "      <td>We study the vortex lattice dynamics in presen...</td>\n",
       "    </tr>\n",
       "    <tr>\n",
       "      <th>20</th>\n",
       "      <td>1601.00072</td>\n",
       "      <td>2016-01-01</td>\n",
       "      <td>2016-03-28</td>\n",
       "      <td>2016</td>\n",
       "      <td>1</td>\n",
       "      <td>cs</td>\n",
       "      <td>cs</td>\n",
       "      <td>cs.DC|cs.CV</td>\n",
       "      <td>GPU-Based Fuzzy C-Means Clustering Algorithm f...</td>\n",
       "      <td>In this paper, a fast and practical GPU-based ...</td>\n",
       "    </tr>\n",
       "    <tr>\n",
       "      <th>21</th>\n",
       "      <td>1601.00073</td>\n",
       "      <td>2016-01-01</td>\n",
       "      <td>NaN</td>\n",
       "      <td>2016</td>\n",
       "      <td>1</td>\n",
       "      <td>cs</td>\n",
       "      <td>cs</td>\n",
       "      <td>cs.DB|cs.PL</td>\n",
       "      <td>Mimir: Bringing CTables into Practice</td>\n",
       "      <td>The present state of the art in analytics requ...</td>\n",
       "    </tr>\n",
       "    <tr>\n",
       "      <th>22</th>\n",
       "      <td>1601.00074</td>\n",
       "      <td>2016-01-01</td>\n",
       "      <td>NaN</td>\n",
       "      <td>2016</td>\n",
       "      <td>1</td>\n",
       "      <td>physics</td>\n",
       "      <td>physics</td>\n",
       "      <td>physics.plasm-ph</td>\n",
       "      <td>Self-deformation in a dc driven helium jet mic...</td>\n",
       "      <td>We report on the experimental observation of t...</td>\n",
       "    </tr>\n",
       "    <tr>\n",
       "      <th>23</th>\n",
       "      <td>1601.00075</td>\n",
       "      <td>2016-01-01</td>\n",
       "      <td>2016-04-06</td>\n",
       "      <td>2016</td>\n",
       "      <td>1</td>\n",
       "      <td>hep-ph</td>\n",
       "      <td>hep-ph|hep-ex</td>\n",
       "      <td>hep-ph|hep-ex</td>\n",
       "      <td>The $\\Lambda_{b}\\rightarrow J/\\psi K^{0}\\Lambd...</td>\n",
       "      <td>We study the $\\Lambda_{b}\\rightarrow J/\\psi K^...</td>\n",
       "    </tr>\n",
       "    <tr>\n",
       "      <th>24</th>\n",
       "      <td>1601.00076</td>\n",
       "      <td>2016-01-01</td>\n",
       "      <td>2016-02-17</td>\n",
       "      <td>2016</td>\n",
       "      <td>1</td>\n",
       "      <td>hep-th</td>\n",
       "      <td>hep-th</td>\n",
       "      <td>hep-th</td>\n",
       "      <td>Bounds on topological Abelian string-vortex an...</td>\n",
       "      <td>In this work we obtain bounds on the topologic...</td>\n",
       "    </tr>\n",
       "    <tr>\n",
       "      <th>25</th>\n",
       "      <td>1601.00077</td>\n",
       "      <td>2016-01-01</td>\n",
       "      <td>NaN</td>\n",
       "      <td>2016</td>\n",
       "      <td>1</td>\n",
       "      <td>cond-mat</td>\n",
       "      <td>cond-mat</td>\n",
       "      <td>cond-mat.mtrl-sci</td>\n",
       "      <td>Griffiths like Robust Ferromagnetism in Co3-xM...</td>\n",
       "      <td>We report near room temperature ferromagnetic ...</td>\n",
       "    </tr>\n",
       "    <tr>\n",
       "      <th>26</th>\n",
       "      <td>1601.00078</td>\n",
       "      <td>2016-01-01</td>\n",
       "      <td>NaN</td>\n",
       "      <td>2016</td>\n",
       "      <td>1</td>\n",
       "      <td>math</td>\n",
       "      <td>math|stat</td>\n",
       "      <td>math.PR|math.ST|stat.TH</td>\n",
       "      <td>A Characterization of the Normal Distribution ...</td>\n",
       "      <td>Kagan and Shalaevski 1967 have shown that if t...</td>\n",
       "    </tr>\n",
       "    <tr>\n",
       "      <th>27</th>\n",
       "      <td>1601.00079</td>\n",
       "      <td>2016-01-01</td>\n",
       "      <td>2016-03-02</td>\n",
       "      <td>2016</td>\n",
       "      <td>1</td>\n",
       "      <td>nucl-ex</td>\n",
       "      <td>nucl-ex|hep-ex</td>\n",
       "      <td>nucl-ex|hep-ex</td>\n",
       "      <td>Correlations between jets and charged particle...</td>\n",
       "      <td>The quark-gluon plasma is studied via medium-i...</td>\n",
       "    </tr>\n",
       "    <tr>\n",
       "      <th>28</th>\n",
       "      <td>1601.00080</td>\n",
       "      <td>2016-01-01</td>\n",
       "      <td>2017-12-10</td>\n",
       "      <td>2016</td>\n",
       "      <td>1</td>\n",
       "      <td>math</td>\n",
       "      <td>math</td>\n",
       "      <td>math.RT|math.CT</td>\n",
       "      <td>Diagrams and discrete extensions for finitary ...</td>\n",
       "      <td>In this paper we introduce and investigate the...</td>\n",
       "    </tr>\n",
       "    <tr>\n",
       "      <th>29</th>\n",
       "      <td>1601.00081</td>\n",
       "      <td>2016-01-01</td>\n",
       "      <td>2016-02-23</td>\n",
       "      <td>2016</td>\n",
       "      <td>1</td>\n",
       "      <td>hep-ph</td>\n",
       "      <td>hep-ph|hep-th</td>\n",
       "      <td>hep-ph|hep-th</td>\n",
       "      <td>Dark matter and localised fermions from spheri...</td>\n",
       "      <td>We study a class of six-dimensional models bas...</td>\n",
       "    </tr>\n",
       "    <tr>\n",
       "      <th>...</th>\n",
       "      <td>...</td>\n",
       "      <td>...</td>\n",
       "      <td>...</td>\n",
       "      <td>...</td>\n",
       "      <td>...</td>\n",
       "      <td>...</td>\n",
       "      <td>...</td>\n",
       "      <td>...</td>\n",
       "      <td>...</td>\n",
       "      <td>...</td>\n",
       "    </tr>\n",
       "    <tr>\n",
       "      <th>70</th>\n",
       "      <td>1601.00122</td>\n",
       "      <td>2016-01-01</td>\n",
       "      <td>NaN</td>\n",
       "      <td>2016</td>\n",
       "      <td>1</td>\n",
       "      <td>cs</td>\n",
       "      <td>cs</td>\n",
       "      <td>cs.NI</td>\n",
       "      <td>Improving Performance of IEEE 802.11 by a Dyna...</td>\n",
       "      <td>The IEEE 802.11 backoff algorithm is very impo...</td>\n",
       "    </tr>\n",
       "    <tr>\n",
       "      <th>71</th>\n",
       "      <td>1601.00123</td>\n",
       "      <td>2016-01-01</td>\n",
       "      <td>2016-01-12</td>\n",
       "      <td>2016</td>\n",
       "      <td>1</td>\n",
       "      <td>physics</td>\n",
       "      <td>physics|hep-ex</td>\n",
       "      <td>physics.ins-det|hep-ex</td>\n",
       "      <td>Fast Timing for High-Rate Environments with Mi...</td>\n",
       "      <td>The current state of the art in fast timing re...</td>\n",
       "    </tr>\n",
       "    <tr>\n",
       "      <th>72</th>\n",
       "      <td>1601.00124</td>\n",
       "      <td>2016-01-01</td>\n",
       "      <td>NaN</td>\n",
       "      <td>2016</td>\n",
       "      <td>1</td>\n",
       "      <td>math</td>\n",
       "      <td>math</td>\n",
       "      <td>math.CA</td>\n",
       "      <td>On a conjecture of a logarithmically completel...</td>\n",
       "      <td>In this short note we prove a conjecture for t...</td>\n",
       "    </tr>\n",
       "    <tr>\n",
       "      <th>73</th>\n",
       "      <td>1601.00125</td>\n",
       "      <td>2016-01-01</td>\n",
       "      <td>NaN</td>\n",
       "      <td>2016</td>\n",
       "      <td>1</td>\n",
       "      <td>astro-ph</td>\n",
       "      <td>astro-ph</td>\n",
       "      <td>astro-ph.IM|astro-ph.CO</td>\n",
       "      <td>Initial Performance of BICEP3: A Degree Angula...</td>\n",
       "      <td>BICEP3 is a $550~mm$ aperture telescope with c...</td>\n",
       "    </tr>\n",
       "    <tr>\n",
       "      <th>74</th>\n",
       "      <td>1601.00126</td>\n",
       "      <td>2016-01-01</td>\n",
       "      <td>2017-06-12</td>\n",
       "      <td>2016</td>\n",
       "      <td>1</td>\n",
       "      <td>cs</td>\n",
       "      <td>cs|math</td>\n",
       "      <td>cs.IT|math.IT</td>\n",
       "      <td>On some bounds for symmetric tensor rank of mu...</td>\n",
       "      <td>We establish new upper bounds about symmetric ...</td>\n",
       "    </tr>\n",
       "    <tr>\n",
       "      <th>75</th>\n",
       "      <td>1601.00127</td>\n",
       "      <td>2016-01-01</td>\n",
       "      <td>2016-01-08</td>\n",
       "      <td>2016</td>\n",
       "      <td>1</td>\n",
       "      <td>hep-th</td>\n",
       "      <td>hep-th</td>\n",
       "      <td>hep-th</td>\n",
       "      <td>Semiclassical structure constants in the eta-d...</td>\n",
       "      <td>We consider the leading finite-size effects on...</td>\n",
       "    </tr>\n",
       "    <tr>\n",
       "      <th>76</th>\n",
       "      <td>1601.00128</td>\n",
       "      <td>2016-01-01</td>\n",
       "      <td>NaN</td>\n",
       "      <td>2016</td>\n",
       "      <td>1</td>\n",
       "      <td>math</td>\n",
       "      <td>math</td>\n",
       "      <td>math.RA</td>\n",
       "      <td>A bound on the codimensions of a PI-algebra us...</td>\n",
       "      <td>In this note we draw a connection between nonc...</td>\n",
       "    </tr>\n",
       "    <tr>\n",
       "      <th>77</th>\n",
       "      <td>1601.00129</td>\n",
       "      <td>2016-01-01</td>\n",
       "      <td>NaN</td>\n",
       "      <td>2016</td>\n",
       "      <td>1</td>\n",
       "      <td>cs</td>\n",
       "      <td>cs|stat</td>\n",
       "      <td>cs.NA|stat.AP|stat.CO</td>\n",
       "      <td>The Reduced-Order Hybrid Monte Carlo Sampling ...</td>\n",
       "      <td>Hybrid Monte-Carlo (HMC) sampling smoother is ...</td>\n",
       "    </tr>\n",
       "    <tr>\n",
       "      <th>78</th>\n",
       "      <td>1601.00130</td>\n",
       "      <td>2016-01-01</td>\n",
       "      <td>2016-01-06</td>\n",
       "      <td>2016</td>\n",
       "      <td>1</td>\n",
       "      <td>astro-ph</td>\n",
       "      <td>astro-ph</td>\n",
       "      <td>astro-ph.IM|astro-ph.HE</td>\n",
       "      <td>Systematic errors in estimation of gravitation...</td>\n",
       "      <td>We investigate the issue in determining the si...</td>\n",
       "    </tr>\n",
       "    <tr>\n",
       "      <th>79</th>\n",
       "      <td>1601.00131</td>\n",
       "      <td>2016-01-01</td>\n",
       "      <td>NaN</td>\n",
       "      <td>2016</td>\n",
       "      <td>1</td>\n",
       "      <td>math</td>\n",
       "      <td>math</td>\n",
       "      <td>math.DS</td>\n",
       "      <td>Multiple periodic solutions for two classes of...</td>\n",
       "      <td>In this paper, we investigate the existence of...</td>\n",
       "    </tr>\n",
       "    <tr>\n",
       "      <th>80</th>\n",
       "      <td>1601.00132</td>\n",
       "      <td>2016-01-01</td>\n",
       "      <td>NaN</td>\n",
       "      <td>2016</td>\n",
       "      <td>1</td>\n",
       "      <td>math</td>\n",
       "      <td>math</td>\n",
       "      <td>math.NA</td>\n",
       "      <td>A unified analysis of quasi-optimal convergenc...</td>\n",
       "      <td>In this paper, we present a unified analysis o...</td>\n",
       "    </tr>\n",
       "    <tr>\n",
       "      <th>81</th>\n",
       "      <td>1601.00133</td>\n",
       "      <td>2016-01-01</td>\n",
       "      <td>2017-11-30</td>\n",
       "      <td>2016</td>\n",
       "      <td>1</td>\n",
       "      <td>math</td>\n",
       "      <td>math</td>\n",
       "      <td>math.AG</td>\n",
       "      <td>On motivic Joyce-Song formula for the Behrend ...</td>\n",
       "      <td>We prove the motivic version of Joyce-Song for...</td>\n",
       "    </tr>\n",
       "    <tr>\n",
       "      <th>82</th>\n",
       "      <td>1601.00134</td>\n",
       "      <td>2016-01-01</td>\n",
       "      <td>2016-04-07</td>\n",
       "      <td>2016</td>\n",
       "      <td>1</td>\n",
       "      <td>hep-th</td>\n",
       "      <td>hep-th|gr-qc</td>\n",
       "      <td>hep-th|gr-qc</td>\n",
       "      <td>Analytical study on holographic superfluid in ...</td>\n",
       "      <td>We analytically study the holographic superflu...</td>\n",
       "    </tr>\n",
       "    <tr>\n",
       "      <th>83</th>\n",
       "      <td>1601.00135</td>\n",
       "      <td>2016-01-01</td>\n",
       "      <td>2016-03-10</td>\n",
       "      <td>2016</td>\n",
       "      <td>1</td>\n",
       "      <td>astro-ph</td>\n",
       "      <td>astro-ph</td>\n",
       "      <td>astro-ph.SR</td>\n",
       "      <td>An Extreme Analogue of $\\epsilon$ Aurigae: An ...</td>\n",
       "      <td>We present TYC 2505-672-1 as a newly discovere...</td>\n",
       "    </tr>\n",
       "    <tr>\n",
       "      <th>84</th>\n",
       "      <td>1601.00136</td>\n",
       "      <td>2016-01-01</td>\n",
       "      <td>2016-05-17</td>\n",
       "      <td>2016</td>\n",
       "      <td>1</td>\n",
       "      <td>hep-th</td>\n",
       "      <td>hep-th</td>\n",
       "      <td>hep-th</td>\n",
       "      <td>Holographic thermalization from non relativist...</td>\n",
       "      <td>In this paper, based on the fundamental princi...</td>\n",
       "    </tr>\n",
       "    <tr>\n",
       "      <th>85</th>\n",
       "      <td>1601.00137</td>\n",
       "      <td>2016-01-01</td>\n",
       "      <td>2016-09-16</td>\n",
       "      <td>2016</td>\n",
       "      <td>1</td>\n",
       "      <td>math</td>\n",
       "      <td>math</td>\n",
       "      <td>math.NA</td>\n",
       "      <td>A goal-oriented RBM-Accelerated generalized po...</td>\n",
       "      <td>The non-intrusive generalized Polynomial Chaos...</td>\n",
       "    </tr>\n",
       "    <tr>\n",
       "      <th>86</th>\n",
       "      <td>1601.00138</td>\n",
       "      <td>2016-01-01</td>\n",
       "      <td>NaN</td>\n",
       "      <td>2016</td>\n",
       "      <td>1</td>\n",
       "      <td>hep-ph</td>\n",
       "      <td>hep-ph</td>\n",
       "      <td>hep-ph</td>\n",
       "      <td>Soft $A_4 \\to Z_3$ Symmetry Breaking and Cobim...</td>\n",
       "      <td>I propose a model of radiative charged-lepton ...</td>\n",
       "    </tr>\n",
       "    <tr>\n",
       "      <th>87</th>\n",
       "      <td>1601.00139</td>\n",
       "      <td>2016-01-02</td>\n",
       "      <td>NaN</td>\n",
       "      <td>2016</td>\n",
       "      <td>1</td>\n",
       "      <td>cs</td>\n",
       "      <td>cs</td>\n",
       "      <td>cs.SI</td>\n",
       "      <td>Group Centrality for Semantic Networks: a SWOT...</td>\n",
       "      <td>Group centrality is an extension of the classi...</td>\n",
       "    </tr>\n",
       "    <tr>\n",
       "      <th>88</th>\n",
       "      <td>1601.00140</td>\n",
       "      <td>2016-01-02</td>\n",
       "      <td>2016-04-03</td>\n",
       "      <td>2016</td>\n",
       "      <td>1</td>\n",
       "      <td>cond-mat</td>\n",
       "      <td>cond-mat</td>\n",
       "      <td>cond-mat.mes-hall|cond-mat.mtrl-sci</td>\n",
       "      <td>Electronic, optical, and thermodynamic propert...</td>\n",
       "      <td>Borophene (two-dimensional boron sheet) is a n...</td>\n",
       "    </tr>\n",
       "    <tr>\n",
       "      <th>89</th>\n",
       "      <td>1601.00141</td>\n",
       "      <td>2016-01-02</td>\n",
       "      <td>2016-02-01</td>\n",
       "      <td>2016</td>\n",
       "      <td>1</td>\n",
       "      <td>cs</td>\n",
       "      <td>cs</td>\n",
       "      <td>cs.DL</td>\n",
       "      <td>Detecting the historical roots of tribology re...</td>\n",
       "      <td>In this study, the historical roots of tribolo...</td>\n",
       "    </tr>\n",
       "    <tr>\n",
       "      <th>90</th>\n",
       "      <td>1601.00142</td>\n",
       "      <td>2016-01-02</td>\n",
       "      <td>NaN</td>\n",
       "      <td>2016</td>\n",
       "      <td>1</td>\n",
       "      <td>stat</td>\n",
       "      <td>stat</td>\n",
       "      <td>stat.ML</td>\n",
       "      <td>Joint Estimation of Precision Matrices in Hete...</td>\n",
       "      <td>We introduce a general framework for estimatio...</td>\n",
       "    </tr>\n",
       "    <tr>\n",
       "      <th>91</th>\n",
       "      <td>1601.00143</td>\n",
       "      <td>2016-01-02</td>\n",
       "      <td>2016-02-24</td>\n",
       "      <td>2016</td>\n",
       "      <td>1</td>\n",
       "      <td>quant-ph</td>\n",
       "      <td>quant-ph</td>\n",
       "      <td>quant-ph</td>\n",
       "      <td>One-Mode Wigner Quasi-probability Distribution...</td>\n",
       "      <td>In this paper, we use the displacement operato...</td>\n",
       "    </tr>\n",
       "    <tr>\n",
       "      <th>92</th>\n",
       "      <td>1601.00144</td>\n",
       "      <td>2016-01-02</td>\n",
       "      <td>NaN</td>\n",
       "      <td>2016</td>\n",
       "      <td>1</td>\n",
       "      <td>math</td>\n",
       "      <td>math|cs</td>\n",
       "      <td>math.RA|cs.IT|math.IT</td>\n",
       "      <td>Constacyclic and Quasi-Twisted Hermitian Self-...</td>\n",
       "      <td>Constacyclic and quasi-twisted Hermitian self-...</td>\n",
       "    </tr>\n",
       "    <tr>\n",
       "      <th>93</th>\n",
       "      <td>1601.00145</td>\n",
       "      <td>2016-01-02</td>\n",
       "      <td>2016-01-22</td>\n",
       "      <td>2016</td>\n",
       "      <td>1</td>\n",
       "      <td>math</td>\n",
       "      <td>math</td>\n",
       "      <td>math.MG</td>\n",
       "      <td>Contact numbers for sphere packings</td>\n",
       "      <td>In discrete geometry, the contact number of a ...</td>\n",
       "    </tr>\n",
       "    <tr>\n",
       "      <th>94</th>\n",
       "      <td>1601.00146</td>\n",
       "      <td>2016-01-02</td>\n",
       "      <td>NaN</td>\n",
       "      <td>2016</td>\n",
       "      <td>1</td>\n",
       "      <td>math</td>\n",
       "      <td>math</td>\n",
       "      <td>math.GR</td>\n",
       "      <td>On some Frobenius groups with the same prime g...</td>\n",
       "      <td>The prime graph of a finite group $G$ is denot...</td>\n",
       "    </tr>\n",
       "    <tr>\n",
       "      <th>95</th>\n",
       "      <td>1601.00147</td>\n",
       "      <td>2016-01-02</td>\n",
       "      <td>2016-10-05</td>\n",
       "      <td>2016</td>\n",
       "      <td>1</td>\n",
       "      <td>cond-mat</td>\n",
       "      <td>cond-mat|hep-lat|hep-th</td>\n",
       "      <td>cond-mat.stat-mech|hep-lat|hep-th</td>\n",
       "      <td>Field theory and anisotropy of cubic ferromagn...</td>\n",
       "      <td>Critical fluctuations are known to change the ...</td>\n",
       "    </tr>\n",
       "    <tr>\n",
       "      <th>96</th>\n",
       "      <td>1601.00148</td>\n",
       "      <td>2016-01-02</td>\n",
       "      <td>NaN</td>\n",
       "      <td>2016</td>\n",
       "      <td>1</td>\n",
       "      <td>hep-th</td>\n",
       "      <td>hep-th|cond-mat|hep-lat|hep-ph</td>\n",
       "      <td>hep-th|cond-mat.soft|cond-mat.stat-mech|hep-la...</td>\n",
       "      <td>Renormalized coupling constants for 3D scalar ...</td>\n",
       "      <td>Renormalized coupling constants g_{2k} that en...</td>\n",
       "    </tr>\n",
       "    <tr>\n",
       "      <th>97</th>\n",
       "      <td>1601.00149</td>\n",
       "      <td>2016-01-02</td>\n",
       "      <td>2016-09-28</td>\n",
       "      <td>2016</td>\n",
       "      <td>1</td>\n",
       "      <td>cs</td>\n",
       "      <td>cs</td>\n",
       "      <td>cs.CV</td>\n",
       "      <td>Tensor Sparse and Low-Rank based Submodule Clu...</td>\n",
       "      <td>A new submodule clustering method via sparse a...</td>\n",
       "    </tr>\n",
       "    <tr>\n",
       "      <th>98</th>\n",
       "      <td>1601.00150</td>\n",
       "      <td>2016-01-02</td>\n",
       "      <td>NaN</td>\n",
       "      <td>2016</td>\n",
       "      <td>1</td>\n",
       "      <td>quant-ph</td>\n",
       "      <td>quant-ph</td>\n",
       "      <td>quant-ph</td>\n",
       "      <td>Quantum speed limit for noisy dynamics</td>\n",
       "      <td>The laws of quantum physics place a limit on t...</td>\n",
       "    </tr>\n",
       "    <tr>\n",
       "      <th>99</th>\n",
       "      <td>1601.00151</td>\n",
       "      <td>2016-01-02</td>\n",
       "      <td>NaN</td>\n",
       "      <td>2016</td>\n",
       "      <td>1</td>\n",
       "      <td>math</td>\n",
       "      <td>math</td>\n",
       "      <td>math.CA|math.FA|math.GN</td>\n",
       "      <td>Topological stability of continuous functions ...</td>\n",
       "      <td>Let $\\mu$ be a measure on $[-1,1]$. Then for e...</td>\n",
       "    </tr>\n",
       "  </tbody>\n",
       "</table>\n",
       "<p>100 rows × 10 columns</p>\n",
       "</div>"
      ],
      "text/plain": [
       "      arxiv_id create_date update_date  year month       cat  \\\n",
       "0   1601.00052  2016-01-01         NaN  2016     1      math   \n",
       "1   1601.00053  2016-01-01         NaN  2016     1   physics   \n",
       "2   1601.00054  2016-01-01         NaN  2016     1  astro-ph   \n",
       "3   1601.00055  2016-01-01         NaN  2016     1     gr-qc   \n",
       "4   1601.00056  2016-01-01  2016-01-31  2016     1  astro-ph   \n",
       "5   1601.00057  2016-01-01  2016-12-11  2016     1    hep-th   \n",
       "6   1601.00058  2016-01-01  2016-03-24  2016     1   nucl-th   \n",
       "7   1601.00059  2016-01-01  2016-01-31  2016     1      math   \n",
       "8   1601.00060  2016-01-01  2016-05-27  2016     1      math   \n",
       "9   1601.00061  2016-01-01         NaN  2016     1      math   \n",
       "10  1601.00062  2016-01-01  2016-04-22  2016     1      stat   \n",
       "11  1601.00063  2016-01-01  2017-09-02  2016     1      math   \n",
       "12  1601.00064  2016-01-01         NaN  2016     1  cond-mat   \n",
       "13  1601.00065  2016-01-01  2016-01-08  2016     1      math   \n",
       "14  1601.00066  2016-01-01         NaN  2016     1  astro-ph   \n",
       "15  1601.00067  2016-01-01         NaN  2016     1  astro-ph   \n",
       "16  1601.00068  2016-01-01         NaN  2016     1  cond-mat   \n",
       "17  1601.00069  2016-01-01  2016-02-18  2016     1  astro-ph   \n",
       "18  1601.00070  2016-01-01         NaN  2016     1  astro-ph   \n",
       "19  1601.00071  2016-01-01         NaN  2016     1  cond-mat   \n",
       "20  1601.00072  2016-01-01  2016-03-28  2016     1        cs   \n",
       "21  1601.00073  2016-01-01         NaN  2016     1        cs   \n",
       "22  1601.00074  2016-01-01         NaN  2016     1   physics   \n",
       "23  1601.00075  2016-01-01  2016-04-06  2016     1    hep-ph   \n",
       "24  1601.00076  2016-01-01  2016-02-17  2016     1    hep-th   \n",
       "25  1601.00077  2016-01-01         NaN  2016     1  cond-mat   \n",
       "26  1601.00078  2016-01-01         NaN  2016     1      math   \n",
       "27  1601.00079  2016-01-01  2016-03-02  2016     1   nucl-ex   \n",
       "28  1601.00080  2016-01-01  2017-12-10  2016     1      math   \n",
       "29  1601.00081  2016-01-01  2016-02-23  2016     1    hep-ph   \n",
       "..         ...         ...         ...   ...   ...       ...   \n",
       "70  1601.00122  2016-01-01         NaN  2016     1        cs   \n",
       "71  1601.00123  2016-01-01  2016-01-12  2016     1   physics   \n",
       "72  1601.00124  2016-01-01         NaN  2016     1      math   \n",
       "73  1601.00125  2016-01-01         NaN  2016     1  astro-ph   \n",
       "74  1601.00126  2016-01-01  2017-06-12  2016     1        cs   \n",
       "75  1601.00127  2016-01-01  2016-01-08  2016     1    hep-th   \n",
       "76  1601.00128  2016-01-01         NaN  2016     1      math   \n",
       "77  1601.00129  2016-01-01         NaN  2016     1        cs   \n",
       "78  1601.00130  2016-01-01  2016-01-06  2016     1  astro-ph   \n",
       "79  1601.00131  2016-01-01         NaN  2016     1      math   \n",
       "80  1601.00132  2016-01-01         NaN  2016     1      math   \n",
       "81  1601.00133  2016-01-01  2017-11-30  2016     1      math   \n",
       "82  1601.00134  2016-01-01  2016-04-07  2016     1    hep-th   \n",
       "83  1601.00135  2016-01-01  2016-03-10  2016     1  astro-ph   \n",
       "84  1601.00136  2016-01-01  2016-05-17  2016     1    hep-th   \n",
       "85  1601.00137  2016-01-01  2016-09-16  2016     1      math   \n",
       "86  1601.00138  2016-01-01         NaN  2016     1    hep-ph   \n",
       "87  1601.00139  2016-01-02         NaN  2016     1        cs   \n",
       "88  1601.00140  2016-01-02  2016-04-03  2016     1  cond-mat   \n",
       "89  1601.00141  2016-01-02  2016-02-01  2016     1        cs   \n",
       "90  1601.00142  2016-01-02         NaN  2016     1      stat   \n",
       "91  1601.00143  2016-01-02  2016-02-24  2016     1  quant-ph   \n",
       "92  1601.00144  2016-01-02         NaN  2016     1      math   \n",
       "93  1601.00145  2016-01-02  2016-01-22  2016     1      math   \n",
       "94  1601.00146  2016-01-02         NaN  2016     1      math   \n",
       "95  1601.00147  2016-01-02  2016-10-05  2016     1  cond-mat   \n",
       "96  1601.00148  2016-01-02         NaN  2016     1    hep-th   \n",
       "97  1601.00149  2016-01-02  2016-09-28  2016     1        cs   \n",
       "98  1601.00150  2016-01-02         NaN  2016     1  quant-ph   \n",
       "99  1601.00151  2016-01-02         NaN  2016     1      math   \n",
       "\n",
       "                              cats  \\\n",
       "0                             math   \n",
       "1                          physics   \n",
       "2                         astro-ph   \n",
       "3                            gr-qc   \n",
       "4                         astro-ph   \n",
       "5     hep-th|astro-ph|gr-qc|hep-ph   \n",
       "6                   nucl-th|hep-ph   \n",
       "7                             math   \n",
       "8                             math   \n",
       "9                             math   \n",
       "10                    stat|cs|math   \n",
       "11                            math   \n",
       "12               cond-mat|astro-ph   \n",
       "13                            math   \n",
       "14                        astro-ph   \n",
       "15                        astro-ph   \n",
       "16                        cond-mat   \n",
       "17                        astro-ph   \n",
       "18                        astro-ph   \n",
       "19                   cond-mat|nlin   \n",
       "20                              cs   \n",
       "21                              cs   \n",
       "22                         physics   \n",
       "23                   hep-ph|hep-ex   \n",
       "24                          hep-th   \n",
       "25                        cond-mat   \n",
       "26                       math|stat   \n",
       "27                  nucl-ex|hep-ex   \n",
       "28                            math   \n",
       "29                   hep-ph|hep-th   \n",
       "..                             ...   \n",
       "70                              cs   \n",
       "71                  physics|hep-ex   \n",
       "72                            math   \n",
       "73                        astro-ph   \n",
       "74                         cs|math   \n",
       "75                          hep-th   \n",
       "76                            math   \n",
       "77                         cs|stat   \n",
       "78                        astro-ph   \n",
       "79                            math   \n",
       "80                            math   \n",
       "81                            math   \n",
       "82                    hep-th|gr-qc   \n",
       "83                        astro-ph   \n",
       "84                          hep-th   \n",
       "85                            math   \n",
       "86                          hep-ph   \n",
       "87                              cs   \n",
       "88                        cond-mat   \n",
       "89                              cs   \n",
       "90                            stat   \n",
       "91                        quant-ph   \n",
       "92                         math|cs   \n",
       "93                            math   \n",
       "94                            math   \n",
       "95         cond-mat|hep-lat|hep-th   \n",
       "96  hep-th|cond-mat|hep-lat|hep-ph   \n",
       "97                              cs   \n",
       "98                        quant-ph   \n",
       "99                            math   \n",
       "\n",
       "                                             sub_cats  \\\n",
       "0                                             math.CO   \n",
       "1                                     physics.chem-ph   \n",
       "2                                         astro-ph.GA   \n",
       "3                                               gr-qc   \n",
       "4                                         astro-ph.HE   \n",
       "5                     hep-th|astro-ph.CO|gr-qc|hep-ph   \n",
       "6                                      nucl-th|hep-ph   \n",
       "7                             math.HO|math.CA|math.LO   \n",
       "8                                     math.DG|math.AP   \n",
       "9                                             math.OA   \n",
       "10                              stat.ML|cs.LG|math.OC   \n",
       "11                                            math.DS   \n",
       "12                     cond-mat.stat-mech|astro-ph.HE   \n",
       "13                                    math.GT|math.CO   \n",
       "14                                        astro-ph.EP   \n",
       "15                                        astro-ph.IM   \n",
       "16   cond-mat.soft|cond-mat.dis-nn|cond-mat.stat-mech   \n",
       "17                                        astro-ph.EP   \n",
       "18                            astro-ph.GA|astro-ph.IM   \n",
       "19                         cond-mat.quant-gas|nlin.PS   \n",
       "20                                        cs.DC|cs.CV   \n",
       "21                                        cs.DB|cs.PL   \n",
       "22                                   physics.plasm-ph   \n",
       "23                                      hep-ph|hep-ex   \n",
       "24                                             hep-th   \n",
       "25                                  cond-mat.mtrl-sci   \n",
       "26                            math.PR|math.ST|stat.TH   \n",
       "27                                     nucl-ex|hep-ex   \n",
       "28                                    math.RT|math.CT   \n",
       "29                                      hep-ph|hep-th   \n",
       "..                                                ...   \n",
       "70                                              cs.NI   \n",
       "71                             physics.ins-det|hep-ex   \n",
       "72                                            math.CA   \n",
       "73                            astro-ph.IM|astro-ph.CO   \n",
       "74                                      cs.IT|math.IT   \n",
       "75                                             hep-th   \n",
       "76                                            math.RA   \n",
       "77                              cs.NA|stat.AP|stat.CO   \n",
       "78                            astro-ph.IM|astro-ph.HE   \n",
       "79                                            math.DS   \n",
       "80                                            math.NA   \n",
       "81                                            math.AG   \n",
       "82                                       hep-th|gr-qc   \n",
       "83                                        astro-ph.SR   \n",
       "84                                             hep-th   \n",
       "85                                            math.NA   \n",
       "86                                             hep-ph   \n",
       "87                                              cs.SI   \n",
       "88                cond-mat.mes-hall|cond-mat.mtrl-sci   \n",
       "89                                              cs.DL   \n",
       "90                                            stat.ML   \n",
       "91                                           quant-ph   \n",
       "92                              math.RA|cs.IT|math.IT   \n",
       "93                                            math.MG   \n",
       "94                                            math.GR   \n",
       "95                  cond-mat.stat-mech|hep-lat|hep-th   \n",
       "96  hep-th|cond-mat.soft|cond-mat.stat-mech|hep-la...   \n",
       "97                                              cs.CV   \n",
       "98                                           quant-ph   \n",
       "99                            math.CA|math.FA|math.GN   \n",
       "\n",
       "                                                title  \\\n",
       "0   Combinatorial Formulas for Certain Sequences o...   \n",
       "1   Efficient Symmetrized DMRG Algorithm for Low-l...   \n",
       "2   Study of Milli-Jansky Seyfert Galaxies with St...   \n",
       "3   A note on proper affine symmetry in Kantowski-...   \n",
       "4   Rapid rotational crust-core relaxation in magn...   \n",
       "5   Tracking Dark Energy from Axion-Gauge Field Co...   \n",
       "6   Fractionized Skyrmions in Dense Compact-Star M...   \n",
       "7   Controversies in the foundations of analysis: ...   \n",
       "8   The conical K\\\"ahler-Ricci flow with weak init...   \n",
       "9                   Wavelets and graph $C^*$-algebras   \n",
       "10  Practical Algorithms for Learning Near-Isometr...   \n",
       "11  Exponential mixing for generic volume-preservi...   \n",
       "12  Classical particle scattering for power-law tw...   \n",
       "13  A characterization of tightly triangulated 3-m...   \n",
       "14       Quasi-satellite dynamics in formation flight   \n",
       "15     Point Source Detection Software in the SKA Era   \n",
       "16  Beyond linear elasticity: Jammed solids at fin...   \n",
       "17  Atmospheric Circulation of Hot Jupiters: Daysi...   \n",
       "18  Implementation of Tidbinbilla 70-m On-The-Fly ...   \n",
       "19  Disorder Induced Vortex Lattice Melting in Bos...   \n",
       "20  GPU-Based Fuzzy C-Means Clustering Algorithm f...   \n",
       "21              Mimir: Bringing CTables into Practice   \n",
       "22  Self-deformation in a dc driven helium jet mic...   \n",
       "23  The $\\Lambda_{b}\\rightarrow J/\\psi K^{0}\\Lambd...   \n",
       "24  Bounds on topological Abelian string-vortex an...   \n",
       "25  Griffiths like Robust Ferromagnetism in Co3-xM...   \n",
       "26  A Characterization of the Normal Distribution ...   \n",
       "27  Correlations between jets and charged particle...   \n",
       "28  Diagrams and discrete extensions for finitary ...   \n",
       "29  Dark matter and localised fermions from spheri...   \n",
       "..                                                ...   \n",
       "70  Improving Performance of IEEE 802.11 by a Dyna...   \n",
       "71  Fast Timing for High-Rate Environments with Mi...   \n",
       "72  On a conjecture of a logarithmically completel...   \n",
       "73  Initial Performance of BICEP3: A Degree Angula...   \n",
       "74  On some bounds for symmetric tensor rank of mu...   \n",
       "75  Semiclassical structure constants in the eta-d...   \n",
       "76  A bound on the codimensions of a PI-algebra us...   \n",
       "77  The Reduced-Order Hybrid Monte Carlo Sampling ...   \n",
       "78  Systematic errors in estimation of gravitation...   \n",
       "79  Multiple periodic solutions for two classes of...   \n",
       "80  A unified analysis of quasi-optimal convergenc...   \n",
       "81  On motivic Joyce-Song formula for the Behrend ...   \n",
       "82  Analytical study on holographic superfluid in ...   \n",
       "83  An Extreme Analogue of $\\epsilon$ Aurigae: An ...   \n",
       "84  Holographic thermalization from non relativist...   \n",
       "85  A goal-oriented RBM-Accelerated generalized po...   \n",
       "86  Soft $A_4 \\to Z_3$ Symmetry Breaking and Cobim...   \n",
       "87  Group Centrality for Semantic Networks: a SWOT...   \n",
       "88  Electronic, optical, and thermodynamic propert...   \n",
       "89  Detecting the historical roots of tribology re...   \n",
       "90  Joint Estimation of Precision Matrices in Hete...   \n",
       "91  One-Mode Wigner Quasi-probability Distribution...   \n",
       "92  Constacyclic and Quasi-Twisted Hermitian Self-...   \n",
       "93                Contact numbers for sphere packings   \n",
       "94  On some Frobenius groups with the same prime g...   \n",
       "95  Field theory and anisotropy of cubic ferromagn...   \n",
       "96  Renormalized coupling constants for 3D scalar ...   \n",
       "97  Tensor Sparse and Low-Rank based Submodule Clu...   \n",
       "98             Quantum speed limit for noisy dynamics   \n",
       "99  Topological stability of continuous functions ...   \n",
       "\n",
       "                                             abstract  \n",
       "0   Multiple analogues of certain families of comb...  \n",
       "1   Symmetry adapted density matrix renormalizatio...  \n",
       "2   We study the radio properties at 1.4 GHz of Se...  \n",
       "3   We investigate proper affine symmetry for the ...  \n",
       "4   If a magnetar interior $B$-field exceeds $10^{...  \n",
       "5   We propose a toy model of Dark Energy in which...  \n",
       "6   The hadronic matter described as a skyrmion ma...  \n",
       "7   Foundations of Science recently published a re...  \n",
       "8   In this paper, we prove the long-time existenc...  \n",
       "9   Here we give an overview on the connection bet...  \n",
       "10  We propose two practical non-convex approaches...  \n",
       "11  Let $M$ be a closed $3$-dimensional Riemann ma...  \n",
       "12  We present a rigorous study of the classical s...  \n",
       "13  For a field $\\mathbb{F}$, the notion of $\\math...  \n",
       "14  The quasi-satellite (QS) phenomenon makes two ...  \n",
       "15  The generation of a sky model for calibration ...  \n",
       "16  The shear response of soft solids can be model...  \n",
       "17  The full-phase infrared light curves of low-ec...  \n",
       "18  On-the-fly mapping of cm-wave spectral lines h...  \n",
       "19  We study the vortex lattice dynamics in presen...  \n",
       "20  In this paper, a fast and practical GPU-based ...  \n",
       "21  The present state of the art in analytics requ...  \n",
       "22  We report on the experimental observation of t...  \n",
       "23  We study the $\\Lambda_{b}\\rightarrow J/\\psi K^...  \n",
       "24  In this work we obtain bounds on the topologic...  \n",
       "25  We report near room temperature ferromagnetic ...  \n",
       "26  Kagan and Shalaevski 1967 have shown that if t...  \n",
       "27  The quark-gluon plasma is studied via medium-i...  \n",
       "28  In this paper we introduce and investigate the...  \n",
       "29  We study a class of six-dimensional models bas...  \n",
       "..                                                ...  \n",
       "70  The IEEE 802.11 backoff algorithm is very impo...  \n",
       "71  The current state of the art in fast timing re...  \n",
       "72  In this short note we prove a conjecture for t...  \n",
       "73  BICEP3 is a $550~mm$ aperture telescope with c...  \n",
       "74  We establish new upper bounds about symmetric ...  \n",
       "75  We consider the leading finite-size effects on...  \n",
       "76  In this note we draw a connection between nonc...  \n",
       "77  Hybrid Monte-Carlo (HMC) sampling smoother is ...  \n",
       "78  We investigate the issue in determining the si...  \n",
       "79  In this paper, we investigate the existence of...  \n",
       "80  In this paper, we present a unified analysis o...  \n",
       "81  We prove the motivic version of Joyce-Song for...  \n",
       "82  We analytically study the holographic superflu...  \n",
       "83  We present TYC 2505-672-1 as a newly discovere...  \n",
       "84  In this paper, based on the fundamental princi...  \n",
       "85  The non-intrusive generalized Polynomial Chaos...  \n",
       "86  I propose a model of radiative charged-lepton ...  \n",
       "87  Group centrality is an extension of the classi...  \n",
       "88  Borophene (two-dimensional boron sheet) is a n...  \n",
       "89  In this study, the historical roots of tribolo...  \n",
       "90  We introduce a general framework for estimatio...  \n",
       "91  In this paper, we use the displacement operato...  \n",
       "92  Constacyclic and quasi-twisted Hermitian self-...  \n",
       "93  In discrete geometry, the contact number of a ...  \n",
       "94  The prime graph of a finite group $G$ is denot...  \n",
       "95  Critical fluctuations are known to change the ...  \n",
       "96  Renormalized coupling constants g_{2k} that en...  \n",
       "97  A new submodule clustering method via sparse a...  \n",
       "98  The laws of quantum physics place a limit on t...  \n",
       "99  Let $\\mu$ be a measure on $[-1,1]$. Then for e...  \n",
       "\n",
       "[100 rows x 10 columns]"
      ]
     },
     "execution_count": 79,
     "metadata": {
      "tags": []
     },
     "output_type": "execute_result"
    }
   ],
   "source": [
    "pd_train.head(100)"
   ]
  },
  {
   "cell_type": "markdown",
   "metadata": {
    "colab_type": "text",
    "id": "VCgx4jXHj-6r"
   },
   "source": [
    "Clean up abstract using noun only phrase"
   ]
  },
  {
   "cell_type": "code",
   "execution_count": 80,
   "metadata": {
    "colab": {
     "base_uri": "https://localhost:8080/",
     "height": 170
    },
    "colab_type": "code",
    "id": "KTpdT-x1lyTp",
    "outputId": "dcf73acb-b927-47dc-f0bf-caad6ea734b7"
   },
   "outputs": [
    {
     "name": "stdout",
     "output_type": "stream",
     "text": [
      "[nltk_data] Downloading package punkt to /root/nltk_data...\n",
      "[nltk_data]   Package punkt is already up-to-date!\n",
      "[nltk_data] Downloading package averaged_perceptron_tagger to\n",
      "[nltk_data]     /root/nltk_data...\n",
      "[nltk_data]   Package averaged_perceptron_tagger is already up-to-\n",
      "[nltk_data]       date!\n",
      "[nltk_data] Downloading package stopwords to /root/nltk_data...\n",
      "[nltk_data]   Package stopwords is already up-to-date!\n"
     ]
    },
    {
     "data": {
      "text/plain": [
       "True"
      ]
     },
     "execution_count": 80,
     "metadata": {
      "tags": []
     },
     "output_type": "execute_result"
    }
   ],
   "source": [
    "import nltk\n",
    "from nltk.corpus import stopwords\n",
    "from nltk.tokenize import word_tokenize\n",
    "from nltk.util import ngrams\n",
    "nltk.download('punkt')\n",
    "nltk.download('averaged_perceptron_tagger')\n",
    "nltk.download('stopwords')"
   ]
  },
  {
   "cell_type": "code",
   "execution_count": 0,
   "metadata": {
    "colab": {},
    "colab_type": "code",
    "collapsed": true,
    "id": "gRTj9pzItAIP"
   },
   "outputs": [],
   "source": [
    "def noun_only_sentence(x_string):\n",
    "    string_list = x_string.lower().split(\".\")\n",
    "    noun_sentence = []\n",
    "    for my_str in string_list:\n",
    "        #print(my_str)\n",
    "        tokens = word_tokenize(my_str)\n",
    "        #bigrams = ngrams(token,2)\n",
    "        # remove all tokens that are not alphabetic\n",
    "        is_noun = lambda pos: pos[:2] == 'NN'\n",
    "        # do the nlp stuff\n",
    "        nouns = [word for (word, pos) in nltk.pos_tag(tokens) if is_noun(pos)] \n",
    "        noun_sentence.append(nouns)\n",
    "    return noun_sentence"
   ]
  },
  {
   "cell_type": "code",
   "execution_count": 0,
   "metadata": {
    "colab": {},
    "colab_type": "code",
    "collapsed": true,
    "id": "XR0Ue2lKldH5"
   },
   "outputs": [],
   "source": [
    "abstract_noun = pd_train.abstract.apply(lambda x: noun_only_sentence(x))"
   ]
  },
  {
   "cell_type": "code",
   "execution_count": 0,
   "metadata": {
    "colab": {},
    "colab_type": "code",
    "collapsed": true,
    "id": "9mFnz_bb8Vyb"
   },
   "outputs": [],
   "source": [
    "abstract_noun_test = pd_test.abstract.apply(lambda x: noun_only_sentence(x))"
   ]
  },
  {
   "cell_type": "code",
   "execution_count": 0,
   "metadata": {
    "colab": {},
    "colab_type": "code",
    "collapsed": true,
    "id": "Q49nh0fkmAPI"
   },
   "outputs": [],
   "source": [
    "import pickle\n",
    "with open(\"Dataset/arxiv/abstract_noun_strat.pickle\",\"wb\") as file:\n",
    "  pickle.dump((abstract_noun,abstract_noun_test),file)"
   ]
  },
  {
   "cell_type": "code",
   "execution_count": 0,
   "metadata": {
    "colab": {},
    "colab_type": "code",
    "collapsed": true,
    "id": "gZt8ozMmqnYZ"
   },
   "outputs": [],
   "source": [
    "# clean abstract noun so it will contain only alphabetic char\n",
    "\n",
    "# use english stop_words\n",
    "stop_words =  list(stopwords.words('english'))\n",
    "\n",
    "def alphabetic_only_l(x_string):\n",
    "  list_sent = []    \n",
    "  for tokens in x_string:\n",
    "    # remove all tokens that are not alphabetic\n",
    "    words = [word for word in tokens if word.isalpha() and word not in stop_words and len(word)>3]\n",
    "    list_sent.append(words)    \n",
    "  return list_sent"
   ]
  },
  {
   "cell_type": "code",
   "execution_count": 0,
   "metadata": {
    "colab": {},
    "colab_type": "code",
    "collapsed": true,
    "id": "ZzR6AvzFrUMY"
   },
   "outputs": [],
   "source": [
    "abs_noun_clean = abstract_noun.apply(lambda x:alphabetic_only_l(x))"
   ]
  },
  {
   "cell_type": "code",
   "execution_count": 0,
   "metadata": {
    "colab": {},
    "colab_type": "code",
    "collapsed": true,
    "id": "AaYWBsJl9o4c"
   },
   "outputs": [],
   "source": [
    "abs_noun_clean_test = abstract_noun_test.apply(lambda x:alphabetic_only_l(x))"
   ]
  },
  {
   "cell_type": "code",
   "execution_count": 0,
   "metadata": {
    "colab": {},
    "colab_type": "code",
    "collapsed": true,
    "id": "oWpiT7DtrXP5"
   },
   "outputs": [],
   "source": [
    "import pickle\n",
    "with open(\"Dataset/arxiv/abstract_noun_clean_strat.pickle\",\"wb\") as file:\n",
    "  pickle.dump((abs_noun_clean,abs_noun_clean_test),file)"
   ]
  },
  {
   "cell_type": "code",
   "execution_count": 0,
   "metadata": {
    "colab": {},
    "colab_type": "code",
    "collapsed": true,
    "id": "Ejix081jsZFS"
   },
   "outputs": [],
   "source": [
    "# features/words chooser using tfidf\n",
    "def sent_convert(x_string):\n",
    "  list_sent = []\n",
    "  for sent in x_string:\n",
    "    # remove all tokens that are not alphabetic    \n",
    "    list_sent.append(\" \".join(sent))    \n",
    "  return \". \".join(list_sent)\n",
    "\n",
    "abs_noun_sent = abs_noun_clean.apply(lambda x:sent_convert(x))"
   ]
  },
  {
   "cell_type": "code",
   "execution_count": 0,
   "metadata": {
    "colab": {},
    "colab_type": "code",
    "collapsed": true,
    "id": "rLxvhHs09woQ"
   },
   "outputs": [],
   "source": [
    "abs_noun_sent_test = abs_noun_clean_test.apply(lambda x:sent_convert(x))"
   ]
  },
  {
   "cell_type": "code",
   "execution_count": 0,
   "metadata": {
    "colab": {},
    "colab_type": "code",
    "collapsed": true,
    "id": "agq99pErsuta"
   },
   "outputs": [],
   "source": [
    "from sklearn.feature_extraction.text import TfidfVectorizer, CountVectorizer\n",
    "\n",
    "tf_vectorizer = CountVectorizer(max_df=0.95, min_df=2)\n",
    "tf = tf_vectorizer.fit_transform(abs_noun_sent.values)\n",
    "tf_feature_names = tf_vectorizer.get_feature_names()\n",
    "\n",
    "tfidf_vectorizer = TfidfVectorizer(max_df=0.95, min_df=2)\n",
    "tfidf = tfidf_vectorizer.fit_transform(abs_noun_sent.values)\n",
    "tfidf_feature_names = tfidf_vectorizer.get_feature_names()"
   ]
  },
  {
   "cell_type": "code",
   "execution_count": 95,
   "metadata": {
    "colab": {
     "base_uri": "https://localhost:8080/",
     "height": 34
    },
    "colab_type": "code",
    "id": "KUvRysAPtDwD",
    "outputId": "d0805192-77c7-4fa1-dfdf-af75d224907b"
   },
   "outputs": [
    {
     "data": {
      "text/plain": [
       "44819"
      ]
     },
     "execution_count": 95,
     "metadata": {
      "tags": []
     },
     "output_type": "execute_result"
    }
   ],
   "source": [
    "len(tfidf_feature_names)"
   ]
  },
  {
   "cell_type": "code",
   "execution_count": 0,
   "metadata": {
    "colab": {},
    "colab_type": "code",
    "collapsed": true,
    "id": "-N9zEQq2t-7Z"
   },
   "outputs": [],
   "source": [
    "tfidf_sum = tfidf.sum(axis=0)"
   ]
  },
  {
   "cell_type": "code",
   "execution_count": 97,
   "metadata": {
    "colab": {
     "base_uri": "https://localhost:8080/",
     "height": 34
    },
    "colab_type": "code",
    "id": "bXe6ne19t6r3",
    "outputId": "897a835d-b2dc-4f46-9d28-5f77c7c3b3c5"
   },
   "outputs": [
    {
     "data": {
      "text/plain": [
       "(1, 44819)"
      ]
     },
     "execution_count": 97,
     "metadata": {
      "tags": []
     },
     "output_type": "execute_result"
    }
   ],
   "source": [
    "tfidf_sum.shape"
   ]
  },
  {
   "cell_type": "code",
   "execution_count": 0,
   "metadata": {
    "colab": {},
    "colab_type": "code",
    "collapsed": true,
    "id": "yyYCPvDFuhVU"
   },
   "outputs": [],
   "source": [
    "import numpy as np\n",
    "# sort the tfidf_desc\n",
    "index_sort = np.argsort(tfidf_sum)[:,::-1]"
   ]
  },
  {
   "cell_type": "code",
   "execution_count": 99,
   "metadata": {
    "colab": {
     "base_uri": "https://localhost:8080/",
     "height": 34
    },
    "colab_type": "code",
    "id": "NN5WCoIvv8Lv",
    "outputId": "54f8e68e-5161-49ba-f0ed-48cadbe81e38"
   },
   "outputs": [
    {
     "data": {
      "text/plain": [
       "matrix([[25450,  9317, 34141, ...,  2641, 40480,  4799]])"
      ]
     },
     "execution_count": 99,
     "metadata": {
      "tags": []
     },
     "output_type": "execute_result"
    }
   ],
   "source": [
    "index_sort"
   ]
  },
  {
   "cell_type": "code",
   "execution_count": 0,
   "metadata": {
    "colab": {},
    "colab_type": "code",
    "collapsed": true,
    "id": "YeZzWBgLwUxy"
   },
   "outputs": [],
   "source": [
    "pot_feat = [tfidf_feature_names[x] for x in index_sort.tolist()[0][:10000]]"
   ]
  },
  {
   "cell_type": "code",
   "execution_count": 101,
   "metadata": {
    "colab": {
     "base_uri": "https://localhost:8080/",
     "height": 1717
    },
    "colab_type": "code",
    "id": "ax9pPwNsYiM3",
    "outputId": "d106db88-67a4-4afe-dffb-7b92b510451f"
   },
   "outputs": [
    {
     "data": {
      "text/plain": [
       "['model',\n",
       " 'data',\n",
       " 'results',\n",
       " 'paper',\n",
       " 'method',\n",
       " 'field',\n",
       " 'system',\n",
       " 'problem',\n",
       " 'energy',\n",
       " 'theory',\n",
       " 'time',\n",
       " 'models',\n",
       " 'systems',\n",
       " 'number',\n",
       " 'space',\n",
       " 'function',\n",
       " 'quantum',\n",
       " 'order',\n",
       " 'approach',\n",
       " 'state',\n",
       " 'properties',\n",
       " 'case',\n",
       " 'analysis',\n",
       " 'algorithm',\n",
       " 'phase',\n",
       " 'states',\n",
       " 'structure',\n",
       " 'functions',\n",
       " 'equation',\n",
       " 'solutions',\n",
       " 'mass',\n",
       " 'methods',\n",
       " 'network',\n",
       " 'result',\n",
       " 'equations',\n",
       " 'work',\n",
       " 'group',\n",
       " 'density',\n",
       " 'distribution',\n",
       " 'information',\n",
       " 'solution',\n",
       " 'parameters',\n",
       " 'conditions',\n",
       " 'dynamics',\n",
       " 'terms',\n",
       " 'class',\n",
       " 'performance',\n",
       " 'networks',\n",
       " 'temperature',\n",
       " 'problems',\n",
       " 'process',\n",
       " 'framework',\n",
       " 'surface',\n",
       " 'point',\n",
       " 'transition',\n",
       " 'fields',\n",
       " 'rate',\n",
       " 'study',\n",
       " 'effect',\n",
       " 'type',\n",
       " 'power',\n",
       " 'applications',\n",
       " 'graph',\n",
       " 'limit',\n",
       " 'spin',\n",
       " 'effects',\n",
       " 'range',\n",
       " 'experiments',\n",
       " 'matter',\n",
       " 'simulations',\n",
       " 'measurements',\n",
       " 'parameter',\n",
       " 'interaction',\n",
       " 'existence',\n",
       " 'symmetry',\n",
       " 'algorithms',\n",
       " 'values',\n",
       " 'value',\n",
       " 'features',\n",
       " 'size',\n",
       " 'groups',\n",
       " 'form',\n",
       " 'matrix',\n",
       " 'evolution',\n",
       " 'spectrum',\n",
       " 'observations',\n",
       " 'spaces',\n",
       " 'theorem',\n",
       " 'points',\n",
       " 'approximation',\n",
       " 'interactions',\n",
       " 'bound',\n",
       " 'stars',\n",
       " 'scheme',\n",
       " 'behavior',\n",
       " 'emission',\n",
       " 'operators',\n",
       " 'control',\n",
       " 'image',\n",
       " 'graphs']"
      ]
     },
     "execution_count": 101,
     "metadata": {
      "tags": []
     },
     "output_type": "execute_result"
    }
   ],
   "source": [
    "pot_feat[0:100]"
   ]
  },
  {
   "cell_type": "markdown",
   "metadata": {
    "colab_type": "text",
    "id": "9-qJJsNVz8Ik"
   },
   "source": [
    "extracting the class"
   ]
  },
  {
   "cell_type": "code",
   "execution_count": 0,
   "metadata": {
    "colab": {},
    "colab_type": "code",
    "collapsed": true,
    "id": "Kk--kLDKy_1I"
   },
   "outputs": [],
   "source": [
    "y_train_label = pd_train.cats.apply(lambda x: x.split(\"|\")[0])"
   ]
  },
  {
   "cell_type": "code",
   "execution_count": 0,
   "metadata": {
    "colab": {},
    "colab_type": "code",
    "collapsed": true,
    "id": "1htVdnaS0Fke"
   },
   "outputs": [],
   "source": [
    "y_class_label = list(y_train_label.unique())"
   ]
  },
  {
   "cell_type": "code",
   "execution_count": 114,
   "metadata": {
    "colab": {
     "base_uri": "https://localhost:8080/",
     "height": 357
    },
    "colab_type": "code",
    "id": "4JEeRXZT2xdw",
    "outputId": "5caa330a-8482-4961-a2e2-b8e9d55d9ec5"
   },
   "outputs": [
    {
     "data": {
      "text/plain": [
       "['math',\n",
       " 'physics',\n",
       " 'astro-ph',\n",
       " 'gr-qc',\n",
       " 'hep-th',\n",
       " 'nucl-th',\n",
       " 'stat',\n",
       " 'cond-mat',\n",
       " 'cs',\n",
       " 'hep-ph',\n",
       " 'nucl-ex',\n",
       " 'q-fin',\n",
       " 'quant-ph',\n",
       " 'math-ph',\n",
       " 'nlin',\n",
       " 'q-bio',\n",
       " 'hep-ex',\n",
       " 'hep-lat',\n",
       " 'econ',\n",
       " 'eess']"
      ]
     },
     "execution_count": 114,
     "metadata": {
      "tags": []
     },
     "output_type": "execute_result"
    }
   ],
   "source": [
    "y_class_label"
   ]
  },
  {
   "cell_type": "code",
   "execution_count": 0,
   "metadata": {
    "colab": {},
    "colab_type": "code",
    "collapsed": true,
    "id": "cferJsXV0OBT"
   },
   "outputs": [],
   "source": [
    "y_train_class = y_train_label.apply(lambda x:y_class_label.index(x))"
   ]
  },
  {
   "cell_type": "code",
   "execution_count": 0,
   "metadata": {
    "colab": {},
    "colab_type": "code",
    "collapsed": true,
    "id": "T7qlwbWR0XYj"
   },
   "outputs": [],
   "source": [
    "y_test_class = pd_test.cats.apply(lambda x: x.split(\"|\")[0]).apply(lambda x:y_class_label.index(x))"
   ]
  },
  {
   "cell_type": "markdown",
   "metadata": {
    "colab_type": "text",
    "id": "6AJAO80oAav1"
   },
   "source": [
    "**Logistic Regression Model over TF-IDF vector**"
   ]
  },
  {
   "cell_type": "code",
   "execution_count": 0,
   "metadata": {
    "colab": {},
    "colab_type": "code",
    "collapsed": true,
    "id": "SGXBk9iS5szg"
   },
   "outputs": [],
   "source": [
    "from sklearn.linear_model import LogisticRegressionCV,LogisticRegression\n",
    "num_features = 10000\n",
    "X_train = tfidf[:,index_sort.tolist()[0][:num_features]]\n",
    "y_train = y_train_class.values\n",
    "lr_cv = LogisticRegression(random_state=0, solver='lbfgs',multi_class='multinomial').fit(X_train, y_train)\n"
   ]
  },
  {
   "cell_type": "code",
   "execution_count": 0,
   "metadata": {
    "colab": {},
    "colab_type": "code",
    "collapsed": true,
    "id": "rhqnveqg6PSs"
   },
   "outputs": [],
   "source": [
    "X_test = tfidf_vectorizer.transform(abs_noun_sent_test.values)[:,index_sort.tolist()[0][:num_features]]"
   ]
  },
  {
   "cell_type": "code",
   "execution_count": 109,
   "metadata": {
    "colab": {
     "base_uri": "https://localhost:8080/",
     "height": 34
    },
    "colab_type": "code",
    "id": "pcsMnyB0-qXL",
    "outputId": "af9adb86-bdf8-4777-8844-18873737f291"
   },
   "outputs": [
    {
     "data": {
      "text/plain": [
       "(37125, 10000)"
      ]
     },
     "execution_count": 109,
     "metadata": {
      "tags": []
     },
     "output_type": "execute_result"
    }
   ],
   "source": [
    "X_test.shape"
   ]
  },
  {
   "cell_type": "code",
   "execution_count": 0,
   "metadata": {
    "colab": {},
    "colab_type": "code",
    "collapsed": true,
    "id": "OHD-7d_V-ssN"
   },
   "outputs": [],
   "source": [
    "y_test_pred = lr_cv.predict(X_test)"
   ]
  },
  {
   "cell_type": "markdown",
   "metadata": {
    "colab_type": "text",
    "id": "BO1lWF31-5tG"
   },
   "source": [
    "Performance Metrics"
   ]
  },
  {
   "cell_type": "code",
   "execution_count": 111,
   "metadata": {
    "colab": {
     "base_uri": "https://localhost:8080/",
     "height": 510
    },
    "colab_type": "code",
    "id": "33bP7Tu3-2CN",
    "outputId": "7afc4759-6051-41c2-aa0b-776ee0c46290"
   },
   "outputs": [
    {
     "name": "stdout",
     "output_type": "stream",
     "text": [
      "accuracy: 0.8028282828282828\n",
      "kappa: 0.7666648371694751\n",
      "             precision    recall  f1-score   support\n",
      "\n",
      "          0       0.82      0.92      0.87      9054\n",
      "          1       0.65      0.61      0.63      3187\n",
      "          2       0.93      0.92      0.93      3980\n",
      "          3       0.68      0.61      0.65       798\n",
      "          4       0.73      0.68      0.70      1065\n",
      "          5       0.73      0.53      0.61       379\n",
      "          6       0.66      0.49      0.56      1204\n",
      "          7       0.81      0.86      0.84      4324\n",
      "          8       0.83      0.88      0.86      8125\n",
      "          9       0.79      0.82      0.80      1354\n",
      "         10       0.57      0.42      0.48       132\n",
      "         11       0.83      0.47      0.60       214\n",
      "         12       0.75      0.70      0.73      1498\n",
      "         13       0.44      0.14      0.21       442\n",
      "         14       0.59      0.35      0.44       261\n",
      "         15       0.64      0.50      0.56       504\n",
      "         16       0.83      0.57      0.68       263\n",
      "         17       0.89      0.61      0.72       195\n",
      "         18       0.00      0.00      0.00        17\n",
      "         19       0.00      0.00      0.00       129\n",
      "\n",
      "avg / total       0.79      0.80      0.79     37125\n",
      "\n"
     ]
    },
    {
     "name": "stderr",
     "output_type": "stream",
     "text": [
      "/usr/local/lib/python3.6/dist-packages/sklearn/metrics/classification.py:1135: UndefinedMetricWarning: Precision and F-score are ill-defined and being set to 0.0 in labels with no predicted samples.\n",
      "  'precision', 'predicted', average, warn_for)\n"
     ]
    }
   ],
   "source": [
    "from sklearn.metrics import classification_report,accuracy_score,cohen_kappa_score\n",
    "acc = accuracy_score(y_test_class,y_test_pred)\n",
    "kap = cohen_kappa_score(y_test_class,y_test_pred)\n",
    "print(\"accuracy:\",acc)\n",
    "print(\"kappa:\",kap)\n",
    "print(classification_report(y_test_class,y_test_pred))"
   ]
  },
  {
   "cell_type": "code",
   "execution_count": 0,
   "metadata": {
    "colab": {},
    "colab_type": "code",
    "collapsed": true,
    "id": "cYZCL62WcOrj"
   },
   "outputs": [],
   "source": [
    "from sklearn.naive_bayes import MultinomialNB\n",
    "num_features = 10000\n",
    "X_train = tfidf[:,index_sort.tolist()[0][:num_features]]\n",
    "y_train = y_train_class.values\n",
    "mult_nb = MultinomialNB().fit(X_train, y_train)"
   ]
  },
  {
   "cell_type": "code",
   "execution_count": 113,
   "metadata": {
    "colab": {
     "base_uri": "https://localhost:8080/",
     "height": 510
    },
    "colab_type": "code",
    "id": "t5WcxwqZcbOi",
    "outputId": "c42f3dfa-b208-4e90-ba17-e82d7ae5d884"
   },
   "outputs": [
    {
     "name": "stdout",
     "output_type": "stream",
     "text": [
      "accuracy: 0.7701010101010101\n",
      "kappa: 0.7254217073136828\n",
      "             precision    recall  f1-score   support\n",
      "\n",
      "          0       0.79      0.91      0.84      9054\n",
      "          1       0.64      0.55      0.59      3187\n",
      "          2       0.92      0.91      0.91      3980\n",
      "          3       0.70      0.53      0.60       798\n",
      "          4       0.74      0.61      0.67      1065\n",
      "          5       0.79      0.20      0.32       379\n",
      "          6       0.71      0.36      0.48      1204\n",
      "          7       0.74      0.88      0.81      4324\n",
      "          8       0.77      0.89      0.83      8125\n",
      "          9       0.65      0.86      0.74      1354\n",
      "         10       0.00      0.00      0.00       132\n",
      "         11       0.83      0.30      0.44       214\n",
      "         12       0.83      0.57      0.67      1498\n",
      "         13       0.60      0.01      0.01       442\n",
      "         14       0.89      0.03      0.06       261\n",
      "         15       0.72      0.32      0.44       504\n",
      "         16       0.98      0.18      0.31       263\n",
      "         17       1.00      0.05      0.09       195\n",
      "         18       0.00      0.00      0.00        17\n",
      "         19       0.00      0.00      0.00       129\n",
      "\n",
      "avg / total       0.76      0.77      0.75     37125\n",
      "\n"
     ]
    },
    {
     "name": "stderr",
     "output_type": "stream",
     "text": [
      "/usr/local/lib/python3.6/dist-packages/sklearn/metrics/classification.py:1135: UndefinedMetricWarning: Precision and F-score are ill-defined and being set to 0.0 in labels with no predicted samples.\n",
      "  'precision', 'predicted', average, warn_for)\n"
     ]
    }
   ],
   "source": [
    "from sklearn.metrics import classification_report,accuracy_score,cohen_kappa_score\n",
    "y_test_pred = mult_nb.predict(X_test)\n",
    "acc = accuracy_score(y_test_class,y_test_pred)\n",
    "kap = cohen_kappa_score(y_test_class,y_test_pred)\n",
    "print(\"accuracy:\",acc)\n",
    "print(\"kappa:\",kap)\n",
    "print(classification_report(y_test_class,y_test_pred))"
   ]
  },
  {
   "cell_type": "markdown",
   "metadata": {
    "colab_type": "text",
    "id": "kBeEJyKlCWTV"
   },
   "source": [
    "**SVM classifier**"
   ]
  },
  {
   "cell_type": "code",
   "execution_count": 115,
   "metadata": {
    "colab": {
     "base_uri": "https://localhost:8080/",
     "height": 85
    },
    "colab_type": "code",
    "id": "Uii6oSL_CQj0",
    "outputId": "0c431a1e-1811-4110-e521-ab4f1e5815ba"
   },
   "outputs": [
    {
     "data": {
      "text/plain": [
       "LinearSVC(C=1.0, class_weight=None, dual=True, fit_intercept=True,\n",
       "     intercept_scaling=1, loss='squared_hinge', max_iter=1000,\n",
       "     multi_class='ovr', penalty='l2', random_state=None, tol=0.0001,\n",
       "     verbose=0)"
      ]
     },
     "execution_count": 115,
     "metadata": {
      "tags": []
     },
     "output_type": "execute_result"
    }
   ],
   "source": [
    "from sklearn import svm\n",
    "lin_svm_model = svm.LinearSVC()\n",
    "lin_svm_model.fit(X_train, y_train) "
   ]
  },
  {
   "cell_type": "code",
   "execution_count": 116,
   "metadata": {
    "colab": {
     "base_uri": "https://localhost:8080/",
     "height": 510
    },
    "colab_type": "code",
    "id": "fg5hG-lKDiIB",
    "outputId": "8bccca55-505a-4ce4-842c-608ad60beb18"
   },
   "outputs": [
    {
     "name": "stdout",
     "output_type": "stream",
     "text": [
      "accuracy: 0.8077845117845118\n",
      "kappa: 0.7728708673127115\n",
      "             precision    recall  f1-score   support\n",
      "\n",
      "          0       0.83      0.92      0.87      9054\n",
      "          1       0.69      0.59      0.64      3187\n",
      "          2       0.93      0.93      0.93      3980\n",
      "          3       0.66      0.64      0.65       798\n",
      "          4       0.73      0.68      0.70      1065\n",
      "          5       0.72      0.60      0.65       379\n",
      "          6       0.66      0.46      0.55      1204\n",
      "          7       0.82      0.87      0.84      4324\n",
      "          8       0.84      0.88      0.86      8125\n",
      "          9       0.79      0.84      0.81      1354\n",
      "         10       0.56      0.41      0.47       132\n",
      "         11       0.75      0.67      0.71       214\n",
      "         12       0.75      0.73      0.74      1498\n",
      "         13       0.46      0.09      0.15       442\n",
      "         14       0.63      0.39      0.48       261\n",
      "         15       0.58      0.59      0.59       504\n",
      "         16       0.77      0.62      0.68       263\n",
      "         17       0.87      0.68      0.76       195\n",
      "         18       0.00      0.00      0.00        17\n",
      "         19       0.00      0.00      0.00       129\n",
      "\n",
      "avg / total       0.80      0.81      0.80     37125\n",
      "\n"
     ]
    },
    {
     "name": "stderr",
     "output_type": "stream",
     "text": [
      "/usr/local/lib/python3.6/dist-packages/sklearn/metrics/classification.py:1135: UndefinedMetricWarning: Precision and F-score are ill-defined and being set to 0.0 in labels with no predicted samples.\n",
      "  'precision', 'predicted', average, warn_for)\n"
     ]
    }
   ],
   "source": [
    "from sklearn.metrics import classification_report,accuracy_score,cohen_kappa_score\n",
    "y_test_pred = lin_svm_model.predict(X_test)\n",
    "acc = accuracy_score(y_test_class,y_test_pred)\n",
    "kap = cohen_kappa_score(y_test_class,y_test_pred)\n",
    "print(\"accuracy:\",acc)\n",
    "print(\"kappa:\",kap)\n",
    "print(classification_report(y_test_class,y_test_pred))"
   ]
  },
  {
   "cell_type": "markdown",
   "metadata": {
    "colab_type": "text",
    "id": "MUCDlFYCAWql"
   },
   "source": [
    "**Random Forest**"
   ]
  },
  {
   "cell_type": "code",
   "execution_count": 0,
   "metadata": {
    "colab": {},
    "colab_type": "code",
    "collapsed": true,
    "id": "NHFOOEzTAVxp"
   },
   "outputs": [],
   "source": [
    "from sklearn.ensemble import RandomForestClassifier\n",
    "rf_model = RandomForestClassifier(n_estimators=200, max_depth=50,random_state=0).fit(X_train, y_train)"
   ]
  },
  {
   "cell_type": "code",
   "execution_count": 118,
   "metadata": {
    "colab": {
     "base_uri": "https://localhost:8080/",
     "height": 510
    },
    "colab_type": "code",
    "id": "EozhL4eL-3BL",
    "outputId": "ae4ca8a3-8ff7-4f5d-95a0-f166cddb384c"
   },
   "outputs": [
    {
     "name": "stdout",
     "output_type": "stream",
     "text": [
      "accuracy: 0.6884040404040404\n",
      "kappa: 0.6192940690008264\n",
      "             precision    recall  f1-score   support\n",
      "\n",
      "          0       0.62      0.93      0.74      9054\n",
      "          1       0.77      0.22      0.34      3187\n",
      "          2       0.86      0.89      0.88      3980\n",
      "          3       0.71      0.28      0.40       798\n",
      "          4       0.78      0.25      0.38      1065\n",
      "          5       0.91      0.05      0.10       379\n",
      "          6       0.77      0.07      0.13      1204\n",
      "          7       0.65      0.86      0.74      4324\n",
      "          8       0.70      0.85      0.77      8125\n",
      "          9       0.74      0.63      0.68      1354\n",
      "         10       1.00      0.02      0.03       132\n",
      "         11       0.00      0.00      0.00       214\n",
      "         12       0.80      0.49      0.61      1498\n",
      "         13       0.00      0.00      0.00       442\n",
      "         14       1.00      0.00      0.01       261\n",
      "         15       0.00      0.00      0.00       504\n",
      "         16       0.91      0.40      0.55       263\n",
      "         17       1.00      0.18      0.30       195\n",
      "         18       0.00      0.00      0.00        17\n",
      "         19       0.00      0.00      0.00       129\n",
      "\n",
      "avg / total       0.69      0.69      0.64     37125\n",
      "\n"
     ]
    },
    {
     "name": "stderr",
     "output_type": "stream",
     "text": [
      "/usr/local/lib/python3.6/dist-packages/sklearn/metrics/classification.py:1135: UndefinedMetricWarning: Precision and F-score are ill-defined and being set to 0.0 in labels with no predicted samples.\n",
      "  'precision', 'predicted', average, warn_for)\n"
     ]
    }
   ],
   "source": [
    "from sklearn.metrics import classification_report,accuracy_score,cohen_kappa_score\n",
    "y_test_pred = rf_model.predict(X_test)\n",
    "acc = accuracy_score(y_test_class,y_test_pred)\n",
    "kap = cohen_kappa_score(y_test_class,y_test_pred)\n",
    "print(\"accuracy:\",acc)\n",
    "print(\"kappa:\",kap)\n",
    "print(classification_report(y_test_class,y_test_pred))"
   ]
  },
  {
   "cell_type": "code",
   "execution_count": 0,
   "metadata": {
    "colab": {},
    "colab_type": "code",
    "collapsed": true,
    "id": "cUrejtDcDyEq"
   },
   "outputs": [],
   "source": [
    "from sklearn.ensemble import RandomForestClassifier\n",
    "rf_model_2 = RandomForestClassifier(n_estimators=200, max_depth=200,random_state=0).fit(X_train, y_train)"
   ]
  },
  {
   "cell_type": "code",
   "execution_count": 123,
   "metadata": {
    "colab": {
     "base_uri": "https://localhost:8080/",
     "height": 510
    },
    "colab_type": "code",
    "id": "V461tzq7cYAc",
    "outputId": "ed251fa3-b5ef-4185-fb22-ac5223fe1de0"
   },
   "outputs": [
    {
     "name": "stdout",
     "output_type": "stream",
     "text": [
      "accuracy: 0.7408484848484849\n",
      "kappa: 0.6879745803793356\n",
      "             precision    recall  f1-score   support\n",
      "\n",
      "          0       0.76      0.91      0.83      9054\n",
      "          1       0.69      0.37      0.48      3187\n",
      "          2       0.87      0.90      0.89      3980\n",
      "          3       0.68      0.45      0.54       798\n",
      "          4       0.74      0.46      0.56      1065\n",
      "          5       0.87      0.16      0.27       379\n",
      "          6       0.73      0.17      0.27      1204\n",
      "          7       0.67      0.88      0.76      4324\n",
      "          8       0.72      0.91      0.80      8125\n",
      "          9       0.72      0.77      0.74      1354\n",
      "         10       0.89      0.06      0.11       132\n",
      "         11       0.90      0.13      0.22       214\n",
      "         12       0.75      0.63      0.68      1498\n",
      "         13       0.00      0.00      0.00       442\n",
      "         14       1.00      0.03      0.07       261\n",
      "         15       0.89      0.05      0.09       504\n",
      "         16       0.93      0.47      0.63       263\n",
      "         17       1.00      0.30      0.46       195\n",
      "         18       0.00      0.00      0.00        17\n",
      "         19       0.00      0.00      0.00       129\n",
      "\n",
      "avg / total       0.74      0.74      0.71     37125\n",
      "\n"
     ]
    },
    {
     "name": "stderr",
     "output_type": "stream",
     "text": [
      "/usr/local/lib/python3.6/dist-packages/sklearn/metrics/classification.py:1135: UndefinedMetricWarning: Precision and F-score are ill-defined and being set to 0.0 in labels with no predicted samples.\n",
      "  'precision', 'predicted', average, warn_for)\n"
     ]
    }
   ],
   "source": [
    "from sklearn.metrics import classification_report,accuracy_score,cohen_kappa_score\n",
    "y_test_pred = rf_model_2.predict(X_test)\n",
    "acc = accuracy_score(y_test_class,y_test_pred)\n",
    "kap = cohen_kappa_score(y_test_class,y_test_pred)\n",
    "print(\"accuracy:\",acc)\n",
    "print(\"kappa:\",kap)\n",
    "print(classification_report(y_test_class,y_test_pred))"
   ]
  },
  {
   "cell_type": "code",
   "execution_count": 0,
   "metadata": {
    "colab": {},
    "colab_type": "code",
    "collapsed": true,
    "id": "pLDWQL9JGyfG"
   },
   "outputs": [],
   "source": [
    "\n",
    "with open(\"Dataset/arxiv/trained_first_model_strat.pickle\",\"wb\") as file:\n",
    "  pickle.dump((lr_cv,mult_nb,lin_svm_model,rf_model,rf_model_2),file)"
   ]
  },
  {
   "cell_type": "code",
   "execution_count": 0,
   "metadata": {
    "colab": {},
    "colab_type": "code",
    "collapsed": true,
    "id": "pqdQiNinPdrv"
   },
   "outputs": [],
   "source": []
  }
 ],
 "metadata": {
  "accelerator": "GPU",
  "anaconda-cloud": {},
  "colab": {
   "collapsed_sections": [],
   "name": "first model stratify",
   "provenance": [],
   "version": "0.3.2"
  },
  "kernelspec": {
   "display_name": "Python [Root]",
   "language": "python",
   "name": "Python [Root]"
  },
  "language_info": {
   "codemirror_mode": {
    "name": "ipython",
    "version": 3
   },
   "file_extension": ".py",
   "mimetype": "text/x-python",
   "name": "python",
   "nbconvert_exporter": "python",
   "pygments_lexer": "ipython3",
   "version": "3.5.6"
  }
 },
 "nbformat": 4,
 "nbformat_minor": 1
}
