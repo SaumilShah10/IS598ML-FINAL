{
 "cells": [
  {
   "cell_type": "code",
   "execution_count": 1,
   "metadata": {},
   "outputs": [],
   "source": [
    "import os\n",
    "import json\n",
    "import numpy as np\n",
    "from datetime import datetime\n",
    "from collections import defaultdict\n",
    "from nltk import word_tokenize\n",
    "from nltk import sent_tokenize\n",
    "from nltk import pos_tag\n",
    "from sklearn.preprocessing import MultiLabelBinarizer\n",
    "from sklearn.feature_extraction.text import TfidfVectorizer\n",
    "from sklearn.feature_extraction.text import CountVectorizer\n",
    "from sklearn.pipeline import Pipeline\n",
    "from sklearn.multiclass import OneVsRestClassifier\n",
    "from sklearn.naive_bayes import MultinomialNB\n",
    "from sklearn.svm import LinearSVC\n",
    "from sklearn.linear_model import LogisticRegression\n",
    "from sklearn.metrics import accuracy_score\n",
    "from sklearn.metrics import precision_score\n",
    "from sklearn.metrics import recall_score"
   ]
  },
  {
   "cell_type": "code",
   "execution_count": null,
   "metadata": {},
   "outputs": [],
   "source": [
    "categories = set()\n",
    "top_level_categories = set()\n",
    "\n",
    "train_X = []\n",
    "train_specific_Y = []\n",
    "train_top_Y = []\n",
    "with open(os.path.join('..', 'features', 'nouns', '2016.json'), 'r') as f:\n",
    "    for line in f:\n",
    "        row = json.loads(line)\n",
    "        \n",
    "        train_X.append(row['nouns'])\n",
    "        train_specific_Y.append(row['categories'])\n",
    "        train_top_Y.append(row['top_level_categories'])\n",
    "\n",
    "test_X = []\n",
    "test_specific_Y = []\n",
    "test_top_Y = []    \n",
    "with open(os.path.join('..', 'features', 'nouns', '2017.json'), 'r') as f:\n",
    "    for line in f:\n",
    "        row = json.loads(line)\n",
    "        \n",
    "        test_X.append(row['nouns'])\n",
    "        test_specific_Y.append(row['categories'])\n",
    "        test_top_Y.append(row['top_level_categories'])"
   ]
  },
  {
   "cell_type": "code",
   "execution_count": null,
   "metadata": {},
   "outputs": [],
   "source": [
    "mlb = MultiLabelBinarizer(list(categories))\n",
    "bin_train_Y = mlb.fit_transform(train_Y)\n",
    "bin_test_Y = mlb.fit_transform(test_Y)"
   ]
  },
  {
   "cell_type": "code",
   "execution_count": null,
   "metadata": {},
   "outputs": [],
   "source": [
    "### One vs rest classifier\n",
    "### Features: TFIDF (top 10000 nouns)\n",
    "### \n",
    "\n",
    "NB_pipeline = Pipeline([\n",
    "                ('tfidf', TfidfVectorizer(max_features = 10000)),\n",
    "                ('clf', OneVsRestClassifier(MultinomialNB(\n",
    "                    fit_prior=True, class_prior=None))),\n",
    "            ])\n",
    "\n",
    "nb_predictions = []\n",
    "for i in range(len(categories)):\n",
    "    print('... Processing {}'.format(mlb.classes_[i]))\n",
    "    # train the model using X_dtm & y\n",
    "    NB_pipeline.fit(train_X, bin_train_Y[:,i])\n",
    "    \n",
    "    # compute the testing accuracy\n",
    "    prediction = NB_pipeline.predict(test_X)\n",
    "    nb_predictions.append(prediction)\n",
    "    \n",
    "    print('Instances: {}'.format(np.sum(bin_test_Y[:,i])))\n",
    "    print('Test accuracy is {}'.format(accuracy_score(bin_test_Y[:,i], prediction)))\n",
    "    print('Precision is {}'.format(precision_score(bin_test_Y[:,i], prediction)))\n",
    "    print('Recall is {}'.format(recall_score(bin_test_Y[:,i], prediction)))"
   ]
  },
  {
   "cell_type": "code",
   "execution_count": null,
   "metadata": {},
   "outputs": [],
   "source": [
    "nb_predictions = []\n",
    "\n",
    "for i in range(len(categories)):\n",
    "    print('... Processing {}'.format(mlb.classes_[i]))\n",
    "\n",
    "    vectorizer = TfidfVectorizer(max_features = 5000)\n",
    "    tfidf_matrix =  vectorizer.fit_transform(np.array(train_X)[bin_train_Y[:,i] == 1])\n",
    "    \n",
    "    clf = MultinomialNB(fit_prior=True, class_prior=None)\n",
    "    clf.fit(vectorizer.transform(train_X), bin_train_Y[:,i])\n",
    "    \n",
    "    # compute the testing accuracy\n",
    "    prediction = clf.predict(vectorizer.transform(test_X))\n",
    "    nb_predictions.append(prediction)\n",
    "    \n",
    "    print('Instances: {}'.format(np.sum(bin_test_Y[:,i])))\n",
    "    print('Test accuracy is {}'.format(accuracy_score(bin_test_Y[:,i], prediction)))\n",
    "    print('Precision is {}'.format(precision_score(bin_test_Y[:,i], prediction)))\n",
    "    print('Recall is {}'.format(recall_score(bin_test_Y[:,i], prediction)))"
   ]
  }
 ],
 "metadata": {
  "kernelspec": {
   "display_name": "Python 3",
   "language": "python",
   "name": "python3"
  },
  "language_info": {
   "codemirror_mode": {
    "name": "ipython",
    "version": 3
   },
   "file_extension": ".py",
   "mimetype": "text/x-python",
   "name": "python",
   "nbconvert_exporter": "python",
   "pygments_lexer": "ipython3",
   "version": "3.6.6"
  }
 },
 "nbformat": 4,
 "nbformat_minor": 2
}
