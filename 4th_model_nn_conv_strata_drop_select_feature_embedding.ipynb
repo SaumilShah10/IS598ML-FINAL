{
 "cells": [
  {
   "cell_type": "code",
   "execution_count": 0,
   "metadata": {
    "colab": {},
    "colab_type": "code",
    "collapsed": true,
    "id": "k4i7UDH919kL"
   },
   "outputs": [],
   "source": [
    "import pandas as pd"
   ]
  },
  {
   "cell_type": "code",
   "execution_count": 0,
   "metadata": {
    "colab": {},
    "colab_type": "code",
    "collapsed": true,
    "id": "RYv8pJ0nA7-v"
   },
   "outputs": [],
   "source": [
    "pd_train = pd.read_csv(\"Dataset/arxiv/train_all.csv\",dtype=\"str\")"
   ]
  },
  {
   "cell_type": "code",
   "execution_count": 0,
   "metadata": {
    "colab": {},
    "colab_type": "code",
    "collapsed": true,
    "id": "HglJaUiUi708"
   },
   "outputs": [],
   "source": [
    "pd_test = pd.read_csv(\"Dataset/arxiv/test_all.csv\",dtype=\"str\")"
   ]
  },
  {
   "cell_type": "code",
   "execution_count": 0,
   "metadata": {
    "colab": {
     "base_uri": "https://localhost:8080/",
     "height": 34
    },
    "colab_type": "code",
    "id": "jSekhlzYnRuA",
    "outputId": "1d37f9e7-2a78-411e-c04a-e513d45ff696"
   },
   "outputs": [
    {
     "data": {
      "text/plain": [
       "(200092, 10)"
      ]
     },
     "execution_count": 7,
     "metadata": {
      "tags": []
     },
     "output_type": "execute_result"
    }
   ],
   "source": [
    "pd_train.shape"
   ]
  },
  {
   "cell_type": "code",
   "execution_count": 0,
   "metadata": {
    "colab": {
     "base_uri": "https://localhost:8080/",
     "height": 34
    },
    "colab_type": "code",
    "id": "UNzJd7A2FPeM",
    "outputId": "30fad956-25fb-4f16-aefe-39fd75f03f1c"
   },
   "outputs": [
    {
     "data": {
      "text/plain": [
       "(37125, 10)"
      ]
     },
     "execution_count": 8,
     "metadata": {
      "tags": []
     },
     "output_type": "execute_result"
    }
   ],
   "source": [
    "pd_test.shape"
   ]
  },
  {
   "cell_type": "markdown",
   "metadata": {
    "colab_type": "text",
    "id": "VCgx4jXHj-6r"
   },
   "source": [
    "Clean up abstract using noun only phrase"
   ]
  },
  {
   "cell_type": "code",
   "execution_count": 0,
   "metadata": {
    "colab": {
     "base_uri": "https://localhost:8080/",
     "height": 170
    },
    "colab_type": "code",
    "id": "KTpdT-x1lyTp",
    "outputId": "5db812e5-eb49-4457-a925-605dc970b34c"
   },
   "outputs": [
    {
     "name": "stdout",
     "output_type": "stream",
     "text": [
      "[nltk_data] Downloading package punkt to /root/nltk_data...\n",
      "[nltk_data]   Package punkt is already up-to-date!\n",
      "[nltk_data] Downloading package averaged_perceptron_tagger to\n",
      "[nltk_data]     /root/nltk_data...\n",
      "[nltk_data]   Package averaged_perceptron_tagger is already up-to-\n",
      "[nltk_data]       date!\n",
      "[nltk_data] Downloading package stopwords to /root/nltk_data...\n",
      "[nltk_data]   Package stopwords is already up-to-date!\n"
     ]
    },
    {
     "data": {
      "text/plain": [
       "True"
      ]
     },
     "execution_count": 9,
     "metadata": {
      "tags": []
     },
     "output_type": "execute_result"
    }
   ],
   "source": [
    "import nltk\n",
    "from nltk.corpus import stopwords\n",
    "from nltk.tokenize import word_tokenize\n",
    "from nltk.util import ngrams\n",
    "nltk.download('punkt')\n",
    "nltk.download('averaged_perceptron_tagger')\n",
    "nltk.download('stopwords')"
   ]
  },
  {
   "cell_type": "code",
   "execution_count": 0,
   "metadata": {
    "colab": {},
    "colab_type": "code",
    "collapsed": true,
    "id": "ZzR6AvzFrUMY"
   },
   "outputs": [],
   "source": [
    "#abs_noun_clean = abstract_noun.apply(lambda x:alphabetic_only_l(x))"
   ]
  },
  {
   "cell_type": "code",
   "execution_count": 0,
   "metadata": {
    "colab": {},
    "colab_type": "code",
    "collapsed": true,
    "id": "AaYWBsJl9o4c"
   },
   "outputs": [],
   "source": [
    "#abs_noun_clean_test = abstract_noun_test.apply(lambda x:alphabetic_only_l(x))"
   ]
  },
  {
   "cell_type": "code",
   "execution_count": 0,
   "metadata": {
    "colab": {},
    "colab_type": "code",
    "collapsed": true,
    "id": "oWpiT7DtrXP5"
   },
   "outputs": [],
   "source": [
    "import pickle\n",
    "#with open(\"Dataset/arxiv/abstract_noun_clean.pickle\",\"wb\") as file:\n",
    "#  pickle.dump((abs_noun_clean,abs_noun_clean_test),file)\n",
    "with open(\"Dataset/arxiv/abstract_noun_clean_strat.pickle\",\"rb\") as file:\n",
    "  (abs_noun_clean,abs_noun_clean_test) = pickle.load(file)"
   ]
  },
  {
   "cell_type": "code",
   "execution_count": 0,
   "metadata": {
    "colab": {},
    "colab_type": "code",
    "collapsed": true,
    "id": "xgLlhl5HPVfP"
   },
   "outputs": [],
   "source": [
    "# clean abstract noun so it will contain only alphabetic char\n",
    "\n",
    "# use english stop_words\n",
    "stop_words =  list(stopwords.words('english'))\n",
    "\n",
    "def alphabetic_only_l(x_string):\n",
    "  list_sent = []    \n",
    "  for word in x_string.lower().split(\" \"):\n",
    "    # remove all tokens that are not alphabetic\n",
    "    #print(tokens)\n",
    "    if word.isalpha() and word not in stop_words:\n",
    "      list_sent.append(word)\n",
    "  return \" \".join(list_sent)"
   ]
  },
  {
   "cell_type": "code",
   "execution_count": 0,
   "metadata": {
    "colab": {},
    "colab_type": "code",
    "collapsed": true,
    "id": "Ejix081jsZFS"
   },
   "outputs": [],
   "source": [
    "# features/words chooser using tfidf\n",
    "def sent_convert(x_string):\n",
    "  list_sent = []\n",
    "  for sent in x_string:\n",
    "    # remove all tokens that are not alphabetic    \n",
    "    list_sent.append(\" \".join(sent))    \n",
    "  return \" \".join(list_sent)\n",
    "\n",
    "abs_noun_sent = abs_noun_clean.apply(lambda x:sent_convert(x))"
   ]
  },
  {
   "cell_type": "code",
   "execution_count": 0,
   "metadata": {
    "colab": {
     "base_uri": "https://localhost:8080/",
     "height": 34
    },
    "colab_type": "code",
    "id": "-UhjKUZYTPSh",
    "outputId": "8180d312-8771-4251-eeba-22eafaffe762"
   },
   "outputs": [
    {
     "data": {
      "text/plain": [
       "'Wavelets and graph $C^*$-algebras'"
      ]
     },
     "execution_count": 15,
     "metadata": {
      "tags": []
     },
     "output_type": "execute_result"
    }
   ],
   "source": [
    "pd_train.iloc[9].title"
   ]
  },
  {
   "cell_type": "code",
   "execution_count": 0,
   "metadata": {
    "colab": {},
    "colab_type": "code",
    "collapsed": true,
    "id": "uKxokY0uPccP"
   },
   "outputs": [],
   "source": [
    "title_clean = pd_train.title.apply(lambda x:alphabetic_only_l(x))"
   ]
  },
  {
   "cell_type": "code",
   "execution_count": 0,
   "metadata": {
    "colab": {
     "base_uri": "https://localhost:8080/",
     "height": 119
    },
    "colab_type": "code",
    "id": "p-FeDIBkTzmi",
    "outputId": "b3131070-def4-4332-9641-cc83ef902b39"
   },
   "outputs": [
    {
     "data": {
      "text/plain": [
       "0    combinatorial formulas certain sequences multi...\n",
       "1    efficient symmetrized dmrg algorithm excited s...\n",
       "2    study seyfert galaxies strong lines using larg...\n",
       "3             note proper affine symmetry bianchi type\n",
       "4                rapid rotational relaxation magnetars\n",
       "Name: title, dtype: object"
      ]
     },
     "execution_count": 17,
     "metadata": {
      "tags": []
     },
     "output_type": "execute_result"
    }
   ],
   "source": [
    "title_clean.head()"
   ]
  },
  {
   "cell_type": "code",
   "execution_count": 0,
   "metadata": {
    "colab": {},
    "colab_type": "code",
    "collapsed": true,
    "id": "rLxvhHs09woQ"
   },
   "outputs": [],
   "source": [
    "abs_noun_sent_test = abs_noun_clean_test.apply(lambda x:sent_convert(x))"
   ]
  },
  {
   "cell_type": "code",
   "execution_count": 0,
   "metadata": {
    "colab": {},
    "colab_type": "code",
    "collapsed": true,
    "id": "mgd6ahG3ZKae"
   },
   "outputs": [],
   "source": [
    "title_clean_test = pd_test.title.apply(lambda x:alphabetic_only_l(x))"
   ]
  },
  {
   "cell_type": "code",
   "execution_count": 0,
   "metadata": {
    "colab": {},
    "colab_type": "code",
    "collapsed": true,
    "id": "IAERrdyUm1JG"
   },
   "outputs": [],
   "source": [
    "abs_noun_title = title_clean +\" \"+abs_noun_sent"
   ]
  },
  {
   "cell_type": "code",
   "execution_count": 0,
   "metadata": {
    "colab": {},
    "colab_type": "code",
    "collapsed": true,
    "id": "NohvBtRIZPw-"
   },
   "outputs": [],
   "source": [
    "abs_noun_title_test = title_clean_test +\" \"+abs_noun_sent_test"
   ]
  },
  {
   "cell_type": "code",
   "execution_count": 0,
   "metadata": {
    "colab": {
     "base_uri": "https://localhost:8080/",
     "height": 34
    },
    "colab_type": "code",
    "id": "qODkDBN6UkVY",
    "outputId": "34fc99d6-0624-4f23-8112-52d59b6d5635"
   },
   "outputs": [
    {
     "data": {
      "text/plain": [
       "(200092,)"
      ]
     },
     "execution_count": 22,
     "metadata": {
      "tags": []
     },
     "output_type": "execute_result"
    }
   ],
   "source": [
    "title_clean.shape"
   ]
  },
  {
   "cell_type": "code",
   "execution_count": 0,
   "metadata": {
    "colab": {
     "base_uri": "https://localhost:8080/",
     "height": 34
    },
    "colab_type": "code",
    "id": "gtdvQPrihUsq",
    "outputId": "7918b3f5-9221-45b9-a457-cfc0d6008c5f"
   },
   "outputs": [
    {
     "data": {
      "text/plain": [
       "'On unconditional well-posedness for the periodic modified korteweg-de\\n  vries equation'"
      ]
     },
     "execution_count": 23,
     "metadata": {
      "tags": []
     },
     "output_type": "execute_result"
    }
   ],
   "source": [
    "pd_train.iloc[60725].title"
   ]
  },
  {
   "cell_type": "code",
   "execution_count": 0,
   "metadata": {
    "colab": {
     "base_uri": "https://localhost:8080/",
     "height": 34
    },
    "colab_type": "code",
    "id": "dDU30MTzhN6h",
    "outputId": "67c767e9-51c7-4739-9ed5-095889ba137e"
   },
   "outputs": [
    {
     "data": {
      "text/plain": [
       "'equation '"
      ]
     },
     "execution_count": 24,
     "metadata": {
      "tags": []
     },
     "output_type": "execute_result"
    }
   ],
   "source": [
    "abs_noun_sent[60725]"
   ]
  },
  {
   "cell_type": "code",
   "execution_count": 0,
   "metadata": {
    "colab": {},
    "colab_type": "code",
    "collapsed": true,
    "id": "EdWwpMYyiEWA"
   },
   "outputs": [],
   "source": [
    "# make 150 convolutional layer input"
   ]
  },
  {
   "cell_type": "code",
   "execution_count": 0,
   "metadata": {
    "colab": {},
    "colab_type": "code",
    "collapsed": true,
    "id": "lYw4J_yViMHd"
   },
   "outputs": [],
   "source": [
    "from sklearn.feature_extraction.text import TfidfVectorizer, CountVectorizer\n",
    "tfidf_vectorizer = TfidfVectorizer(max_df=0.95, min_df=2)\n",
    "tfidf = tfidf_vectorizer.fit_transform(abs_noun_sent.values)\n",
    "tfidf_feature_names = tfidf_vectorizer.get_feature_names()"
   ]
  },
  {
   "cell_type": "code",
   "execution_count": 0,
   "metadata": {
    "colab": {},
    "colab_type": "code",
    "collapsed": true,
    "id": "hTHrdELYDl2H"
   },
   "outputs": [],
   "source": [
    "title_vectorizer = CountVectorizer(max_df=0.95, min_df=2,max_features=10000)\n",
    "title_vector = title_vectorizer.fit_transform(title_clean.values)\n",
    "title_Feature_names = title_vectorizer.get_feature_names()"
   ]
  },
  {
   "cell_type": "code",
   "execution_count": 0,
   "metadata": {
    "colab": {},
    "colab_type": "code",
    "collapsed": true,
    "id": "VWUo5nxrxwT7"
   },
   "outputs": [],
   "source": [
    "from scipy.sparse import lil_matrix\n",
    "my_l_matrix = lil_matrix((pd_train.shape[0],150),dtype=int)"
   ]
  },
  {
   "cell_type": "code",
   "execution_count": 0,
   "metadata": {
    "colab": {},
    "colab_type": "code",
    "collapsed": true,
    "id": "EGRByTvD4G6S"
   },
   "outputs": [],
   "source": [
    "my_test_matrix = lil_matrix((pd_test.shape[0],150),dtype=int)"
   ]
  },
  {
   "cell_type": "code",
   "execution_count": 0,
   "metadata": {
    "colab": {},
    "colab_type": "code",
    "collapsed": true,
    "id": "o57DivlcEl-C"
   },
   "outputs": [],
   "source": [
    "# get only 10000 tfidf most valuable features\n",
    "tfidf_sum = tfidf.sum(axis=0)\n",
    "import numpy as np\n",
    "# sort the tfidf_desc\n",
    "index_sort = np.argsort(tfidf_sum)[:,::-1]\n",
    "pot_feat = [tfidf_feature_names[x] for x in index_sort.tolist()[0][:10000]]"
   ]
  },
  {
   "cell_type": "code",
   "execution_count": 0,
   "metadata": {
    "colab": {
     "base_uri": "https://localhost:8080/",
     "height": 34
    },
    "colab_type": "code",
    "id": "ieb9j-vbF2P_",
    "outputId": "4d629b8a-1fae-495b-c126-99b5a2a97f09"
   },
   "outputs": [
    {
     "name": "stdout",
     "output_type": "stream",
     "text": [
      "13226\n"
     ]
    }
   ],
   "source": [
    "pot_feat.extend(title_Feature_names)\n",
    "pot_feat = list(set(pot_feat))\n",
    "print(len(pot_feat))"
   ]
  },
  {
   "cell_type": "code",
   "execution_count": 0,
   "metadata": {
    "colab": {},
    "colab_type": "code",
    "collapsed": true,
    "id": "_WGOcM7JoklH"
   },
   "outputs": [],
   "source": [
    "tf_feature_dict = {}\n",
    "for i,x in enumerate(pot_feat):\n",
    "  tf_feature_dict[x] = i+1"
   ]
  },
  {
   "cell_type": "code",
   "execution_count": 0,
   "metadata": {
    "colab": {},
    "colab_type": "code",
    "collapsed": true,
    "id": "1B2tnVp4IUHM"
   },
   "outputs": [],
   "source": [
    "tf_embedding_dict = {}\n",
    "for i,x in enumerate(pot_feat):\n",
    "  tf_embedding_dict[x] = {\"idx\": i+1,\"v\":[]}"
   ]
  },
  {
   "cell_type": "markdown",
   "metadata": {
    "colab_type": "text",
    "id": "Jgme8bQ5HGPq"
   },
   "source": [
    "Make Embedding weights from fastext"
   ]
  },
  {
   "cell_type": "code",
   "execution_count": 0,
   "metadata": {
    "colab": {
     "base_uri": "https://localhost:8080/",
     "height": 357
    },
    "colab_type": "code",
    "id": "5WgoosmRHEMA",
    "outputId": "48e18b17-4fdf-46f4-a93f-e907d5e96181"
   },
   "outputs": [
    {
     "name": "stdout",
     "output_type": "stream",
     "text": [
      "100000\n",
      "200000\n",
      "300000\n",
      "400000\n",
      "500000\n",
      "600000\n",
      "700000\n",
      "800000\n",
      "900000\n",
      "1000000\n",
      "1100000\n",
      "1200000\n",
      "1300000\n",
      "1400000\n",
      "1500000\n",
      "1600000\n",
      "1700000\n",
      "1800000\n",
      "1900000\n",
      "2000000\n"
     ]
    }
   ],
   "source": [
    "\n",
    "#get only feature from the tf_feature_dict\n",
    "\n",
    "# index words from word2vec\n",
    "word_vector = []\n",
    "tfidf_counter = 0\n",
    "with open(\"Dataset/arxiv/cc.en.300.vec\",\"r\") as file:\n",
    "  i = 0\n",
    "  for vec in file:\n",
    "    i+=1\n",
    "    if i%100000==0:\n",
    "      print(i)\n",
    "    #word_index.append((vec.split(\" \")[0],i))\n",
    "    vec = vec.replace(\"\\n\",\"\")\n",
    "    word_idx = vec.split(\" \")[0]\n",
    "    word_coef = np.asarray(vec.split(\" \")[1:], dtype='float32')\n",
    "    try:\n",
    "      tf_embedding_dict[word_idx][\"v\"] = word_coef\n",
    "    except:\n",
    "      continue"
   ]
  },
  {
   "cell_type": "code",
   "execution_count": 0,
   "metadata": {
    "colab": {
     "base_uri": "https://localhost:8080/",
     "height": 34
    },
    "colab_type": "code",
    "id": "Q4xs9AwHK5ZD",
    "outputId": "300784e9-108b-4da8-ea93-0ce6d5c42780"
   },
   "outputs": [
    {
     "data": {
      "text/plain": [
       "12193"
      ]
     },
     "execution_count": 48,
     "metadata": {
      "tags": []
     },
     "output_type": "execute_result"
    }
   ],
   "source": [
    "np.sum([1 if len(x[1][\"v\"])>0 else 0 for x in tf_embedding_dict.items()])"
   ]
  },
  {
   "cell_type": "code",
   "execution_count": 0,
   "metadata": {
    "colab": {},
    "colab_type": "code",
    "collapsed": true,
    "id": "1bJ1T2CEMiju"
   },
   "outputs": [],
   "source": [
    "embedding_temp = []\n",
    "for x in tf_embedding_dict.items():\n",
    "  if len(x[1][\"v\"])>0:\n",
    "    embedding_temp.append((x[0],x[1][\"v\"]))"
   ]
  },
  {
   "cell_type": "code",
   "execution_count": 0,
   "metadata": {
    "colab": {
     "base_uri": "https://localhost:8080/",
     "height": 782
    },
    "colab_type": "code",
    "id": "JHFxEbkOMsQT",
    "outputId": "decfe906-16da-44b0-bde9-1898ab76ff23"
   },
   "outputs": [
    {
     "data": {
      "text/plain": [
       "('polymorphism',\n",
       " array([ 0.0821, -0.0309,  0.0137,  0.0069,  0.0241, -0.06  ,  0.0069,\n",
       "        -0.0267,  0.0173,  0.0043, -0.0537, -0.0213, -0.0666,  0.0031,\n",
       "        -0.0398, -0.0213, -0.0175,  0.0168,  0.0611, -0.0029,  0.0215,\n",
       "        -0.0581, -0.0369, -0.0627,  0.0249, -0.0389,  0.0304,  0.0494,\n",
       "         0.0238,  0.0906, -0.0115,  0.0435,  0.065 , -0.0114, -0.0442,\n",
       "        -0.0031,  0.0356, -0.025 , -0.0342, -0.0772, -0.0277,  0.0397,\n",
       "         0.0167, -0.031 , -0.0162, -0.0022, -0.0256,  0.0405, -0.0115,\n",
       "        -0.0068,  0.0722, -0.042 , -0.0117,  0.041 , -0.045 ,  0.0351,\n",
       "        -0.0092, -0.0058, -0.0423,  0.0201,  0.0484, -0.0335,  0.0039,\n",
       "        -0.0098, -0.0092,  0.0251,  0.0297,  0.0069, -0.0536, -0.0316,\n",
       "         0.0126, -0.0769,  0.0239,  0.002 , -0.0753,  0.0217,  0.0268,\n",
       "         0.0172, -0.0294, -0.005 ,  0.0432,  0.0612, -0.0404,  0.0735,\n",
       "        -0.0196,  0.0475,  0.0076, -0.0299, -0.0306,  0.006 , -0.0052,\n",
       "         0.0372, -0.0098, -0.0491,  0.0533,  0.024 , -0.0081, -0.0038,\n",
       "        -0.0147, -0.0755,  0.0045,  0.0391, -0.1165,  0.0408,  0.0614,\n",
       "         0.0237,  0.0011, -0.036 ,  0.0263, -0.0504,  0.0397, -0.0227,\n",
       "        -0.0109,  0.0257,  0.0201,  0.0568,  0.0444, -0.0168, -0.0269,\n",
       "        -0.0255, -0.0092,  0.0304,  0.0569, -0.0409,  0.011 , -0.0565,\n",
       "         0.0043, -0.016 , -0.0219, -0.0111,  0.0115, -0.0201, -0.0305,\n",
       "         0.0094,  0.0303, -0.025 ,  0.0178,  0.0336,  0.0047, -0.0071,\n",
       "         0.0075,  0.0158,  0.0437,  0.0078, -0.0371,  0.0106, -0.069 ,\n",
       "         0.0075, -0.0289,  0.0361,  0.0043,  0.0329, -0.0115, -0.0003,\n",
       "        -0.0421, -0.013 ,  0.0227,  0.0041,  0.02  , -0.03  , -0.0641,\n",
       "        -0.0317,  0.0017,  0.012 ,  0.0255, -0.0395,  0.0499, -0.0255,\n",
       "        -0.0543,  0.0646, -0.0334,  0.003 ,  0.0376, -0.0005,  0.0151,\n",
       "         0.02  ,  0.012 ,  0.0312,  0.0033,  0.0277,  0.0315,  0.0049,\n",
       "         0.0051, -0.0351,  0.0283, -0.0411,  0.0093,  0.0131,  0.0005,\n",
       "         0.0304,  0.0156,  0.0036, -0.0406, -0.0109,  0.0277, -0.056 ,\n",
       "        -0.0051, -0.0315, -0.0024, -0.0023,  0.0457, -0.0022,  0.0176,\n",
       "        -0.0111, -0.0391, -0.0025,  0.0024, -0.0154, -0.0534,  0.0285,\n",
       "        -0.0542,  0.0681,  0.0037, -0.0333, -0.0704, -0.0215,  0.0192,\n",
       "        -0.0016,  0.0246,  0.0292,  0.0107,  0.0395,  0.0841, -0.0035,\n",
       "        -0.0163,  0.038 , -0.0136,  0.0185,  0.0228, -0.0288,  0.0416,\n",
       "        -0.0132,  0.0327, -0.0573, -0.0234, -0.0364, -0.0339,  0.0299,\n",
       "         0.0359,  0.0087,  0.004 ,  0.0224, -0.011 , -0.0333,  0.039 ,\n",
       "         0.0178,  0.0406,  0.0259,  0.0415,  0.0208,  0.0184,  0.009 ,\n",
       "         0.0688,  0.032 , -0.0619,  0.0326,  0.0523, -0.033 , -0.025 ,\n",
       "        -0.05  ,  0.0103, -0.0234, -0.0109, -0.0461, -0.0016, -0.0199,\n",
       "        -0.0055, -0.0175, -0.0178,  0.0161, -0.0518, -0.0342,  0.0019,\n",
       "        -0.0283, -0.0044, -0.04  ,  0.0087,  0.0006,  0.0161, -0.005 ,\n",
       "        -0.0502,  0.0271, -0.0316,  0.0181,  0.0054,  0.0345,  0.0082,\n",
       "         0.0305, -0.0031, -0.0474,  0.0217, -0.0101,  0.0574,  0.0651,\n",
       "        -0.023 , -0.0033,  0.0088,  0.0315, -0.0065, -0.0007],\n",
       "       dtype=float32))"
      ]
     },
     "execution_count": 64,
     "metadata": {
      "tags": []
     },
     "output_type": "execute_result"
    }
   ],
   "source": [
    "embedding_temp[7]"
   ]
  },
  {
   "cell_type": "code",
   "execution_count": 0,
   "metadata": {
    "colab": {},
    "colab_type": "code",
    "collapsed": true,
    "id": "g3M9gezRNfw3"
   },
   "outputs": [],
   "source": [
    "tf_feature_dict = {}\n",
    "for i,x in enumerate(embedding_temp):\n",
    "  tf_feature_dict[x[0]] = i+1"
   ]
  },
  {
   "cell_type": "code",
   "execution_count": 0,
   "metadata": {
    "colab": {},
    "colab_type": "code",
    "collapsed": true,
    "id": "nSl5_YSBOmAQ"
   },
   "outputs": [],
   "source": [
    "embedding_weights = np.zeros((len(tf_feature_dict)+1,300))\n",
    "for i,x in enumerate(embedding_temp):\n",
    "  embedding_weights[i+1,:] = x[1]"
   ]
  },
  {
   "cell_type": "code",
   "execution_count": 0,
   "metadata": {
    "colab": {
     "base_uri": "https://localhost:8080/",
     "height": 34
    },
    "colab_type": "code",
    "id": "mjs_rb2WOx90",
    "outputId": "8ad86076-8d52-436f-d0c0-f098ca8b0e78"
   },
   "outputs": [
    {
     "data": {
      "text/plain": [
       "(12194, 300)"
      ]
     },
     "execution_count": 71,
     "metadata": {
      "tags": []
     },
     "output_type": "execute_result"
    }
   ],
   "source": [
    "embedding_weights.shape"
   ]
  },
  {
   "cell_type": "code",
   "execution_count": 0,
   "metadata": {
    "colab": {},
    "colab_type": "code",
    "collapsed": true,
    "id": "Lzqzwkv7S5lG"
   },
   "outputs": [],
   "source": [
    "import pickle\n",
    "#with open(\"Dataset/arxiv/embed_weights.pickle\",\"wb\") as file:\n",
    "#  pickle.dump((tf_feature_dict,embedding_weights),file)\n",
    "with open(\"Dataset/arxiv/embed_weights.pickle\",\"rb\") as file:\n",
    "  (tf_feature_dict,embedding_weights) = pickle.load(file)"
   ]
  },
  {
   "cell_type": "code",
   "execution_count": 0,
   "metadata": {
    "colab": {
     "base_uri": "https://localhost:8080/",
     "height": 34
    },
    "colab_type": "code",
    "id": "HNuqtyJYjy47",
    "outputId": "cf506eb2-3ab5-421a-fcc1-b35c1e4b9076"
   },
   "outputs": [
    {
     "name": "stdout",
     "output_type": "stream",
     "text": [
      "0 10000 20000 30000 40000 50000 60000 70000 80000 90000 100000 110000 120000 130000 140000 150000 160000 170000 180000 190000 200000 "
     ]
    }
   ],
   "source": [
    "max = 150\n",
    "for i,x in enumerate(abs_noun_title.values):  \n",
    "  #if i < 64470:\n",
    "  #  continue\n",
    "  if i % 10000 == 0:\n",
    "    print(i,end=\" \")\n",
    "  x = x.split(\" \")\n",
    "  len_x = len(x) if len(x) < 150 else 150\n",
    "  #print(len_x)\n",
    "  feat_x = []\n",
    "  for my_x in x[:len_x]:\n",
    "    if len(my_x) > 0:\n",
    "      try:\n",
    "        feat_x.append(tf_feature_dict[my_x])\n",
    "      except:\n",
    "        pass\n",
    "        #feat_x.append(0)\n",
    "      #if my_x in tf_feature_names:\n",
    "      #  feat_x.append(tf_feature_names.index(my_x))\n",
    "      #else:\n",
    "      #  feat_x.append(0)\n",
    "  #print(feat_x)\n",
    "  if len(feat_x) > 0:\n",
    "    my_l_matrix[i,-len(feat_x):] = feat_x\n",
    "  #print(seq_matrix[i])\n",
    "  #break"
   ]
  },
  {
   "cell_type": "code",
   "execution_count": 0,
   "metadata": {
    "colab": {
     "base_uri": "https://localhost:8080/",
     "height": 34
    },
    "colab_type": "code",
    "id": "YoDRqSx74Kxm",
    "outputId": "9960e0d6-2a4e-473b-ac58-4857fdb62016"
   },
   "outputs": [
    {
     "name": "stdout",
     "output_type": "stream",
     "text": [
      "0 10000 20000 30000 "
     ]
    }
   ],
   "source": [
    "max = 150\n",
    "for i,x in enumerate(abs_noun_title_test.values):  \n",
    "  #if i < 64470:\n",
    "  #  continue\n",
    "  if i % 10000 == 0:\n",
    "    print(i,end=\" \")\n",
    "  x = x.split(\" \")\n",
    "  len_x = len(x) if len(x) < 150 else 150\n",
    "  #print(len_x)\n",
    "  feat_x = []\n",
    "  for my_x in x[:len_x]:\n",
    "    if len(my_x) > 0:\n",
    "      try:\n",
    "        feat_x.append(tf_feature_dict[my_x])\n",
    "      except:\n",
    "        #feat_x.append(0)\n",
    "        pass\n",
    "      #if my_x in tf_feature_names:\n",
    "      #  feat_x.append(tf_feature_names.index(my_x))\n",
    "      #else:\n",
    "      #  feat_x.append(0)\n",
    "  #print(feat_x)\n",
    "  if len(feat_x) > 0:\n",
    "    my_test_matrix[i,-len(feat_x):] = feat_x\n",
    "  #print(seq_matrix[i])\n",
    "  #break"
   ]
  },
  {
   "cell_type": "code",
   "execution_count": 0,
   "metadata": {
    "colab": {
     "base_uri": "https://localhost:8080/",
     "height": 105
    },
    "colab_type": "code",
    "id": "vW4GBlGQzrCW",
    "outputId": "7aa29fb4-c221-482b-af5a-b0f6667400db"
   },
   "outputs": [
    {
     "data": {
      "text/plain": [
       "array(['analogues families numbers author terms macdonald functions properties paper formulas well macdonald functions coefficients bracket function catalan numbers ',\n",
       "       'symmetry density matrix renormalization group sdmrg technique method eigenstates systems method bottlenecks construction symmetry basis states symmetry matrices basis algorithm bottleneck method interchange symmetry hole symmetry parity symmetry calculations correspondence basis states dmrg space symmetry operations symmetry matrices basis sparseness matrix element methods diagonalization technique models eighties basis states step orthonormalization procedure method model correlations state spectrum coronene coronene ovalene polyenes correlation parameters model ordering states systems correlation parameters orbitals model ordering states systems importance topology term model molecules detail properties states molecules ',\n",
       "       'radio properties galaxies lines fhils sloan survey sample proportion range galaxies redshift distributions gelbord array survey images radio detection rate detection rate galaxy samples galaxies star formation rates radio emission nucleus contribution emission none show evidence beaming radio detection rate distributions radio power correlations radio power line luminosities luminosity seyfert galaxies predictions scheme hypothesis correlation radio luminosities sample sources ionization stratification clouds scales  depths clouds absorption radio emission core hence radio detection rate seyfert galaxies '],\n",
       "      dtype=object)"
      ]
     },
     "execution_count": 36,
     "metadata": {
      "tags": []
     },
     "output_type": "execute_result"
    }
   ],
   "source": [
    "abs_noun_sent.iloc[:3].values"
   ]
  },
  {
   "cell_type": "code",
   "execution_count": 0,
   "metadata": {
    "colab": {
     "base_uri": "https://localhost:8080/",
     "height": 105
    },
    "colab_type": "code",
    "id": "TupzcQBfzde7",
    "outputId": "52da93b4-0242-4e2d-c490-e57e8a5c0b21"
   },
   "outputs": [
    {
     "data": {
      "text/plain": [
       "array([list([9945, 8122, 10030, 9177, 12033, 1505, 2695, 1492, 1505, 8616, 9498, 5198, 3602, 7695, 992, 8122, 2571, 5198, 3602, 9606, 9023, 9034, 9870, 1505]),\n",
       "       list([10313, 11720, 9648, 4176, 1515, 5994, 12002, 2295, 4447, 10563, 12110, 5114, 11966, 1123, 4299, 9987, 6445, 4299, 9793, 5278, 4447, 8739, 1515, 4447, 1227, 8739, 9648, 9899, 4299, 10164, 4447, 6626, 4447, 10036, 4447, 10411, 479, 8739, 1515, 4673, 4447, 7393, 4447, 1227, 8739, 11687, 12110, 11279, 455, 11395, 1123, 5026, 8739, 1515, 11625, 8551, 4299, 11590, 10728, 308, 11071, 11134, 3524, 11590, 8036, 1515, 6445, 11134, 3524, 1622, 11590, 8036, 1515, 6445, 10977, 8830, 8502, 11590, 9968, 11410, 7695, 1515, 9968]),\n",
       "       list([1846, 6234, 10839, 5989, 10937, 6340, 10965, 10292, 5257, 8031, 7695, 6234, 5989, 2582, 10292, 6037, 7236, 6177, 6234, 4696, 9137, 10965, 10292, 5257, 8031, 6948, 8245, 6948, 8245, 4610, 1839, 6234, 5335, 10717, 1302, 8031, 6566, 715, 7977, 6566, 8599, 11586, 9541, 6357, 8031, 6948, 8245, 9137, 8031, 5264, 10728, 8031, 5264, 7557, 3951, 11188, 6234, 4492, 11597, 4032, 11134, 8031, 3951, 6037, 10104, 10174, 8905, 6256, 2744, 4515, 6256, 7576, 8031, 6566, 10047, 9324, 8031, 6948, 8245, 6234])],\n",
       "      dtype=object)"
      ]
     },
     "execution_count": 37,
     "metadata": {
      "tags": []
     },
     "output_type": "execute_result"
    }
   ],
   "source": [
    "my_l_matrix[:3,].data"
   ]
  },
  {
   "cell_type": "code",
   "execution_count": 0,
   "metadata": {
    "colab": {
     "base_uri": "https://localhost:8080/",
     "height": 34
    },
    "colab_type": "code",
    "id": "Cmo3KepjQQSL",
    "outputId": "60d14d7e-f114-4000-e86b-e0e5d88e65aa"
   },
   "outputs": [
    {
     "data": {
      "text/plain": [
       "(37125, 150)"
      ]
     },
     "execution_count": 43,
     "metadata": {
      "tags": []
     },
     "output_type": "execute_result"
    }
   ],
   "source": [
    "my_test_matrix.shape"
   ]
  },
  {
   "cell_type": "code",
   "execution_count": 0,
   "metadata": {
    "colab": {
     "base_uri": "https://localhost:8080/",
     "height": 102
    },
    "colab_type": "code",
    "id": "mDHfKZDYMtng",
    "outputId": "d935359e-7b15-4385-d43e-557825ff6ad8"
   },
   "outputs": [
    {
     "name": "stdout",
     "output_type": "stream",
     "text": [
      "Requirement already satisfied: tflearn in /usr/local/lib/python3.6/dist-packages (0.3.2)\n",
      "Requirement already satisfied: Pillow in /usr/local/lib/python3.6/dist-packages (from tflearn) (4.0.0)\n",
      "Requirement already satisfied: six in /usr/local/lib/python3.6/dist-packages (from tflearn) (1.11.0)\n",
      "Requirement already satisfied: numpy in /usr/local/lib/python3.6/dist-packages (from tflearn) (1.14.6)\n",
      "Requirement already satisfied: olefile in /usr/local/lib/python3.6/dist-packages (from Pillow->tflearn) (0.46)\n"
     ]
    }
   ],
   "source": [
    "!pip install tflearn"
   ]
  },
  {
   "cell_type": "code",
   "execution_count": 0,
   "metadata": {
    "colab": {},
    "colab_type": "code",
    "collapsed": true,
    "id": "HvnICvaZKYWt"
   },
   "outputs": [],
   "source": [
    "import keras\n",
    "from keras.models import Sequential\n",
    "from keras.layers import Dense\n",
    "from keras.layers import LSTM\n",
    "from keras.layers import Bidirectional\n",
    "from keras.layers import TimeDistributed\n",
    "from keras.layers import Flatten\n",
    "from keras.layers.convolutional import Conv1D\n",
    "from keras.layers.convolutional import MaxPooling1D\n",
    "from keras.layers.embeddings import Embedding\n",
    "from keras.preprocessing import sequence\n",
    "from tflearn.data_utils import to_categorical, pad_sequences\n",
    "from keras.models import Model\n"
   ]
  },
  {
   "cell_type": "code",
   "execution_count": 0,
   "metadata": {
    "colab": {},
    "colab_type": "code",
    "collapsed": true,
    "id": "Ugw1veqHRDGZ"
   },
   "outputs": [],
   "source": [
    "y_train_label = pd_train.cats.apply(lambda x: x.split(\"|\")[0])"
   ]
  },
  {
   "cell_type": "code",
   "execution_count": 0,
   "metadata": {
    "colab": {
     "base_uri": "https://localhost:8080/",
     "height": 34
    },
    "colab_type": "code",
    "id": "1Hcziddq9W7U",
    "outputId": "5c04aebe-1203-410c-98bc-9b8e4ad1cdf1"
   },
   "outputs": [
    {
     "data": {
      "text/plain": [
       "(200092, 10)"
      ]
     },
     "execution_count": 47,
     "metadata": {
      "tags": []
     },
     "output_type": "execute_result"
    }
   ],
   "source": [
    "pd_train.shape"
   ]
  },
  {
   "cell_type": "code",
   "execution_count": 0,
   "metadata": {
    "colab": {},
    "colab_type": "code",
    "collapsed": true,
    "id": "xJLQukrCRayi"
   },
   "outputs": [],
   "source": [
    "y_train_label_l = list(y_train_label.unique())"
   ]
  },
  {
   "cell_type": "code",
   "execution_count": 0,
   "metadata": {
    "colab": {},
    "colab_type": "code",
    "collapsed": true,
    "id": "5d4nizj7RBuK"
   },
   "outputs": [],
   "source": [
    "y_train_class = y_train_label.apply(lambda x:y_train_label_l.index(x))"
   ]
  },
  {
   "cell_type": "code",
   "execution_count": 0,
   "metadata": {
    "colab": {},
    "colab_type": "code",
    "collapsed": true,
    "id": "Lva4ypMN0_1-"
   },
   "outputs": [],
   "source": [
    "from keras.layers import Input\n",
    "from keras.layers import Dropout\n",
    "sequence_input = Input(shape=(max,), dtype='int32',name=\"input\")\n",
    "embedded_sequences = Embedding(input_dim=len(tf_feature_dict)+1,output_dim=300,weights=[embedding_weights],name=\"embedding\",trainable=False)(sequence_input)\n",
    "dropout1 = Dropout(0.3,name=\"dropout1\")(embedded_sequences)\n",
    "l_cov1= Conv1D(256, 5, activation='tanh',name=\"conv1\")(dropout1)\n",
    "l_pool1 = MaxPooling1D(3,name=\"pool1\")(l_cov1)\n",
    "dropout2 = Dropout(0.3,name=\"dropout2\")(l_pool1)\n",
    "l_cov2 = Conv1D(256, 3, activation='tanh',name=\"cov2\")(dropout2)\n",
    "#l_cov3 = Conv1D(512, 2, activation='relu',name=\"cov3\")(l_cov2)\n",
    "l_pool2 = MaxPooling1D(2,name=\"pool2\")(l_cov2)\n",
    "dropout3 = Dropout(0.2,name=\"dropout4\")(l_pool2)\n",
    "l_flat = Flatten(name=\"flatten\")(dropout3)\n",
    "l_dense1 = Dense(512, activation='relu',name=\"dense1\")(l_flat)\n",
    "dropout4 = Dropout(0.2,name=\"dropout5\")(l_dense1)\n",
    "l_dense2 = Dense(256, activation='relu',name=\"dense2\")(dropout4)\n",
    "preds = Dense(len(y_train_label_l), activation='softmax',name=\"output\")(l_dense2)"
   ]
  },
  {
   "cell_type": "code",
   "execution_count": 0,
   "metadata": {
    "colab": {
     "base_uri": "https://localhost:8080/",
     "height": 51
    },
    "colab_type": "code",
    "id": "JFpFEz8O2eDd",
    "outputId": "8b78e04f-e0ec-4f80-dcce-909730050a3c"
   },
   "outputs": [
    {
     "name": "stderr",
     "output_type": "stream",
     "text": [
      "/usr/local/lib/python3.6/dist-packages/ipykernel_launcher.py:1: UserWarning: Update your `Model` call to the Keras 2 API: `Model(inputs=Tensor(\"in..., outputs=Tensor(\"ou...)`\n",
      "  \"\"\"Entry point for launching an IPython kernel.\n"
     ]
    }
   ],
   "source": [
    "model = Model(input=sequence_input, output=preds)\n",
    "\n",
    "model.compile(loss='categorical_crossentropy', optimizer='adam',\n",
    "              metrics=['accuracy'])"
   ]
  },
  {
   "cell_type": "code",
   "execution_count": 0,
   "metadata": {
    "colab": {
     "base_uri": "https://localhost:8080/",
     "height": 612
    },
    "colab_type": "code",
    "id": "2agosRur3Y9D",
    "outputId": "28e5574e-583d-4660-d323-a695bafbdd43"
   },
   "outputs": [
    {
     "name": "stdout",
     "output_type": "stream",
     "text": [
      "_________________________________________________________________\n",
      "Layer (type)                 Output Shape              Param #   \n",
      "=================================================================\n",
      "input (InputLayer)           (None, 150)               0         \n",
      "_________________________________________________________________\n",
      "embedding (Embedding)        (None, 150, 300)          3658200   \n",
      "_________________________________________________________________\n",
      "dropout1 (Dropout)           (None, 150, 300)          0         \n",
      "_________________________________________________________________\n",
      "conv1 (Conv1D)               (None, 146, 256)          384256    \n",
      "_________________________________________________________________\n",
      "pool1 (MaxPooling1D)         (None, 48, 256)           0         \n",
      "_________________________________________________________________\n",
      "dropout2 (Dropout)           (None, 48, 256)           0         \n",
      "_________________________________________________________________\n",
      "cov2 (Conv1D)                (None, 46, 256)           196864    \n",
      "_________________________________________________________________\n",
      "pool2 (MaxPooling1D)         (None, 23, 256)           0         \n",
      "_________________________________________________________________\n",
      "dropout4 (Dropout)           (None, 23, 256)           0         \n",
      "_________________________________________________________________\n",
      "flatten (Flatten)            (None, 5888)              0         \n",
      "_________________________________________________________________\n",
      "dense1 (Dense)               (None, 512)               3015168   \n",
      "_________________________________________________________________\n",
      "dropout5 (Dropout)           (None, 512)               0         \n",
      "_________________________________________________________________\n",
      "dense2 (Dense)               (None, 256)               131328    \n",
      "_________________________________________________________________\n",
      "output (Dense)               (None, 20)                5140      \n",
      "=================================================================\n",
      "Total params: 7,390,956\n",
      "Trainable params: 3,732,756\n",
      "Non-trainable params: 3,658,200\n",
      "_________________________________________________________________\n"
     ]
    }
   ],
   "source": [
    "model.summary()"
   ]
  },
  {
   "cell_type": "code",
   "execution_count": 0,
   "metadata": {
    "colab": {},
    "colab_type": "code",
    "collapsed": true,
    "id": "1adqr2VgzcK8"
   },
   "outputs": [],
   "source": [
    "from keras.models import load_model"
   ]
  },
  {
   "cell_type": "code",
   "execution_count": 0,
   "metadata": {
    "colab": {},
    "colab_type": "code",
    "collapsed": true,
    "id": "5msjhvTrzuq6"
   },
   "outputs": [],
   "source": [
    "model = load_model(\"Dataset/arxiv/nn-model-conv-embed-b9.h5\")"
   ]
  },
  {
   "cell_type": "code",
   "execution_count": 0,
   "metadata": {
    "colab": {},
    "colab_type": "code",
    "collapsed": true,
    "id": "fUfLbtA0XAJm"
   },
   "outputs": [],
   "source": [
    "y_test_class = pd_test.cats.apply(lambda x: x.split(\"|\")[0]).apply(lambda x:y_train_label_l.index(x))"
   ]
  },
  {
   "cell_type": "code",
   "execution_count": 0,
   "metadata": {
    "colab": {},
    "colab_type": "code",
    "collapsed": true,
    "id": "QnOi90KLYKge"
   },
   "outputs": [],
   "source": [
    "y_test_one_hot = to_categorical(y_test_class.values,20)"
   ]
  },
  {
   "cell_type": "code",
   "execution_count": 0,
   "metadata": {
    "colab": {
     "base_uri": "https://localhost:8080/",
     "height": 510
    },
    "colab_type": "code",
    "id": "VxTJNLNz0NVt",
    "outputId": "807a34f3-0650-4ada-8bcb-303efffb5963"
   },
   "outputs": [
    {
     "name": "stdout",
     "output_type": "stream",
     "text": [
      "accuracy: 0.7916228956228957\n",
      "kappa: 0.7543214643472373\n",
      "             precision    recall  f1-score   support\n",
      "\n",
      "       math       0.84      0.90      0.87      9054\n",
      "    physics       0.64      0.58      0.61      3187\n",
      "   astro-ph       0.94      0.90      0.92      3980\n",
      "      gr-qc       0.63      0.64      0.64       798\n",
      "     hep-th       0.72      0.55      0.62      1065\n",
      "    nucl-th       0.60      0.51      0.55       379\n",
      "       stat       0.63      0.50      0.56      1204\n",
      "   cond-mat       0.80      0.86      0.83      4324\n",
      "         cs       0.84      0.87      0.86      8125\n",
      "     hep-ph       0.76      0.80      0.78      1354\n",
      "    nucl-ex       0.34      0.50      0.40       132\n",
      "      q-fin       0.54      0.68      0.60       214\n",
      "   quant-ph       0.69      0.74      0.72      1498\n",
      "    math-ph       0.34      0.07      0.12       442\n",
      "       nlin       0.53      0.26      0.35       261\n",
      "      q-bio       0.59      0.50      0.54       504\n",
      "     hep-ex       0.64      0.65      0.65       263\n",
      "    hep-lat       0.62      0.73      0.67       195\n",
      "       econ       0.00      0.00      0.00        17\n",
      "       eess       0.00      0.00      0.00       129\n",
      "\n",
      "avg / total       0.78      0.79      0.78     37125\n",
      "\n"
     ]
    },
    {
     "name": "stderr",
     "output_type": "stream",
     "text": [
      "/usr/local/lib/python3.6/dist-packages/sklearn/metrics/classification.py:1135: UndefinedMetricWarning: Precision and F-score are ill-defined and being set to 0.0 in labels with no predicted samples.\n",
      "  'precision', 'predicted', average, warn_for)\n"
     ]
    }
   ],
   "source": [
    "import numpy as np\n",
    "y_pred = np.argmax(model.predict(my_test_matrix),axis=1)\n",
    "from sklearn.metrics import classification_report,accuracy_score,cohen_kappa_score\n",
    "acc = accuracy_score(y_test_class,y_pred)\n",
    "kap = cohen_kappa_score(y_test_class,y_pred)\n",
    "print(\"accuracy:\",acc)\n",
    "print(\"kappa:\",kap)\n",
    "print(classification_report(y_test_class,y_pred,target_names=y_train_label_l))"
   ]
  },
  {
   "cell_type": "code",
   "execution_count": 0,
   "metadata": {
    "colab": {
     "base_uri": "https://localhost:8080/",
     "height": 4216
    },
    "colab_type": "code",
    "id": "NGMK2ht7T9-F",
    "outputId": "c40849dd-6485-4ee8-e4e5-3a05fcdbf588"
   },
   "outputs": [
    {
     "name": "stdout",
     "output_type": "stream",
     "text": [
      "Epoch 1/1\n",
      "18195/18195 [==============================] - 11s 611us/step - loss: 1.3728 - acc: 0.5927\n",
      "Epoch 1/1\n",
      "18195/18195 [==============================] - 6s 339us/step - loss: 0.9528 - acc: 0.7079\n",
      "Epoch 1/1\n",
      "18195/18195 [==============================] - 6s 335us/step - loss: 0.8924 - acc: 0.7198\n",
      "Epoch 1/1\n",
      "18195/18195 [==============================] - 6s 338us/step - loss: 0.8495 - acc: 0.7294\n",
      "Epoch 1/1\n",
      "18193/18193 [==============================] - 7s 378us/step - loss: 0.8286 - acc: 0.7370\n",
      "Epoch 1/1\n",
      "18191/18191 [==============================] - 7s 376us/step - loss: 0.8204 - acc: 0.7366\n",
      "Epoch 1/1\n",
      "18190/18190 [==============================] - 7s 376us/step - loss: 0.7978 - acc: 0.7462\n",
      "Epoch 1/1\n",
      "18190/18190 [==============================] - 6s 342us/step - loss: 0.7862 - acc: 0.7482\n",
      "Epoch 1/1\n",
      "18188/18188 [==============================] - 7s 380us/step - loss: 0.7847 - acc: 0.7484\n",
      "Epoch 1/1\n",
      "18182/18182 [==============================] - 7s 379us/step - loss: 0.7780 - acc: 0.7526\n",
      "Epoch 1/1\n",
      "18178/18178 [==============================] - 7s 379us/step - loss: 0.7666 - acc: 0.7532\n",
      "accuracy: 0.7607542087542087\n",
      "kappa: 0.7168827356997155\n",
      "             precision    recall  f1-score   support\n",
      "\n",
      "          0       0.78      0.91      0.84      9054\n",
      "          1       0.65      0.44      0.52      3187\n",
      "          2       0.93      0.89      0.91      3980\n",
      "          3       0.58      0.40      0.47       798\n",
      "          4       0.48      0.74      0.58      1065\n",
      "          5       0.43      0.51      0.46       379\n",
      "          6       0.69      0.37      0.48      1204\n",
      "          7       0.76      0.85      0.80      4324\n",
      "          8       0.84      0.84      0.84      8125\n",
      "          9       0.68      0.78      0.73      1354\n",
      "         10       0.30      0.27      0.29       132\n",
      "         11       0.59      0.54      0.57       214\n",
      "         12       0.74      0.67      0.70      1498\n",
      "         13       0.34      0.07      0.11       442\n",
      "         14       0.48      0.27      0.35       261\n",
      "         15       0.57      0.53      0.55       504\n",
      "         16       0.84      0.28      0.42       263\n",
      "         17       0.65      0.53      0.58       195\n",
      "         18       0.00      0.00      0.00        17\n",
      "         19       0.00      0.00      0.00       129\n",
      "\n",
      "avg / total       0.75      0.76      0.75     37125\n",
      "\n"
     ]
    },
    {
     "name": "stderr",
     "output_type": "stream",
     "text": [
      "/usr/local/lib/python3.6/dist-packages/sklearn/metrics/classification.py:1135: UndefinedMetricWarning: Precision and F-score are ill-defined and being set to 0.0 in labels with no predicted samples.\n",
      "  'precision', 'predicted', average, warn_for)\n"
     ]
    },
    {
     "name": "stdout",
     "output_type": "stream",
     "text": [
      "Epoch 1/1\n",
      "18195/18195 [==============================] - 6s 343us/step - loss: 0.7626 - acc: 0.7538\n",
      "Epoch 1/1\n",
      "18195/18195 [==============================] - 6s 345us/step - loss: 0.7587 - acc: 0.7535\n",
      "Epoch 1/1\n",
      "18195/18195 [==============================] - 6s 337us/step - loss: 0.7533 - acc: 0.7544\n",
      "Epoch 1/1\n",
      "18195/18195 [==============================] - 6s 335us/step - loss: 0.7359 - acc: 0.7603\n",
      "Epoch 1/1\n",
      "18193/18193 [==============================] - 6s 339us/step - loss: 0.7280 - acc: 0.7633\n",
      "Epoch 1/1\n",
      "18191/18191 [==============================] - 6s 339us/step - loss: 0.7360 - acc: 0.7597\n",
      "Epoch 1/1\n",
      "18190/18190 [==============================] - 6s 339us/step - loss: 0.7197 - acc: 0.7673\n",
      "Epoch 1/1\n",
      "18190/18190 [==============================] - 6s 336us/step - loss: 0.7207 - acc: 0.7627\n",
      "Epoch 1/1\n",
      "18188/18188 [==============================] - 6s 341us/step - loss: 0.7194 - acc: 0.7646\n",
      "Epoch 1/1\n",
      "18182/18182 [==============================] - 6s 341us/step - loss: 0.7086 - acc: 0.7696\n",
      "Epoch 1/1\n",
      "18178/18178 [==============================] - 6s 338us/step - loss: 0.7054 - acc: 0.7693\n",
      "accuracy: 0.776\n",
      "kappa: 0.7346357522335529\n",
      "             precision    recall  f1-score   support\n",
      "\n",
      "          0       0.81      0.91      0.86      9054\n",
      "          1       0.71      0.41      0.52      3187\n",
      "          2       0.87      0.94      0.91      3980\n",
      "          3       0.55      0.63      0.59       798\n",
      "          4       0.60      0.61      0.61      1065\n",
      "          5       0.64      0.35      0.45       379\n",
      "          6       0.69      0.37      0.48      1204\n",
      "          7       0.76      0.87      0.82      4324\n",
      "          8       0.81      0.88      0.84      8125\n",
      "          9       0.78      0.75      0.76      1354\n",
      "         10       0.36      0.39      0.37       132\n",
      "         11       0.58      0.66      0.62       214\n",
      "         12       0.71      0.73      0.72      1498\n",
      "         13       0.32      0.09      0.14       442\n",
      "         14       0.56      0.25      0.34       261\n",
      "         15       0.59      0.47      0.53       504\n",
      "         16       0.72      0.57      0.64       263\n",
      "         17       0.65      0.61      0.63       195\n",
      "         18       0.00      0.00      0.00        17\n",
      "         19       0.00      0.00      0.00       129\n",
      "\n",
      "avg / total       0.76      0.78      0.76     37125\n",
      "\n",
      "Epoch 1/1\n",
      "18195/18195 [==============================] - 6s 340us/step - loss: 0.7046 - acc: 0.7709\n",
      "Epoch 1/1\n",
      "18195/18195 [==============================] - 6s 344us/step - loss: 0.7071 - acc: 0.7657\n",
      "Epoch 1/1\n",
      "18195/18195 [==============================] - 6s 338us/step - loss: 0.6942 - acc: 0.7709\n",
      "Epoch 1/1\n",
      "18195/18195 [==============================] - 6s 339us/step - loss: 0.6886 - acc: 0.7733\n",
      "Epoch 1/1\n",
      "18193/18193 [==============================] - 6s 338us/step - loss: 0.6757 - acc: 0.7788\n",
      "Epoch 1/1\n",
      "18191/18191 [==============================] - 6s 338us/step - loss: 0.6893 - acc: 0.7712\n",
      "Epoch 1/1\n",
      "18190/18190 [==============================] - 6s 340us/step - loss: 0.6721 - acc: 0.7813\n",
      "Epoch 1/1\n",
      "18190/18190 [==============================] - 6s 340us/step - loss: 0.6822 - acc: 0.7722\n",
      "Epoch 1/1\n",
      "18188/18188 [==============================] - 6s 340us/step - loss: 0.6768 - acc: 0.7816\n",
      "Epoch 1/1\n",
      "18182/18182 [==============================] - 6s 340us/step - loss: 0.6625 - acc: 0.7818\n",
      "Epoch 1/1\n",
      "18178/18178 [==============================] - 6s 339us/step - loss: 0.6695 - acc: 0.7819\n",
      "accuracy: 0.7758922558922559\n",
      "kappa: 0.7352732408766729\n",
      "             precision    recall  f1-score   support\n",
      "\n",
      "          0       0.81      0.91      0.86      9054\n",
      "          1       0.69      0.44      0.54      3187\n",
      "          2       0.93      0.90      0.92      3980\n",
      "          3       0.55      0.69      0.61       798\n",
      "          4       0.62      0.61      0.62      1065\n",
      "          5       0.57      0.51      0.54       379\n",
      "          6       0.62      0.45      0.52      1204\n",
      "          7       0.73      0.90      0.81      4324\n",
      "          8       0.84      0.85      0.84      8125\n",
      "          9       0.83      0.66      0.73      1354\n",
      "         10       0.38      0.39      0.38       132\n",
      "         11       0.70      0.52      0.60       214\n",
      "         12       0.71      0.69      0.70      1498\n",
      "         13       0.33      0.12      0.18       442\n",
      "         14       0.64      0.20      0.30       261\n",
      "         15       0.54      0.59      0.57       504\n",
      "         16       0.61      0.65      0.63       263\n",
      "         17       0.55      0.77      0.64       195\n",
      "         18       0.00      0.00      0.00        17\n",
      "         19       0.00      0.00      0.00       129\n",
      "\n",
      "avg / total       0.77      0.78      0.77     37125\n",
      "\n",
      "Epoch 1/1\n",
      "18195/18195 [==============================] - 6s 340us/step - loss: 0.6724 - acc: 0.7789\n",
      "Epoch 1/1\n",
      "18195/18195 [==============================] - 6s 342us/step - loss: 0.6674 - acc: 0.7779\n",
      "Epoch 1/1\n",
      "18195/18195 [==============================] - 6s 339us/step - loss: 0.6638 - acc: 0.7798\n",
      "Epoch 1/1\n",
      "18195/18195 [==============================] - 6s 338us/step - loss: 0.6651 - acc: 0.7818\n",
      "Epoch 1/1\n",
      "18193/18193 [==============================] - 6s 337us/step - loss: 0.6396 - acc: 0.7887\n",
      "Epoch 1/1\n",
      "18191/18191 [==============================] - 6s 338us/step - loss: 0.6522 - acc: 0.7866\n",
      "Epoch 1/1\n",
      "18190/18190 [==============================] - 6s 339us/step - loss: 0.6437 - acc: 0.7889\n",
      "Epoch 1/1\n",
      "18190/18190 [==============================] - 6s 341us/step - loss: 0.6512 - acc: 0.7800\n",
      "Epoch 1/1\n",
      "18188/18188 [==============================] - 6s 340us/step - loss: 0.6520 - acc: 0.7851\n",
      "Epoch 1/1\n",
      "18182/18182 [==============================] - 6s 342us/step - loss: 0.6469 - acc: 0.7883\n",
      "Epoch 1/1\n",
      "18178/18178 [==============================] - 6s 341us/step - loss: 0.6394 - acc: 0.7849\n",
      "accuracy: 0.7773468013468013\n",
      "kappa: 0.736904752395475\n",
      "             precision    recall  f1-score   support\n",
      "\n",
      "          0       0.77      0.94      0.84      9054\n",
      "          1       0.66      0.52      0.58      3187\n",
      "          2       0.93      0.91      0.92      3980\n",
      "          3       0.62      0.61      0.61       798\n",
      "          4       0.65      0.58      0.61      1065\n",
      "          5       0.55      0.55      0.55       379\n",
      "          6       0.60      0.50      0.54      1204\n",
      "          7       0.81      0.84      0.82      4324\n",
      "          8       0.87      0.80      0.83      8125\n",
      "          9       0.73      0.83      0.78      1354\n",
      "         10       0.41      0.16      0.23       132\n",
      "         11       0.65      0.59      0.62       214\n",
      "         12       0.70      0.74      0.72      1498\n",
      "         13       0.30      0.10      0.15       442\n",
      "         14       0.49      0.31      0.38       261\n",
      "         15       0.55      0.59      0.57       504\n",
      "         16       0.66      0.63      0.64       263\n",
      "         17       0.79      0.58      0.67       195\n",
      "         18       0.00      0.00      0.00        17\n",
      "         19       0.00      0.00      0.00       129\n",
      "\n",
      "avg / total       0.77      0.78      0.77     37125\n",
      "\n",
      "Epoch 1/1\n",
      "18195/18195 [==============================] - 6s 343us/step - loss: 0.6503 - acc: 0.7809\n",
      "Epoch 1/1\n",
      "18195/18195 [==============================] - 6s 342us/step - loss: 0.6420 - acc: 0.7863\n",
      "Epoch 1/1\n",
      "18195/18195 [==============================] - 6s 339us/step - loss: 0.6332 - acc: 0.7884\n",
      "Epoch 1/1\n",
      "18195/18195 [==============================] - 6s 340us/step - loss: 0.6302 - acc: 0.7892\n",
      "Epoch 1/1\n",
      "18193/18193 [==============================] - 6s 340us/step - loss: 0.6207 - acc: 0.7939\n",
      "Epoch 1/1\n",
      "18191/18191 [==============================] - 6s 339us/step - loss: 0.6270 - acc: 0.7877\n",
      "Epoch 1/1\n",
      "18190/18190 [==============================] - 6s 340us/step - loss: 0.6221 - acc: 0.7940\n",
      "Epoch 1/1\n",
      "18190/18190 [==============================] - 6s 342us/step - loss: 0.6279 - acc: 0.7892\n",
      "Epoch 1/1\n",
      "18188/18188 [==============================] - 6s 340us/step - loss: 0.6234 - acc: 0.7920\n",
      "Epoch 1/1\n",
      "18182/18182 [==============================] - 6s 340us/step - loss: 0.6261 - acc: 0.7911\n",
      "Epoch 1/1\n",
      "18178/18178 [==============================] - 6s 340us/step - loss: 0.6176 - acc: 0.7921\n",
      "accuracy: 0.7855353535353535\n",
      "kappa: 0.7473737851242318\n",
      "             precision    recall  f1-score   support\n",
      "\n",
      "          0       0.86      0.88      0.87      9054\n",
      "          1       0.70      0.47      0.56      3187\n",
      "          2       0.92      0.93      0.92      3980\n",
      "          3       0.64      0.55      0.59       798\n",
      "          4       0.65      0.59      0.62      1065\n",
      "          5       0.62      0.40      0.49       379\n",
      "          6       0.57      0.53      0.55      1204\n",
      "          7       0.78      0.87      0.82      4324\n",
      "          8       0.82      0.88      0.85      8125\n",
      "          9       0.68      0.86      0.76      1354\n",
      "         10       0.35      0.22      0.27       132\n",
      "         11       0.71      0.58      0.64       214\n",
      "         12       0.66      0.77      0.71      1498\n",
      "         13       0.41      0.09      0.14       442\n",
      "         14       0.69      0.15      0.25       261\n",
      "         15       0.52      0.62      0.56       504\n",
      "         16       0.55      0.73      0.63       263\n",
      "         17       0.82      0.50      0.62       195\n",
      "         18       0.00      0.00      0.00        17\n",
      "         19       0.00      0.00      0.00       129\n",
      "\n",
      "avg / total       0.78      0.79      0.77     37125\n",
      "\n"
     ]
    }
   ],
   "source": [
    "from sklearn.model_selection import train_test_split, StratifiedKFold\n",
    "\n",
    "import numpy as np\n",
    "mini_batch = 20000\n",
    "total_docs = my_l_matrix.shape[0]\n",
    "total_batch = int(my_l_matrix.shape[0]/mini_batch)+1\n",
    "#range_docs = range(0,total_docs)\n",
    "#range_docs = train\n",
    "\n",
    "\n",
    "for it in range(5):\n",
    "  k_sample = StratifiedKFold(n_splits=total_batch, shuffle=True, random_state=1).split(range(len(y_train_class.values)), y_train_class.values)\n",
    "  for batch in k_sample:\n",
    "      # random sample dataset\n",
    "      #r_index = random.sample(list(range_docs),mini_batch)\n",
    "      #r_index_start = mini_batch*batch\n",
    "      #r_index_end = mini_batch*(batch+1) if batch<total_batch-1 else total_docs\n",
    "      X_batch = my_l_matrix[batch[1],:]\n",
    "      #y_batch = dataset.iloc[r_index].subjects.apply(lambda x:labeling_subjects(x))\n",
    "      #y_batch = np.array([])\n",
    "      #for x in dataset.iloc[r_index].subjects:\n",
    "      #    y_batch = np.append(y_batch,labeling_subjects(x),axis=0)\n",
    "      #y_batch\n",
    "      #y_batch = y_batch.reshape(len(r_index),len(label_class))\n",
    "      y_batch = to_categorical(y_train_class[batch[1]].values,20)\n",
    "\n",
    "      model.fit(X_batch,y_batch,epochs=1,batch_size=200)\n",
    "  y_pred = np.argmax(model.predict(my_test_matrix),axis=1)\n",
    "  from sklearn.metrics import classification_report,accuracy_score,cohen_kappa_score\n",
    "  acc = accuracy_score(y_test_class,y_pred)\n",
    "  kap = cohen_kappa_score(y_test_class,y_pred)\n",
    "  print(\"accuracy:\",acc)\n",
    "  print(\"kappa:\",kap)\n",
    "  print(classification_report(y_test_class,y_pred,target_names=y_train_label_l))\n",
    "  model.save(\"Dataset/arxiv/nn-model-conv-embed-{}.h5\".format(it))"
   ]
  },
  {
   "cell_type": "code",
   "execution_count": 0,
   "metadata": {
    "colab": {
     "base_uri": "https://localhost:8080/",
     "height": 8381
    },
    "colab_type": "code",
    "id": "YEniH4sacHoK",
    "outputId": "8cc05edf-353e-4c99-8ad0-3c18f2841e5d"
   },
   "outputs": [
    {
     "name": "stdout",
     "output_type": "stream",
     "text": [
      "Epoch 1/1\n",
      "18195/18195 [==============================] - 6s 343us/step - loss: 0.6170 - acc: 0.7948\n",
      "Epoch 1/1\n",
      "18195/18195 [==============================] - 6s 340us/step - loss: 0.6204 - acc: 0.7902\n",
      "Epoch 1/1\n",
      "18195/18195 [==============================] - 6s 339us/step - loss: 0.6178 - acc: 0.7932\n",
      "Epoch 1/1\n",
      "18195/18195 [==============================] - 6s 339us/step - loss: 0.6052 - acc: 0.7948\n",
      "Epoch 1/1\n",
      "18193/18193 [==============================] - 6s 340us/step - loss: 0.6043 - acc: 0.7954\n",
      "Epoch 1/1\n",
      "18191/18191 [==============================] - 6s 337us/step - loss: 0.6175 - acc: 0.7900\n",
      "Epoch 1/1\n",
      "18190/18190 [==============================] - 6s 342us/step - loss: 0.6013 - acc: 0.7953\n",
      "Epoch 1/1\n",
      "18190/18190 [==============================] - 6s 340us/step - loss: 0.6085 - acc: 0.7920\n",
      "Epoch 1/1\n",
      "18188/18188 [==============================] - 6s 340us/step - loss: 0.6065 - acc: 0.7941\n",
      "Epoch 1/1\n",
      "18182/18182 [==============================] - 6s 341us/step - loss: 0.5995 - acc: 0.7972\n",
      "Epoch 1/1\n",
      "18178/18178 [==============================] - 6s 340us/step - loss: 0.5997 - acc: 0.7990\n",
      "accuracy: 0.787986531986532\n",
      "kappa: 0.7493350153488759\n",
      "             precision    recall  f1-score   support\n",
      "\n",
      "          0       0.81      0.91      0.86      9054\n",
      "          1       0.68      0.51      0.58      3187\n",
      "          2       0.92      0.93      0.92      3980\n",
      "          3       0.62      0.62      0.62       798\n",
      "          4       0.64      0.64      0.64      1065\n",
      "          5       0.62      0.44      0.52       379\n",
      "          6       0.69      0.39      0.50      1204\n",
      "          7       0.80      0.86      0.83      4324\n",
      "          8       0.83      0.87      0.85      8125\n",
      "          9       0.72      0.84      0.77      1354\n",
      "         10       0.46      0.22      0.30       132\n",
      "         11       0.60      0.67      0.63       214\n",
      "         12       0.73      0.71      0.72      1498\n",
      "         13       0.37      0.13      0.19       442\n",
      "         14       0.43      0.37      0.40       261\n",
      "         15       0.56      0.56      0.56       504\n",
      "         16       0.76      0.55      0.64       263\n",
      "         17       0.78      0.61      0.68       195\n",
      "         18       0.00      0.00      0.00        17\n",
      "         19       0.00      0.00      0.00       129\n",
      "\n",
      "avg / total       0.78      0.79      0.78     37125\n",
      "\n"
     ]
    },
    {
     "name": "stderr",
     "output_type": "stream",
     "text": [
      "/usr/local/lib/python3.6/dist-packages/sklearn/metrics/classification.py:1135: UndefinedMetricWarning: Precision and F-score are ill-defined and being set to 0.0 in labels with no predicted samples.\n",
      "  'precision', 'predicted', average, warn_for)\n"
     ]
    },
    {
     "name": "stdout",
     "output_type": "stream",
     "text": [
      "Epoch 1/1\n",
      "18195/18195 [==============================] - 6s 338us/step - loss: 0.6069 - acc: 0.7945\n",
      "Epoch 1/1\n",
      "18195/18195 [==============================] - 6s 336us/step - loss: 0.5962 - acc: 0.7968\n",
      "Epoch 1/1\n",
      "18195/18195 [==============================] - 6s 337us/step - loss: 0.5882 - acc: 0.7995\n",
      "Epoch 1/1\n",
      "18195/18195 [==============================] - 6s 339us/step - loss: 0.5873 - acc: 0.8038\n",
      "Epoch 1/1\n",
      "18193/18193 [==============================] - 6s 338us/step - loss: 0.5790 - acc: 0.8023\n",
      "Epoch 1/1\n",
      "18191/18191 [==============================] - 6s 339us/step - loss: 0.5992 - acc: 0.7975\n",
      "Epoch 1/1\n",
      "18190/18190 [==============================] - 6s 340us/step - loss: 0.5868 - acc: 0.8016\n",
      "Epoch 1/1\n",
      "18190/18190 [==============================] - 6s 337us/step - loss: 0.6006 - acc: 0.7946\n",
      "Epoch 1/1\n",
      "18188/18188 [==============================] - 6s 341us/step - loss: 0.5823 - acc: 0.8011\n",
      "Epoch 1/1\n",
      "18182/18182 [==============================] - 6s 342us/step - loss: 0.5816 - acc: 0.8046\n",
      "Epoch 1/1\n",
      "18178/18178 [==============================] - 6s 337us/step - loss: 0.5844 - acc: 0.8059\n",
      "accuracy: 0.7880942760942761\n",
      "kappa: 0.7505816236203905\n",
      "             precision    recall  f1-score   support\n",
      "\n",
      "          0       0.83      0.91      0.87      9054\n",
      "          1       0.69      0.51      0.59      3187\n",
      "          2       0.94      0.90      0.92      3980\n",
      "          3       0.53      0.78      0.63       798\n",
      "          4       0.59      0.64      0.61      1065\n",
      "          5       0.57      0.51      0.53       379\n",
      "          6       0.64      0.47      0.54      1204\n",
      "          7       0.80      0.87      0.83      4324\n",
      "          8       0.85      0.85      0.85      8125\n",
      "          9       0.78      0.75      0.77      1354\n",
      "         10       0.35      0.36      0.36       132\n",
      "         11       0.60      0.70      0.64       214\n",
      "         12       0.71      0.72      0.71      1498\n",
      "         13       0.40      0.19      0.26       442\n",
      "         14       0.45      0.40      0.42       261\n",
      "         15       0.58      0.57      0.57       504\n",
      "         16       0.57      0.71      0.63       263\n",
      "         17       0.75      0.63      0.69       195\n",
      "         18       0.00      0.00      0.00        17\n",
      "         19       0.00      0.00      0.00       129\n",
      "\n",
      "avg / total       0.78      0.79      0.78     37125\n",
      "\n",
      "Epoch 1/1\n",
      "18195/18195 [==============================] - 6s 339us/step - loss: 0.5842 - acc: 0.8010\n",
      "Epoch 1/1\n",
      "18195/18195 [==============================] - 6s 340us/step - loss: 0.5881 - acc: 0.7975\n",
      "Epoch 1/1\n",
      "18195/18195 [==============================] - 6s 338us/step - loss: 0.5854 - acc: 0.8002\n",
      "Epoch 1/1\n",
      "18195/18195 [==============================] - 6s 337us/step - loss: 0.5727 - acc: 0.8025\n",
      "Epoch 1/1\n",
      "18193/18193 [==============================] - 6s 337us/step - loss: 0.5714 - acc: 0.8086\n",
      "Epoch 1/1\n",
      "18191/18191 [==============================] - 6s 337us/step - loss: 0.5875 - acc: 0.8011\n",
      "Epoch 1/1\n",
      "18190/18190 [==============================] - 6s 341us/step - loss: 0.5716 - acc: 0.8053\n",
      "Epoch 1/1\n",
      "18190/18190 [==============================] - 6s 338us/step - loss: 0.5769 - acc: 0.8018\n",
      "Epoch 1/1\n",
      "18188/18188 [==============================] - 6s 340us/step - loss: 0.5705 - acc: 0.8044\n",
      "Epoch 1/1\n",
      "18182/18182 [==============================] - 6s 339us/step - loss: 0.5671 - acc: 0.8089\n",
      "Epoch 1/1\n",
      "18178/18178 [==============================] - 6s 340us/step - loss: 0.5700 - acc: 0.8063\n",
      "accuracy: 0.7855084175084175\n",
      "kappa: 0.7471512840505548\n",
      "             precision    recall  f1-score   support\n",
      "\n",
      "          0       0.83      0.90      0.86      9054\n",
      "          1       0.67      0.52      0.59      3187\n",
      "          2       0.92      0.92      0.92      3980\n",
      "          3       0.62      0.60      0.61       798\n",
      "          4       0.70      0.52      0.59      1065\n",
      "          5       0.60      0.48      0.54       379\n",
      "          6       0.60      0.51      0.55      1204\n",
      "          7       0.78      0.88      0.83      4324\n",
      "          8       0.84      0.86      0.85      8125\n",
      "          9       0.80      0.73      0.76      1354\n",
      "         10       0.32      0.45      0.38       132\n",
      "         11       0.49      0.76      0.59       214\n",
      "         12       0.66      0.77      0.71      1498\n",
      "         13       0.34      0.13      0.19       442\n",
      "         14       0.47      0.38      0.42       261\n",
      "         15       0.64      0.44      0.52       504\n",
      "         16       0.55      0.73      0.63       263\n",
      "         17       0.66      0.69      0.67       195\n",
      "         18       0.00      0.00      0.00        17\n",
      "         19       0.00      0.00      0.00       129\n",
      "\n",
      "avg / total       0.78      0.79      0.78     37125\n",
      "\n",
      "Epoch 1/1\n",
      "18195/18195 [==============================] - 6s 338us/step - loss: 0.5781 - acc: 0.8001\n",
      "Epoch 1/1\n",
      "18195/18195 [==============================] - 6s 341us/step - loss: 0.5727 - acc: 0.8026\n",
      "Epoch 1/1\n",
      "18195/18195 [==============================] - 6s 337us/step - loss: 0.5651 - acc: 0.8084\n",
      "Epoch 1/1\n",
      "18195/18195 [==============================] - 6s 339us/step - loss: 0.5634 - acc: 0.8075\n",
      "Epoch 1/1\n",
      "18193/18193 [==============================] - 6s 339us/step - loss: 0.5511 - acc: 0.8111\n",
      "Epoch 1/1\n",
      "18191/18191 [==============================] - 6s 342us/step - loss: 0.5623 - acc: 0.8061\n",
      "Epoch 1/1\n",
      "18190/18190 [==============================] - 6s 340us/step - loss: 0.5555 - acc: 0.8129\n",
      "Epoch 1/1\n",
      "18190/18190 [==============================] - 6s 342us/step - loss: 0.5641 - acc: 0.8049\n",
      "Epoch 1/1\n",
      "18188/18188 [==============================] - 6s 339us/step - loss: 0.5555 - acc: 0.8136\n",
      "Epoch 1/1\n",
      "18182/18182 [==============================] - 6s 340us/step - loss: 0.5489 - acc: 0.8134\n",
      "Epoch 1/1\n",
      "18178/18178 [==============================] - 6s 336us/step - loss: 0.5595 - acc: 0.8108\n",
      "accuracy: 0.7868552188552188\n",
      "kappa: 0.7489110095542888\n",
      "             precision    recall  f1-score   support\n",
      "\n",
      "          0       0.81      0.92      0.86      9054\n",
      "          1       0.68      0.54      0.60      3187\n",
      "          2       0.93      0.92      0.92      3980\n",
      "          3       0.60      0.66      0.63       798\n",
      "          4       0.61      0.69      0.64      1065\n",
      "          5       0.55      0.57      0.56       379\n",
      "          6       0.57      0.49      0.53      1204\n",
      "          7       0.81      0.86      0.83      4324\n",
      "          8       0.86      0.82      0.84      8125\n",
      "          9       0.78      0.77      0.78      1354\n",
      "         10       0.38      0.30      0.33       132\n",
      "         11       0.54      0.68      0.61       214\n",
      "         12       0.73      0.71      0.72      1498\n",
      "         13       0.35      0.12      0.18       442\n",
      "         14       0.52      0.36      0.43       261\n",
      "         15       0.59      0.54      0.57       504\n",
      "         16       0.55      0.74      0.63       263\n",
      "         17       0.77      0.63      0.69       195\n",
      "         18       0.00      0.00      0.00        17\n",
      "         19       0.00      0.00      0.00       129\n",
      "\n",
      "avg / total       0.78      0.79      0.78     37125\n",
      "\n",
      "Epoch 1/1\n",
      "18195/18195 [==============================] - 6s 339us/step - loss: 0.5602 - acc: 0.8087\n",
      "Epoch 1/1\n",
      "18195/18195 [==============================] - 6s 343us/step - loss: 0.5542 - acc: 0.8104\n",
      "Epoch 1/1\n",
      "18195/18195 [==============================] - 6s 339us/step - loss: 0.5509 - acc: 0.8095\n",
      "Epoch 1/1\n",
      "18195/18195 [==============================] - 6s 335us/step - loss: 0.5493 - acc: 0.8112\n",
      "Epoch 1/1\n",
      "18193/18193 [==============================] - 6s 337us/step - loss: 0.5410 - acc: 0.8133\n",
      "Epoch 1/1\n",
      "18191/18191 [==============================] - 6s 340us/step - loss: 0.5500 - acc: 0.8107\n",
      "Epoch 1/1\n",
      "18190/18190 [==============================] - 6s 340us/step - loss: 0.5519 - acc: 0.8118\n",
      "Epoch 1/1\n",
      "18190/18190 [==============================] - 6s 341us/step - loss: 0.5476 - acc: 0.8090\n",
      "Epoch 1/1\n",
      "18188/18188 [==============================] - 6s 341us/step - loss: 0.5497 - acc: 0.8148\n",
      "Epoch 1/1\n",
      "18182/18182 [==============================] - 6s 341us/step - loss: 0.5425 - acc: 0.8159\n",
      "Epoch 1/1\n",
      "18178/18178 [==============================] - 6s 339us/step - loss: 0.5430 - acc: 0.8138\n",
      "accuracy: 0.78596632996633\n",
      "kappa: 0.7486026284591096\n",
      "             precision    recall  f1-score   support\n",
      "\n",
      "          0       0.83      0.91      0.87      9054\n",
      "          1       0.71      0.50      0.58      3187\n",
      "          2       0.94      0.91      0.92      3980\n",
      "          3       0.60      0.72      0.65       798\n",
      "          4       0.64      0.64      0.64      1065\n",
      "          5       0.51      0.58      0.55       379\n",
      "          6       0.52      0.60      0.56      1204\n",
      "          7       0.79      0.87      0.83      4324\n",
      "          8       0.86      0.82      0.84      8125\n",
      "          9       0.75      0.81      0.78      1354\n",
      "         10       0.42      0.25      0.31       132\n",
      "         11       0.53      0.71      0.61       214\n",
      "         12       0.71      0.72      0.72      1498\n",
      "         13       0.38      0.10      0.16       442\n",
      "         14       0.54      0.31      0.39       261\n",
      "         15       0.52      0.64      0.57       504\n",
      "         16       0.64      0.68      0.66       263\n",
      "         17       0.66      0.71      0.68       195\n",
      "         18       0.00      0.00      0.00        17\n",
      "         19       0.00      0.00      0.00       129\n",
      "\n",
      "avg / total       0.78      0.79      0.78     37125\n",
      "\n",
      "Epoch 1/1\n",
      "18195/18195 [==============================] - 6s 335us/step - loss: 0.5472 - acc: 0.8106\n",
      "Epoch 1/1\n",
      "18195/18195 [==============================] - 6s 335us/step - loss: 0.5547 - acc: 0.8086\n",
      "Epoch 1/1\n",
      "18195/18195 [==============================] - 6s 336us/step - loss: 0.5416 - acc: 0.8110\n",
      "Epoch 1/1\n",
      "18195/18195 [==============================] - 6s 337us/step - loss: 0.5374 - acc: 0.8171\n",
      "Epoch 1/1\n",
      "18193/18193 [==============================] - 6s 337us/step - loss: 0.5282 - acc: 0.8168\n",
      "Epoch 1/1\n",
      "18191/18191 [==============================] - 6s 339us/step - loss: 0.5412 - acc: 0.8097\n",
      "Epoch 1/1\n",
      "18190/18190 [==============================] - 6s 340us/step - loss: 0.5370 - acc: 0.8191\n",
      "Epoch 1/1\n",
      "18190/18190 [==============================] - 6s 341us/step - loss: 0.5352 - acc: 0.8135\n",
      "Epoch 1/1\n",
      "18188/18188 [==============================] - 6s 340us/step - loss: 0.5357 - acc: 0.8159\n",
      "Epoch 1/1\n",
      "18182/18182 [==============================] - 6s 340us/step - loss: 0.5309 - acc: 0.8164\n",
      "Epoch 1/1\n",
      "18178/18178 [==============================] - 6s 337us/step - loss: 0.5340 - acc: 0.8160\n",
      "accuracy: 0.7880942760942761\n",
      "kappa: 0.7501954405850306\n",
      "             precision    recall  f1-score   support\n",
      "\n",
      "          0       0.81      0.92      0.86      9054\n",
      "          1       0.62      0.59      0.61      3187\n",
      "          2       0.93      0.92      0.92      3980\n",
      "          3       0.63      0.63      0.63       798\n",
      "          4       0.71      0.55      0.62      1065\n",
      "          5       0.53      0.58      0.55       379\n",
      "          6       0.58      0.56      0.57      1204\n",
      "          7       0.79      0.87      0.83      4324\n",
      "          8       0.87      0.83      0.85      8125\n",
      "          9       0.79      0.77      0.78      1354\n",
      "         10       0.42      0.31      0.36       132\n",
      "         11       0.67      0.59      0.63       214\n",
      "         12       0.74      0.70      0.72      1498\n",
      "         13       0.23      0.04      0.07       442\n",
      "         14       0.51      0.29      0.37       261\n",
      "         15       0.54      0.60      0.57       504\n",
      "         16       0.70      0.63      0.66       263\n",
      "         17       0.76      0.61      0.68       195\n",
      "         18       0.00      0.00      0.00        17\n",
      "         19       0.00      0.00      0.00       129\n",
      "\n",
      "avg / total       0.78      0.79      0.78     37125\n",
      "\n",
      "Epoch 1/1\n",
      "18195/18195 [==============================] - 6s 339us/step - loss: 0.5426 - acc: 0.8158\n",
      "Epoch 1/1\n",
      "18195/18195 [==============================] - 6s 342us/step - loss: 0.5362 - acc: 0.8137\n",
      "Epoch 1/1\n",
      "18195/18195 [==============================] - 6s 339us/step - loss: 0.5293 - acc: 0.8143\n",
      "Epoch 1/1\n",
      "18195/18195 [==============================] - 6s 339us/step - loss: 0.5231 - acc: 0.8194\n",
      "Epoch 1/1\n",
      "18193/18193 [==============================] - 6s 340us/step - loss: 0.5112 - acc: 0.8216\n",
      "Epoch 1/1\n",
      "18191/18191 [==============================] - 6s 340us/step - loss: 0.5318 - acc: 0.8166\n",
      "Epoch 1/1\n",
      "18190/18190 [==============================] - 6s 341us/step - loss: 0.5237 - acc: 0.8193\n",
      "Epoch 1/1\n",
      "18190/18190 [==============================] - 6s 339us/step - loss: 0.5324 - acc: 0.8135\n",
      "Epoch 1/1\n",
      "18188/18188 [==============================] - 6s 340us/step - loss: 0.5265 - acc: 0.8164\n",
      "Epoch 1/1\n",
      "18182/18182 [==============================] - 6s 337us/step - loss: 0.5277 - acc: 0.8184\n",
      "Epoch 1/1\n",
      "18178/18178 [==============================] - 6s 339us/step - loss: 0.5216 - acc: 0.8206\n",
      "accuracy: 0.7903030303030303\n",
      "kappa: 0.7525543096407565\n",
      "             precision    recall  f1-score   support\n",
      "\n",
      "          0       0.83      0.91      0.87      9054\n",
      "          1       0.65      0.56      0.60      3187\n",
      "          2       0.91      0.93      0.92      3980\n",
      "          3       0.60      0.71      0.65       798\n",
      "          4       0.71      0.57      0.63      1065\n",
      "          5       0.51      0.65      0.57       379\n",
      "          6       0.66      0.43      0.52      1204\n",
      "          7       0.80      0.87      0.83      4324\n",
      "          8       0.84      0.86      0.85      8125\n",
      "          9       0.81      0.72      0.76      1354\n",
      "         10       0.38      0.38      0.38       132\n",
      "         11       0.70      0.58      0.63       214\n",
      "         12       0.75      0.68      0.71      1498\n",
      "         13       0.33      0.10      0.15       442\n",
      "         14       0.43      0.37      0.40       261\n",
      "         15       0.59      0.54      0.56       504\n",
      "         16       0.64      0.65      0.64       263\n",
      "         17       0.58      0.76      0.66       195\n",
      "         18       0.00      0.00      0.00        17\n",
      "         19       0.00      0.00      0.00       129\n",
      "\n",
      "avg / total       0.78      0.79      0.78     37125\n",
      "\n",
      "Epoch 1/1\n",
      "18195/18195 [==============================] - 6s 337us/step - loss: 0.5275 - acc: 0.8143\n",
      "Epoch 1/1\n",
      "18195/18195 [==============================] - 6s 340us/step - loss: 0.5233 - acc: 0.8203\n",
      "Epoch 1/1\n",
      "18195/18195 [==============================] - 6s 336us/step - loss: 0.5207 - acc: 0.8180\n",
      "Epoch 1/1\n",
      "18195/18195 [==============================] - 6s 338us/step - loss: 0.5198 - acc: 0.8192\n",
      "Epoch 1/1\n",
      "18193/18193 [==============================] - 6s 340us/step - loss: 0.5010 - acc: 0.8266\n",
      "Epoch 1/1\n",
      "18191/18191 [==============================] - 6s 341us/step - loss: 0.5244 - acc: 0.8200\n",
      "Epoch 1/1\n",
      "18190/18190 [==============================] - 6s 341us/step - loss: 0.5150 - acc: 0.8209\n",
      "Epoch 1/1\n",
      "18190/18190 [==============================] - 6s 340us/step - loss: 0.5240 - acc: 0.8161\n",
      "Epoch 1/1\n",
      "18188/18188 [==============================] - 6s 340us/step - loss: 0.5109 - acc: 0.8220\n",
      "Epoch 1/1\n",
      "18182/18182 [==============================] - 6s 340us/step - loss: 0.5079 - acc: 0.8245\n",
      "Epoch 1/1\n",
      "18178/18178 [==============================] - 6s 338us/step - loss: 0.5146 - acc: 0.8219\n",
      "accuracy: 0.7854276094276095\n",
      "kappa: 0.7462385020407448\n",
      "             precision    recall  f1-score   support\n",
      "\n",
      "          0       0.80      0.92      0.86      9054\n",
      "          1       0.66      0.54      0.60      3187\n",
      "          2       0.94      0.89      0.92      3980\n",
      "          3       0.56      0.71      0.63       798\n",
      "          4       0.62      0.61      0.62      1065\n",
      "          5       0.53      0.49      0.51       379\n",
      "          6       0.66      0.42      0.51      1204\n",
      "          7       0.87      0.78      0.82      4324\n",
      "          8       0.83      0.88      0.85      8125\n",
      "          9       0.74      0.82      0.78      1354\n",
      "         10       0.39      0.32      0.35       132\n",
      "         11       0.68      0.62      0.65       214\n",
      "         12       0.68      0.77      0.72      1498\n",
      "         13       0.35      0.10      0.16       442\n",
      "         14       0.72      0.21      0.33       261\n",
      "         15       0.61      0.49      0.54       504\n",
      "         16       0.60      0.71      0.65       263\n",
      "         17       0.67      0.68      0.68       195\n",
      "         18       0.00      0.00      0.00        17\n",
      "         19       0.00      0.00      0.00       129\n",
      "\n",
      "avg / total       0.78      0.79      0.78     37125\n",
      "\n",
      "Epoch 1/1\n",
      "18195/18195 [==============================] - 6s 337us/step - loss: 0.5288 - acc: 0.8190\n",
      "Epoch 1/1\n",
      "18195/18195 [==============================] - 6s 342us/step - loss: 0.5137 - acc: 0.8208\n",
      "Epoch 1/1\n",
      "18195/18195 [==============================] - 6s 338us/step - loss: 0.5083 - acc: 0.8194\n",
      "Epoch 1/1\n",
      "18195/18195 [==============================] - 6s 337us/step - loss: 0.5132 - acc: 0.8217\n",
      "Epoch 1/1\n",
      "18193/18193 [==============================] - 6s 343us/step - loss: 0.4979 - acc: 0.8263\n",
      "Epoch 1/1\n",
      "18191/18191 [==============================] - 6s 342us/step - loss: 0.5093 - acc: 0.8204\n",
      "Epoch 1/1\n",
      "18190/18190 [==============================] - 6s 342us/step - loss: 0.5105 - acc: 0.8226\n",
      "Epoch 1/1\n",
      "18190/18190 [==============================] - 6s 343us/step - loss: 0.5173 - acc: 0.8161\n",
      "Epoch 1/1\n",
      "18188/18188 [==============================] - 6s 341us/step - loss: 0.5081 - acc: 0.8233\n",
      "Epoch 1/1\n",
      "18182/18182 [==============================] - 6s 337us/step - loss: 0.5050 - acc: 0.8253\n",
      "Epoch 1/1\n",
      "18178/18178 [==============================] - 6s 339us/step - loss: 0.5098 - acc: 0.8254\n",
      "accuracy: 0.7891986531986532\n",
      "kappa: 0.751341396429519\n",
      "             precision    recall  f1-score   support\n",
      "\n",
      "          0       0.82      0.92      0.86      9054\n",
      "          1       0.69      0.53      0.60      3187\n",
      "          2       0.93      0.91      0.92      3980\n",
      "          3       0.59      0.69      0.63       798\n",
      "          4       0.66      0.60      0.63      1065\n",
      "          5       0.45      0.69      0.55       379\n",
      "          6       0.65      0.42      0.51      1204\n",
      "          7       0.82      0.85      0.83      4324\n",
      "          8       0.84      0.86      0.85      8125\n",
      "          9       0.80      0.74      0.77      1354\n",
      "         10       0.39      0.33      0.35       132\n",
      "         11       0.62      0.64      0.63       214\n",
      "         12       0.69      0.76      0.72      1498\n",
      "         13       0.34      0.12      0.17       442\n",
      "         14       0.45      0.37      0.41       261\n",
      "         15       0.57      0.53      0.55       504\n",
      "         16       0.63      0.70      0.66       263\n",
      "         17       0.77      0.67      0.72       195\n",
      "         18       0.00      0.00      0.00        17\n",
      "         19       0.00      0.00      0.00       129\n",
      "\n",
      "avg / total       0.78      0.79      0.78     37125\n",
      "\n",
      "Epoch 1/1\n",
      "18195/18195 [==============================] - 6s 334us/step - loss: 0.5087 - acc: 0.8243\n",
      "Epoch 1/1\n",
      "18195/18195 [==============================] - 6s 333us/step - loss: 0.5194 - acc: 0.8198\n",
      "Epoch 1/1\n",
      "18195/18195 [==============================] - 6s 339us/step - loss: 0.4974 - acc: 0.8254\n",
      "Epoch 1/1\n",
      "18195/18195 [==============================] - 6s 338us/step - loss: 0.4942 - acc: 0.8243\n",
      "Epoch 1/1\n",
      "18193/18193 [==============================] - 6s 340us/step - loss: 0.4984 - acc: 0.8280\n",
      "Epoch 1/1\n",
      "18191/18191 [==============================] - 6s 338us/step - loss: 0.5005 - acc: 0.8221\n",
      "Epoch 1/1\n",
      "18190/18190 [==============================] - 6s 340us/step - loss: 0.4929 - acc: 0.8266\n",
      "Epoch 1/1\n",
      "18190/18190 [==============================] - 6s 340us/step - loss: 0.5072 - acc: 0.8223\n",
      "Epoch 1/1\n",
      "18188/18188 [==============================] - 6s 342us/step - loss: 0.4924 - acc: 0.8282\n",
      "Epoch 1/1\n",
      "18182/18182 [==============================] - 6s 339us/step - loss: 0.5026 - acc: 0.8274\n",
      "Epoch 1/1\n",
      "18178/18178 [==============================] - 6s 338us/step - loss: 0.4939 - acc: 0.8293\n",
      "accuracy: 0.7916228956228957\n",
      "kappa: 0.7543214643472373\n",
      "             precision    recall  f1-score   support\n",
      "\n",
      "          0       0.84      0.90      0.87      9054\n",
      "          1       0.64      0.58      0.61      3187\n",
      "          2       0.94      0.90      0.92      3980\n",
      "          3       0.63      0.64      0.64       798\n",
      "          4       0.72      0.55      0.62      1065\n",
      "          5       0.60      0.51      0.55       379\n",
      "          6       0.63      0.50      0.56      1204\n",
      "          7       0.80      0.86      0.83      4324\n",
      "          8       0.84      0.87      0.86      8125\n",
      "          9       0.76      0.80      0.78      1354\n",
      "         10       0.34      0.50      0.40       132\n",
      "         11       0.54      0.68      0.60       214\n",
      "         12       0.69      0.74      0.72      1498\n",
      "         13       0.34      0.07      0.12       442\n",
      "         14       0.53      0.26      0.35       261\n",
      "         15       0.59      0.50      0.54       504\n",
      "         16       0.64      0.65      0.65       263\n",
      "         17       0.62      0.73      0.67       195\n",
      "         18       0.00      0.00      0.00        17\n",
      "         19       0.00      0.00      0.00       129\n",
      "\n",
      "avg / total       0.78      0.79      0.78     37125\n",
      "\n"
     ]
    }
   ],
   "source": [
    "for it in range(10):\n",
    "  k_sample = StratifiedKFold(n_splits=total_batch, shuffle=True, random_state=1).split(range(len(y_train_class.values)), y_train_class.values)\n",
    "  for batch in k_sample:\n",
    "      X_batch = my_l_matrix[batch[1],:]\n",
    "      y_batch = to_categorical(y_train_class[batch[1]].values,20)\n",
    "\n",
    "      model.fit(X_batch,y_batch,epochs=1,batch_size=200)\n",
    "  y_pred = np.argmax(model.predict(my_test_matrix),axis=1)\n",
    "  from sklearn.metrics import classification_report,accuracy_score,cohen_kappa_score\n",
    "  acc = accuracy_score(y_test_class,y_pred)\n",
    "  kap = cohen_kappa_score(y_test_class,y_pred)\n",
    "  print(\"accuracy:\",acc)\n",
    "  print(\"kappa:\",kap)\n",
    "  print(classification_report(y_test_class,y_pred))\n",
    "  model.save(\"Dataset/arxiv/nn-model-conv-embed-b{}.h5\".format(it))"
   ]
  },
  {
   "cell_type": "code",
   "execution_count": 0,
   "metadata": {
    "colab": {},
    "colab_type": "code",
    "collapsed": true,
    "id": "M4PQzXDnexw8"
   },
   "outputs": [],
   "source": [
    "from keras.models import load_model\n",
    "model2 = load_model(\"Dataset/arxiv/nn-model-conv7c-4.h5\")\n",
    "#model.load_weights(\"Dataset/arxiv/nn-model-conv6b-1.h5\")"
   ]
  },
  {
   "cell_type": "code",
   "execution_count": 0,
   "metadata": {
    "colab": {
     "base_uri": "https://localhost:8080/",
     "height": 612
    },
    "colab_type": "code",
    "id": "frMLZoHAkD3h",
    "outputId": "a5b8560b-cda7-4c6a-ea4a-943b905e8101"
   },
   "outputs": [
    {
     "name": "stdout",
     "output_type": "stream",
     "text": [
      "_________________________________________________________________\n",
      "Layer (type)                 Output Shape              Param #   \n",
      "=================================================================\n",
      "input (InputLayer)           (None, 150)               0         \n",
      "_________________________________________________________________\n",
      "embedding (Embedding)        (None, 150, 300)          3968100   \n",
      "_________________________________________________________________\n",
      "dropout1 (Dropout)           (None, 150, 300)          0         \n",
      "_________________________________________________________________\n",
      "conv1 (Conv1D)               (None, 146, 256)          384256    \n",
      "_________________________________________________________________\n",
      "pool1 (MaxPooling1D)         (None, 48, 256)           0         \n",
      "_________________________________________________________________\n",
      "dropout2 (Dropout)           (None, 48, 256)           0         \n",
      "_________________________________________________________________\n",
      "cov2 (Conv1D)                (None, 46, 256)           196864    \n",
      "_________________________________________________________________\n",
      "pool2 (MaxPooling1D)         (None, 23, 256)           0         \n",
      "_________________________________________________________________\n",
      "dropout4 (Dropout)           (None, 23, 256)           0         \n",
      "_________________________________________________________________\n",
      "flatten (Flatten)            (None, 5888)              0         \n",
      "_________________________________________________________________\n",
      "dense1 (Dense)               (None, 512)               3015168   \n",
      "_________________________________________________________________\n",
      "dropout5 (Dropout)           (None, 512)               0         \n",
      "_________________________________________________________________\n",
      "dense2 (Dense)               (None, 256)               131328    \n",
      "_________________________________________________________________\n",
      "output (Dense)               (None, 20)                5140      \n",
      "=================================================================\n",
      "Total params: 7,700,856\n",
      "Trainable params: 7,700,856\n",
      "Non-trainable params: 0\n",
      "_________________________________________________________________\n"
     ]
    }
   ],
   "source": [
    "model2.summary()"
   ]
  },
  {
   "cell_type": "code",
   "execution_count": 0,
   "metadata": {
    "colab": {},
    "colab_type": "code",
    "collapsed": true,
    "id": "17V0W7ObfVbm"
   },
   "outputs": [],
   "source": [
    "from sklearn.metrics import confusion_matrix\n",
    "import itertools\n",
    "from matplotlib import pyplot as plt\n",
    "\n",
    "def plot_confusion_matrix(cm, classes,\n",
    "                          normalize=False,\n",
    "                          title='Confusion matrix',\n",
    "                          cmap=plt.cm.Blues):\n",
    "    \"\"\"\n",
    "    This function prints and plots the confusion matrix.\n",
    "    Normalization can be applied by setting `normalize=True`.\n",
    "    \"\"\"\n",
    "    if normalize:\n",
    "        cm = cm.astype('float') / cm.sum(axis=1)[:, np.newaxis]\n",
    "        print(\"Normalized confusion matrix\")\n",
    "    else:\n",
    "        print('Confusion matrix, without normalization')\n",
    "\n",
    "    #print(cm)\n",
    "\n",
    "    plt.imshow(cm, interpolation='nearest', cmap=cmap)\n",
    "    plt.title(title)\n",
    "    plt.colorbar()\n",
    "    tick_marks = np.arange(len(classes))\n",
    "    plt.xticks(tick_marks, classes, rotation=45)\n",
    "    plt.yticks(tick_marks, classes)\n",
    "\n",
    "    fmt = '.2f' if normalize else 'd'\n",
    "    thresh = cm.max() / 2.\n",
    "    for i, j in itertools.product(range(cm.shape[0]), range(cm.shape[1])):\n",
    "        plt.text(j, i, format(cm[i, j], fmt),\n",
    "                 horizontalalignment=\"center\",\n",
    "                 color=\"white\" if cm[i, j] > thresh else \"black\")\n",
    "\n",
    "    plt.tight_layout()\n",
    "    plt.ylabel('Truth')\n",
    "    plt.xlabel('Prediction')"
   ]
  },
  {
   "cell_type": "code",
   "execution_count": 0,
   "metadata": {
    "colab": {
     "base_uri": "https://localhost:8080/",
     "height": 510
    },
    "colab_type": "code",
    "id": "PbBBI5IShdDp",
    "outputId": "10ab03ec-984f-4c3c-e5ed-c0943ec15e97"
   },
   "outputs": [
    {
     "name": "stdout",
     "output_type": "stream",
     "text": [
      "accuracy: 0.8007272727272727\n",
      "kappa: 0.7655796878120434\n",
      "             precision    recall  f1-score   support\n",
      "\n",
      "       math       0.87      0.89      0.88      9054\n",
      "    physics       0.66      0.56      0.61      3187\n",
      "   astro-ph       0.92      0.93      0.92      3980\n",
      "      gr-qc       0.60      0.73      0.66       798\n",
      "     hep-th       0.74      0.68      0.71      1065\n",
      "    nucl-th       0.66      0.60      0.63       379\n",
      "       stat       0.62      0.47      0.54      1204\n",
      "   cond-mat       0.80      0.87      0.84      4324\n",
      "         cs       0.83      0.89      0.86      8125\n",
      "     hep-ph       0.83      0.77      0.80      1354\n",
      "    nucl-ex       0.38      0.52      0.44       132\n",
      "      q-fin       0.72      0.60      0.65       214\n",
      "   quant-ph       0.77      0.71      0.74      1498\n",
      "    math-ph       0.31      0.27      0.29       442\n",
      "       nlin       0.52      0.35      0.42       261\n",
      "      q-bio       0.54      0.53      0.54       504\n",
      "     hep-ex       0.62      0.69      0.65       263\n",
      "    hep-lat       0.78      0.77      0.77       195\n",
      "       econ       0.00      0.00      0.00        17\n",
      "       eess       0.08      0.01      0.01       129\n",
      "\n",
      "avg / total       0.79      0.80      0.80     37125\n",
      "\n"
     ]
    },
    {
     "name": "stderr",
     "output_type": "stream",
     "text": [
      "/usr/local/lib/python3.6/dist-packages/sklearn/metrics/classification.py:1135: UndefinedMetricWarning: Precision and F-score are ill-defined and being set to 0.0 in labels with no predicted samples.\n",
      "  'precision', 'predicted', average, warn_for)\n"
     ]
    }
   ],
   "source": [
    "y_pred = np.argmax(model2.predict(my_test_matrix),axis=1)\n",
    "from sklearn.metrics import classification_report,accuracy_score,cohen_kappa_score\n",
    "acc = accuracy_score(y_test_class,y_pred)\n",
    "kap = cohen_kappa_score(y_test_class,y_pred)\n",
    "print(\"accuracy:\",acc)\n",
    "print(\"kappa:\",kap)\n",
    "print(classification_report(y_test_class,y_pred,target_names=y_train_label_l))"
   ]
  },
  {
   "cell_type": "code",
   "execution_count": 0,
   "metadata": {
    "colab": {
     "base_uri": "https://localhost:8080/",
     "height": 1102
    },
    "colab_type": "code",
    "id": "kFpHTB_3hdDv",
    "outputId": "0061a4e6-9fc9-47ca-d1be-4460ba00c040"
   },
   "outputs": [
    {
     "name": "stdout",
     "output_type": "stream",
     "text": [
      "Normalized confusion matrix\n"
     ]
    },
    {
     "data": {
      "image/png": "[encoded data removed]",
      "text/plain": [
       "<matplotlib.figure.Figure at 0x7f09623d75c0>"
      ]
     },
     "metadata": {
      "tags": []
     },
     "output_type": "display_data"
    }
   ],
   "source": [
    "import numpy as np\n",
    "cnf_matrix = confusion_matrix(y_test_class,y_pred)\n",
    "np.set_printoptions(precision=2)\n",
    "\n",
    "# Plot normalized confusion matrix\n",
    "plt.figure(figsize=(15,15))\n",
    "plot_confusion_matrix(cnf_matrix, classes=y_train_label_l, normalize=True,\n",
    "                      title=\"{} model\".format(\"Convolutional Neural Network With Pretrained Embedding\"))"
   ]
  }
 ],
 "metadata": {
  "accelerator": "GPU",
  "colab": {
   "collapsed_sections": [],
   "name": "4th_model_nn_conv strata drop select feature - embedding",
   "provenance": [],
   "version": "0.3.2"
  },
  "kernelspec": {
   "display_name": "Python [Root]",
   "language": "python",
   "name": "Python [Root]"
  },
  "language_info": {
   "codemirror_mode": {
    "name": "ipython",
    "version": 3
   },
   "file_extension": ".py",
   "mimetype": "text/x-python",
   "name": "python",
   "nbconvert_exporter": "python",
   "pygments_lexer": "ipython3",
   "version": "3.5.6"
  }
 },
 "nbformat": 4,
 "nbformat_minor": 1
}
